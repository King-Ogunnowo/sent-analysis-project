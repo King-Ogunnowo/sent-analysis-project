{
 "cells": [
  {
   "cell_type": "markdown",
   "metadata": {},
   "source": [
    "# Creating a Sentiment Analysis Web App\n",
    "## Using PyTorch and SageMaker\n",
    "\n",
    "_Deep Learning Nanodegree Program | Deployment_\n",
    "\n",
    "---\n",
    "\n",
    "Now that we have a basic understanding of how SageMaker works we will try to use it to construct a complete project from end to end. Our goal will be to have a simple web page which a user can use to enter a movie review. The web page will then send the review off to our deployed model which will predict the sentiment of the entered review.\n",
    "\n",
    "## Instructions\n",
    "\n",
    "Some template code has already been provided for you, and you will need to implement additional functionality to successfully complete this notebook. You will not need to modify the included code beyond what is requested. Sections that begin with '**TODO**' in the header indicate that you need to complete or implement some portion within them. Instructions will be provided for each section and the specifics of the implementation are marked in the code block with a `# TODO: ...` comment. Please be sure to read the instructions carefully!\n",
    "\n",
    "In addition to implementing code, there will be questions for you to answer which relate to the task and your implementation. Each section where you will answer a question is preceded by a '**Question:**' header. Carefully read each question and provide your answer below the '**Answer:**' header by editing the Markdown cell.\n",
    "\n",
    "> **Note**: Code and Markdown cells can be executed using the **Shift+Enter** keyboard shortcut. In addition, a cell can be edited by typically clicking it (double-click for Markdown cells) or by pressing **Enter** while it is highlighted.\n",
    "\n",
    "## General Outline\n",
    "\n",
    "Recall the general outline for SageMaker projects using a notebook instance.\n",
    "\n",
    "1. Download or otherwise retrieve the data.\n",
    "2. Process / Prepare the data.\n",
    "3. Upload the processed data to S3.\n",
    "4. Train a chosen model.\n",
    "5. Test the trained model (typically using a batch transform job).\n",
    "6. Deploy the trained model.\n",
    "7. Use the deployed model.\n",
    "\n",
    "For this project, you will be following the steps in the general outline with some modifications. \n",
    "\n",
    "First, you will not be testing the model in its own step. You will still be testing the model, however, you will do it by deploying your model and then using the deployed model by sending the test data to it. One of the reasons for doing this is so that you can make sure that your deployed model is working correctly before moving forward.\n",
    "\n",
    "In addition, you will deploy and use your trained model a second time. In the second iteration you will customize the way that your trained model is deployed by including some of your own code. In addition, your newly deployed model will be used in the sentiment analysis web app."
   ]
  },
  {
   "cell_type": "code",
   "execution_count": 1,
   "metadata": {},
   "outputs": [
    {
     "name": "stdout",
     "output_type": "stream",
     "text": [
      "Collecting sagemaker==1.72.0\n",
      "  Downloading sagemaker-1.72.0.tar.gz (297 kB)\n",
      "\u001b[K     |████████████████████████████████| 297 kB 6.1 MB/s eta 0:00:01\n",
      "\u001b[?25hRequirement already satisfied: boto3>=1.14.12 in /home/ec2-user/anaconda3/envs/pytorch_p36/lib/python3.6/site-packages (from sagemaker==1.72.0) (1.16.37)\n",
      "Requirement already satisfied: numpy>=1.9.0 in /home/ec2-user/anaconda3/envs/pytorch_p36/lib/python3.6/site-packages (from sagemaker==1.72.0) (1.19.4)\n",
      "Requirement already satisfied: protobuf>=3.1 in /home/ec2-user/anaconda3/envs/pytorch_p36/lib/python3.6/site-packages (from sagemaker==1.72.0) (3.14.0)\n",
      "Requirement already satisfied: scipy>=0.19.0 in /home/ec2-user/anaconda3/envs/pytorch_p36/lib/python3.6/site-packages (from sagemaker==1.72.0) (1.4.1)\n",
      "Requirement already satisfied: protobuf3-to-dict>=0.1.5 in /home/ec2-user/anaconda3/envs/pytorch_p36/lib/python3.6/site-packages (from sagemaker==1.72.0) (0.1.5)\n",
      "Requirement already satisfied: importlib-metadata>=1.4.0 in /home/ec2-user/anaconda3/envs/pytorch_p36/lib/python3.6/site-packages (from sagemaker==1.72.0) (3.1.0)\n",
      "Requirement already satisfied: packaging>=20.0 in /home/ec2-user/anaconda3/envs/pytorch_p36/lib/python3.6/site-packages (from sagemaker==1.72.0) (20.7)\n",
      "Requirement already satisfied: s3transfer<0.4.0,>=0.3.0 in /home/ec2-user/anaconda3/envs/pytorch_p36/lib/python3.6/site-packages (from boto3>=1.14.12->sagemaker==1.72.0) (0.3.3)\n",
      "Requirement already satisfied: botocore<1.20.0,>=1.19.37 in /home/ec2-user/anaconda3/envs/pytorch_p36/lib/python3.6/site-packages (from boto3>=1.14.12->sagemaker==1.72.0) (1.19.37)\n",
      "Requirement already satisfied: jmespath<1.0.0,>=0.7.1 in /home/ec2-user/anaconda3/envs/pytorch_p36/lib/python3.6/site-packages (from boto3>=1.14.12->sagemaker==1.72.0) (0.10.0)\n",
      "Requirement already satisfied: urllib3<1.27,>=1.25.4 in /home/ec2-user/anaconda3/envs/pytorch_p36/lib/python3.6/site-packages (from botocore<1.20.0,>=1.19.37->boto3>=1.14.12->sagemaker==1.72.0) (1.25.11)\n",
      "Requirement already satisfied: python-dateutil<3.0.0,>=2.1 in /home/ec2-user/anaconda3/envs/pytorch_p36/lib/python3.6/site-packages (from botocore<1.20.0,>=1.19.37->boto3>=1.14.12->sagemaker==1.72.0) (2.8.1)\n",
      "Requirement already satisfied: jmespath<1.0.0,>=0.7.1 in /home/ec2-user/anaconda3/envs/pytorch_p36/lib/python3.6/site-packages (from boto3>=1.14.12->sagemaker==1.72.0) (0.10.0)\n",
      "Requirement already satisfied: zipp>=0.5 in /home/ec2-user/anaconda3/envs/pytorch_p36/lib/python3.6/site-packages (from importlib-metadata>=1.4.0->sagemaker==1.72.0) (3.4.0)\n",
      "Requirement already satisfied: pyparsing>=2.0.2 in /home/ec2-user/anaconda3/envs/pytorch_p36/lib/python3.6/site-packages (from packaging>=20.0->sagemaker==1.72.0) (2.4.7)\n",
      "Requirement already satisfied: six>=1.9 in /home/ec2-user/anaconda3/envs/pytorch_p36/lib/python3.6/site-packages (from protobuf>=3.1->sagemaker==1.72.0) (1.15.0)\n",
      "Requirement already satisfied: protobuf>=3.1 in /home/ec2-user/anaconda3/envs/pytorch_p36/lib/python3.6/site-packages (from sagemaker==1.72.0) (3.14.0)\n",
      "Requirement already satisfied: six>=1.9 in /home/ec2-user/anaconda3/envs/pytorch_p36/lib/python3.6/site-packages (from protobuf>=3.1->sagemaker==1.72.0) (1.15.0)\n",
      "Requirement already satisfied: six>=1.9 in /home/ec2-user/anaconda3/envs/pytorch_p36/lib/python3.6/site-packages (from protobuf>=3.1->sagemaker==1.72.0) (1.15.0)\n",
      "Requirement already satisfied: botocore<1.20.0,>=1.19.37 in /home/ec2-user/anaconda3/envs/pytorch_p36/lib/python3.6/site-packages (from boto3>=1.14.12->sagemaker==1.72.0) (1.19.37)\n",
      "Requirement already satisfied: numpy>=1.9.0 in /home/ec2-user/anaconda3/envs/pytorch_p36/lib/python3.6/site-packages (from sagemaker==1.72.0) (1.19.4)\n",
      "Collecting smdebug-rulesconfig==0.1.4\n",
      "  Downloading smdebug_rulesconfig-0.1.4-py2.py3-none-any.whl (10 kB)\n",
      "Building wheels for collected packages: sagemaker\n",
      "  Building wheel for sagemaker (setup.py) ... \u001b[?25ldone\n",
      "\u001b[?25h  Created wheel for sagemaker: filename=sagemaker-1.72.0-py2.py3-none-any.whl size=386358 sha256=89da61d82fa67a0374d1171b967beeab1e77c8ccfa97e41bab03d95ba66306eb\n",
      "  Stored in directory: /home/ec2-user/.cache/pip/wheels/c3/58/70/85faf4437568bfaa4c419937569ba1fe54d44c5db42406bbd7\n",
      "Successfully built sagemaker\n",
      "Installing collected packages: smdebug-rulesconfig, sagemaker\n",
      "  Attempting uninstall: smdebug-rulesconfig\n",
      "    Found existing installation: smdebug-rulesconfig 1.0.0\n",
      "    Uninstalling smdebug-rulesconfig-1.0.0:\n",
      "      Successfully uninstalled smdebug-rulesconfig-1.0.0\n",
      "  Attempting uninstall: sagemaker\n",
      "    Found existing installation: sagemaker 2.19.0\n",
      "    Uninstalling sagemaker-2.19.0:\n",
      "      Successfully uninstalled sagemaker-2.19.0\n",
      "Successfully installed sagemaker-1.72.0 smdebug-rulesconfig-0.1.4\n",
      "\u001b[33mWARNING: You are using pip version 20.3; however, version 20.3.3 is available.\n",
      "You should consider upgrading via the '/home/ec2-user/anaconda3/envs/pytorch_p36/bin/python -m pip install --upgrade pip' command.\u001b[0m\n"
     ]
    }
   ],
   "source": [
    "# Make sure that we use SageMaker 1.x\n",
    "!pip install sagemaker==1.72.0"
   ]
  },
  {
   "cell_type": "markdown",
   "metadata": {},
   "source": [
    "## Step 1: Downloading the data\n",
    "\n",
    "As in the XGBoost in SageMaker notebook, we will be using the [IMDb dataset](http://ai.stanford.edu/~amaas/data/sentiment/)\n",
    "\n",
    "> Maas, Andrew L., et al. [Learning Word Vectors for Sentiment Analysis](http://ai.stanford.edu/~amaas/data/sentiment/). In _Proceedings of the 49th Annual Meeting of the Association for Computational Linguistics: Human Language Technologies_. Association for Computational Linguistics, 2011."
   ]
  },
  {
   "cell_type": "code",
   "execution_count": 2,
   "metadata": {},
   "outputs": [
    {
     "name": "stdout",
     "output_type": "stream",
     "text": [
      "mkdir: cannot create directory ‘../data’: File exists\n",
      "--2020-12-22 15:25:39--  http://ai.stanford.edu/~amaas/data/sentiment/aclImdb_v1.tar.gz\n",
      "Resolving ai.stanford.edu (ai.stanford.edu)... 171.64.68.10\n",
      "Connecting to ai.stanford.edu (ai.stanford.edu)|171.64.68.10|:80... connected.\n",
      "HTTP request sent, awaiting response... 200 OK\n",
      "Length: 84125825 (80M) [application/x-gzip]\n",
      "Saving to: ‘../data/aclImdb_v1.tar.gz’\n",
      "\n",
      "../data/aclImdb_v1. 100%[===================>]  80.23M  25.2MB/s    in 4.1s    \n",
      "\n",
      "2020-12-22 15:25:43 (19.7 MB/s) - ‘../data/aclImdb_v1.tar.gz’ saved [84125825/84125825]\n",
      "\n"
     ]
    }
   ],
   "source": [
    "%mkdir ../data\n",
    "!wget -O ../data/aclImdb_v1.tar.gz http://ai.stanford.edu/~amaas/data/sentiment/aclImdb_v1.tar.gz\n",
    "!tar -zxf ../data/aclImdb_v1.tar.gz -C ../data"
   ]
  },
  {
   "cell_type": "markdown",
   "metadata": {},
   "source": [
    "## Step 2: Preparing and Processing the data\n",
    "\n",
    "Also, as in the XGBoost notebook, we will be doing some initial data processing. The first few steps are the same as in the XGBoost example. To begin with, we will read in each of the reviews and combine them into a single input structure. Then, we will split the dataset into a training set and a testing set."
   ]
  },
  {
   "cell_type": "code",
   "execution_count": 3,
   "metadata": {},
   "outputs": [],
   "source": [
    "import os\n",
    "import glob\n",
    "\n",
    "def read_imdb_data(data_dir='../data/aclImdb'):\n",
    "    data = {}\n",
    "    labels = {}\n",
    "    \n",
    "    for data_type in ['train', 'test']:\n",
    "        data[data_type] = {}\n",
    "        labels[data_type] = {}\n",
    "        \n",
    "        for sentiment in ['pos', 'neg']:\n",
    "            data[data_type][sentiment] = []\n",
    "            labels[data_type][sentiment] = []\n",
    "            \n",
    "            path = os.path.join(data_dir, data_type, sentiment, '*.txt')\n",
    "            files = glob.glob(path)\n",
    "            \n",
    "            for f in files:\n",
    "                with open(f) as review:\n",
    "                    data[data_type][sentiment].append(review.read())\n",
    "                    # Here we represent a positive review by '1' and a negative review by '0'\n",
    "                    labels[data_type][sentiment].append(1 if sentiment == 'pos' else 0)\n",
    "                    \n",
    "            assert len(data[data_type][sentiment]) == len(labels[data_type][sentiment]), \\\n",
    "                    \"{}/{} data size does not match labels size\".format(data_type, sentiment)\n",
    "                \n",
    "    return data, labels"
   ]
  },
  {
   "cell_type": "code",
   "execution_count": 4,
   "metadata": {},
   "outputs": [
    {
     "name": "stdout",
     "output_type": "stream",
     "text": [
      "IMDB reviews: train = 12500 pos / 12500 neg, test = 12500 pos / 12500 neg\n"
     ]
    }
   ],
   "source": [
    "data, labels = read_imdb_data()\n",
    "print(\"IMDB reviews: train = {} pos / {} neg, test = {} pos / {} neg\".format(\n",
    "            len(data['train']['pos']), len(data['train']['neg']),\n",
    "            len(data['test']['pos']), len(data['test']['neg'])))"
   ]
  },
  {
   "cell_type": "markdown",
   "metadata": {},
   "source": [
    "Now that we've read the raw training and testing data from the downloaded dataset, we will combine the positive and negative reviews and shuffle the resulting records."
   ]
  },
  {
   "cell_type": "code",
   "execution_count": 5,
   "metadata": {},
   "outputs": [],
   "source": [
    "from sklearn.utils import shuffle\n",
    "\n",
    "def prepare_imdb_data(data, labels):\n",
    "    \"\"\"Prepare training and test sets from IMDb movie reviews.\"\"\"\n",
    "    \n",
    "    #Combine positive and negative reviews and labels\n",
    "    data_train = data['train']['pos'] + data['train']['neg']\n",
    "    data_test = data['test']['pos'] + data['test']['neg']\n",
    "    labels_train = labels['train']['pos'] + labels['train']['neg']\n",
    "    labels_test = labels['test']['pos'] + labels['test']['neg']\n",
    "    \n",
    "    #Shuffle reviews and corresponding labels within training and test sets\n",
    "    data_train, labels_train = shuffle(data_train, labels_train)\n",
    "    data_test, labels_test = shuffle(data_test, labels_test)\n",
    "    \n",
    "    # Return a unified training data, test data, training labels, test labets\n",
    "    return data_train, data_test, labels_train, labels_test"
   ]
  },
  {
   "cell_type": "code",
   "execution_count": 6,
   "metadata": {},
   "outputs": [
    {
     "name": "stdout",
     "output_type": "stream",
     "text": [
      "IMDb reviews (combined): train = 25000, test = 25000\n"
     ]
    }
   ],
   "source": [
    "train_X, test_X, train_y, test_y = prepare_imdb_data(data, labels)\n",
    "print(\"IMDb reviews (combined): train = {}, test = {}\".format(len(train_X), len(test_X)))"
   ]
  },
  {
   "cell_type": "markdown",
   "metadata": {},
   "source": [
    "Now that we have our training and testing sets unified and prepared, we should do a quick check and see an example of the data our model will be trained on. This is generally a good idea as it allows you to see how each of the further processing steps affects the reviews and it also ensures that the data has been loaded correctly."
   ]
  },
  {
   "cell_type": "code",
   "execution_count": 7,
   "metadata": {},
   "outputs": [
    {
     "name": "stdout",
     "output_type": "stream",
     "text": [
      "High heels are tricksy things. They can elevate women (or cross-dressing men) to newfound heights, put forward a sharp statement of style and bring a touch of fragile elegance. Alternatively, they can be a perilous foot pain that will inevitably lead to trips, falls and ultimate tragedy. Tacones lejanos is more of a disappointment trip than a stylish high riser.<br /><br />Almodóvar's mother-daughter drama is stylish for sure, but in terms of plot it's a tongue-tied and tedious affair full of confusing, complex characters that never fully engage or make sense. A few moments of comedy aside, Tacones lejanos just isn't interesting. The best bit comes at the beginning in a marvellously macabre case of manslaughter orchestrated by a child. From this brilliant bit of black comedy things are looking up, but then the film comes to a heel.<br /><br />There's solid enough acting performances and there's some stylish, arty direction that you'd expect from Almodóvar, but otherwise Tacones lejanos isn't an impressive piece of Spanish cinema. With a story of murder, showbiz, femininity, fractured mother-daughter relationship and a character who is alternately a judge, a transvestite and a police informer this could have been a melodramatic powerhouse. Instead it's poor. High Heels stumbles for sure.\n",
      "0\n"
     ]
    }
   ],
   "source": [
    "print(train_X[100])\n",
    "print(train_y[100])"
   ]
  },
  {
   "cell_type": "markdown",
   "metadata": {},
   "source": [
    "The first step in processing the reviews is to make sure that any html tags that appear should be removed. In addition we wish to tokenize our input, that way words such as *entertained* and *entertaining* are considered the same with regard to sentiment analysis."
   ]
  },
  {
   "cell_type": "code",
   "execution_count": 8,
   "metadata": {},
   "outputs": [],
   "source": [
    "import nltk\n",
    "from nltk.corpus import stopwords\n",
    "from nltk.stem.porter import *\n",
    "\n",
    "import re\n",
    "from bs4 import BeautifulSoup\n",
    "\n",
    "def review_to_words(review):\n",
    "    nltk.download(\"stopwords\", quiet=True)\n",
    "    stemmer = PorterStemmer()\n",
    "    \n",
    "    text = BeautifulSoup(review, \"html.parser\").get_text() # Remove HTML tags\n",
    "    text = re.sub(r\"[^a-zA-Z0-9]\", \" \", text.lower()) # Convert to lower case\n",
    "    words = text.split() # Split string into words\n",
    "    words = [w for w in words if w not in stopwords.words(\"english\")] # Remove stopwords\n",
    "    words = [PorterStemmer().stem(w) for w in words] # stem\n",
    "    \n",
    "    return words"
   ]
  },
  {
   "cell_type": "markdown",
   "metadata": {},
   "source": [
    "The `review_to_words` method defined above uses `BeautifulSoup` to remove any html tags that appear and uses the `nltk` package to tokenize the reviews. As a check to ensure we know how everything is working, try applying `review_to_words` to one of the reviews in the training set."
   ]
  },
  {
   "cell_type": "code",
   "execution_count": 9,
   "metadata": {},
   "outputs": [
    {
     "data": {
      "text/plain": [
       "['high',\n",
       " 'heel',\n",
       " 'tricksi',\n",
       " 'thing',\n",
       " 'elev',\n",
       " 'women',\n",
       " 'cross',\n",
       " 'dress',\n",
       " 'men',\n",
       " 'newfound',\n",
       " 'height',\n",
       " 'put',\n",
       " 'forward',\n",
       " 'sharp',\n",
       " 'statement',\n",
       " 'style',\n",
       " 'bring',\n",
       " 'touch',\n",
       " 'fragil',\n",
       " 'eleg',\n",
       " 'altern',\n",
       " 'peril',\n",
       " 'foot',\n",
       " 'pain',\n",
       " 'inevit',\n",
       " 'lead',\n",
       " 'trip',\n",
       " 'fall',\n",
       " 'ultim',\n",
       " 'tragedi',\n",
       " 'tacon',\n",
       " 'lejano',\n",
       " 'disappoint',\n",
       " 'trip',\n",
       " 'stylish',\n",
       " 'high',\n",
       " 'riser',\n",
       " 'almod',\n",
       " 'var',\n",
       " 'mother',\n",
       " 'daughter',\n",
       " 'drama',\n",
       " 'stylish',\n",
       " 'sure',\n",
       " 'term',\n",
       " 'plot',\n",
       " 'tongu',\n",
       " 'tie',\n",
       " 'tediou',\n",
       " 'affair',\n",
       " 'full',\n",
       " 'confus',\n",
       " 'complex',\n",
       " 'charact',\n",
       " 'never',\n",
       " 'fulli',\n",
       " 'engag',\n",
       " 'make',\n",
       " 'sens',\n",
       " 'moment',\n",
       " 'comedi',\n",
       " 'asid',\n",
       " 'tacon',\n",
       " 'lejano',\n",
       " 'interest',\n",
       " 'best',\n",
       " 'bit',\n",
       " 'come',\n",
       " 'begin',\n",
       " 'marvel',\n",
       " 'macabr',\n",
       " 'case',\n",
       " 'manslaught',\n",
       " 'orchestr',\n",
       " 'child',\n",
       " 'brilliant',\n",
       " 'bit',\n",
       " 'black',\n",
       " 'comedi',\n",
       " 'thing',\n",
       " 'look',\n",
       " 'film',\n",
       " 'come',\n",
       " 'heel',\n",
       " 'solid',\n",
       " 'enough',\n",
       " 'act',\n",
       " 'perform',\n",
       " 'stylish',\n",
       " 'arti',\n",
       " 'direct',\n",
       " 'expect',\n",
       " 'almod',\n",
       " 'var',\n",
       " 'otherwis',\n",
       " 'tacon',\n",
       " 'lejano',\n",
       " 'impress',\n",
       " 'piec',\n",
       " 'spanish',\n",
       " 'cinema',\n",
       " 'stori',\n",
       " 'murder',\n",
       " 'showbiz',\n",
       " 'feminin',\n",
       " 'fractur',\n",
       " 'mother',\n",
       " 'daughter',\n",
       " 'relationship',\n",
       " 'charact',\n",
       " 'altern',\n",
       " 'judg',\n",
       " 'transvestit',\n",
       " 'polic',\n",
       " 'inform',\n",
       " 'could',\n",
       " 'melodramat',\n",
       " 'powerhous',\n",
       " 'instead',\n",
       " 'poor',\n",
       " 'high',\n",
       " 'heel',\n",
       " 'stumbl',\n",
       " 'sure']"
      ]
     },
     "execution_count": 9,
     "metadata": {},
     "output_type": "execute_result"
    }
   ],
   "source": [
    "# TODO: Apply review_to_words to a review (train_X[100] or any other review)\n",
    "review_to_words(train_X[100])"
   ]
  },
  {
   "cell_type": "markdown",
   "metadata": {},
   "source": [
    "**Question:** Above we mentioned that `review_to_words` method removes html formatting and allows us to tokenize the words found in a review, for example, converting *entertained* and *entertaining* into *entertain* so that they are treated as though they are the same word. What else, if anything, does this method do to the input?"
   ]
  },
  {
   "cell_type": "markdown",
   "metadata": {},
   "source": [
    "**Answer:** The review_to_words method helps to split strings into words, convert words to lowercase and removes stopwords"
   ]
  },
  {
   "cell_type": "markdown",
   "metadata": {},
   "source": [
    "The method below applies the `review_to_words` method to each of the reviews in the training and testing datasets. In addition it caches the results. This is because performing this processing step can take a long time. This way if you are unable to complete the notebook in the current session, you can come back without needing to process the data a second time."
   ]
  },
  {
   "cell_type": "code",
   "execution_count": 10,
   "metadata": {},
   "outputs": [],
   "source": [
    "import pickle\n",
    "\n",
    "cache_dir = os.path.join(\"../cache\", \"sentiment_analysis\")  # where to store cache files\n",
    "os.makedirs(cache_dir, exist_ok=True)  # ensure cache directory exists\n",
    "\n",
    "def preprocess_data(data_train, data_test, labels_train, labels_test,\n",
    "                    cache_dir=cache_dir, cache_file=\"preprocessed_data.pkl\"):\n",
    "    \"\"\"Convert each review to words; read from cache if available.\"\"\"\n",
    "\n",
    "    # If cache_file is not None, try to read from it first\n",
    "    cache_data = None\n",
    "    if cache_file is not None:\n",
    "        try:\n",
    "            with open(os.path.join(cache_dir, cache_file), \"rb\") as f:\n",
    "                cache_data = pickle.load(f)\n",
    "            print(\"Read preprocessed data from cache file:\", cache_file)\n",
    "        except:\n",
    "            pass  # unable to read from cache, but that's okay\n",
    "    \n",
    "    # If cache is missing, then do the heavy lifting\n",
    "    if cache_data is None:\n",
    "        # Preprocess training and test data to obtain words for each review\n",
    "        #words_train = list(map(review_to_words, data_train))\n",
    "        #words_test = list(map(review_to_words, data_test))\n",
    "        words_train = [review_to_words(review) for review in data_train]\n",
    "        words_test = [review_to_words(review) for review in data_test]\n",
    "        \n",
    "        # Write to cache file for future runs\n",
    "        if cache_file is not None:\n",
    "            cache_data = dict(words_train=words_train, words_test=words_test,\n",
    "                              labels_train=labels_train, labels_test=labels_test)\n",
    "            with open(os.path.join(cache_dir, cache_file), \"wb\") as f:\n",
    "                pickle.dump(cache_data, f)\n",
    "            print(\"Wrote preprocessed data to cache file:\", cache_file)\n",
    "    else:\n",
    "        # Unpack data loaded from cache file\n",
    "        words_train, words_test, labels_train, labels_test = (cache_data['words_train'],\n",
    "                cache_data['words_test'], cache_data['labels_train'], cache_data['labels_test'])\n",
    "    \n",
    "    return words_train, words_test, labels_train, labels_test"
   ]
  },
  {
   "cell_type": "code",
   "execution_count": 11,
   "metadata": {},
   "outputs": [
    {
     "name": "stdout",
     "output_type": "stream",
     "text": [
      "Read preprocessed data from cache file: preprocessed_data.pkl\n"
     ]
    }
   ],
   "source": [
    "# Preprocess data\n",
    "train_X, test_X, train_y, test_y = preprocess_data(train_X, test_X, train_y, test_y)"
   ]
  },
  {
   "cell_type": "markdown",
   "metadata": {},
   "source": [
    "## Transform the data\n",
    "\n",
    "In the XGBoost notebook we transformed the data from its word representation to a bag-of-words feature representation. For the model we are going to construct in this notebook we will construct a feature representation which is very similar. To start, we will represent each word as an integer. Of course, some of the words that appear in the reviews occur very infrequently and so likely don't contain much information for the purposes of sentiment analysis. The way we will deal with this problem is that we will fix the size of our working vocabulary and we will only include the words that appear most frequently. We will then combine all of the infrequent words into a single category and, in our case, we will label it as `1`.\n",
    "\n",
    "Since we will be using a recurrent neural network, it will be convenient if the length of each review is the same. To do this, we will fix a size for our reviews and then pad short reviews with the category 'no word' (which we will label `0`) and truncate long reviews."
   ]
  },
  {
   "cell_type": "markdown",
   "metadata": {},
   "source": [
    "### (TODO) Create a word dictionary\n",
    "\n",
    "To begin with, we need to construct a way to map words that appear in the reviews to integers. Here we fix the size of our vocabulary (including the 'no word' and 'infrequent' categories) to be `5000` but you may wish to change this to see how it affects the model.\n",
    "\n",
    "> **TODO:** Complete the implementation for the `build_dict()` method below. Note that even though the vocab_size is set to `5000`, we only want to construct a mapping for the most frequently appearing `4998` words. This is because we want to reserve the special labels `0` for 'no word' and `1` for 'infrequent word'."
   ]
  },
  {
   "cell_type": "code",
   "execution_count": 12,
   "metadata": {},
   "outputs": [],
   "source": [
    "import numpy as np\n",
    "from collections import Counter\n",
    "def build_dict(data, vocab_size = 4999):\n",
    "    \"\"\"Construct and return a dictionary mapping each of the most frequently appearing words to a unique integer.\"\"\"\n",
    "    \n",
    "    # TODO: Determine how often each word appears in `data`. Note that `data` is a list of sentences and that a\n",
    "    #       sentence is a list of words.\n",
    "    flat_word_list = [item for sublist in data for item in sublist]\n",
    "    word_count = Counter(flat_word_list) # A dict storing the words that appear in the reviews along with how often they occur\n",
    "    \n",
    "    # TODO: Sort the words found in `data` so that sorted_words[0] is the most frequently appearing word and\n",
    "    #       sorted_words[-1] is the least frequently appearing word.\n",
    "    sorted_words = dict(word_count.most_common())\n",
    "    sorted_words = list(sorted_words.keys())\n",
    "    \n",
    "    #sorted_words = None\n",
    "    \n",
    "    word_dict = {} # This is what we are building, a dictionary that translates words into integers\n",
    "    for idx, word in enumerate(sorted_words[:vocab_size - 2]): # The -2 is so that we save room for the 'no word'\n",
    "        word_dict[word] = idx + 2                              # 'infrequent' labels\n",
    "        \n",
    "    return word_dict"
   ]
  },
  {
   "cell_type": "code",
   "execution_count": 13,
   "metadata": {},
   "outputs": [],
   "source": [
    "word_dict = build_dict(train_X)"
   ]
  },
  {
   "cell_type": "markdown",
   "metadata": {},
   "source": [
    "**Question:** What are the five most frequently appearing (tokenized) words in the training set? Does it makes sense that these words appear frequently in the training set?"
   ]
  },
  {
   "cell_type": "markdown",
   "metadata": {},
   "source": [
    "**Answer:** The five most frequent words appearing in the training set are: ghetto, sophi, casper, ingrid, turtl. "
   ]
  },
  {
   "cell_type": "code",
   "execution_count": 14,
   "metadata": {},
   "outputs": [
    {
     "name": "stdout",
     "output_type": "stream",
     "text": [
      "{'movi': 2, 'film': 3, 'one': 4, 'like': 5, 'time': 6, 'good': 7, 'make': 8, 'charact': 9, 'get': 10, 'see': 11, 'watch': 12, 'stori': 13, 'even': 14, 'would': 15, 'realli': 16, 'well': 17, 'scene': 18, 'look': 19, 'show': 20, 'much': 21, 'end': 22, 'peopl': 23, 'bad': 24, 'go': 25, 'great': 26, 'also': 27, 'first': 28, 'love': 29, 'think': 30, 'way': 31, 'act': 32, 'play': 33, 'made': 34, 'thing': 35, 'could': 36, 'know': 37, 'say': 38, 'seem': 39, 'work': 40, 'plot': 41, 'two': 42, 'actor': 43, 'year': 44, 'come': 45, 'mani': 46, 'seen': 47, 'take': 48, 'want': 49, 'life': 50, 'never': 51, 'littl': 52, 'best': 53, 'tri': 54, 'man': 55, 'ever': 56, 'give': 57, 'better': 58, 'still': 59, 'perform': 60, 'find': 61, 'feel': 62, 'part': 63, 'back': 64, 'use': 65, 'someth': 66, 'director': 67, 'actual': 68, 'interest': 69, 'lot': 70, 'real': 71, 'old': 72, 'cast': 73, 'though': 74, 'live': 75, 'star': 76, 'enjoy': 77, 'guy': 78, 'anoth': 79, 'new': 80, 'role': 81, 'noth': 82, '10': 83, 'funni': 84, 'music': 85, 'point': 86, 'start': 87, 'set': 88, 'girl': 89, 'origin': 90, 'day': 91, 'world': 92, 'everi': 93, 'believ': 94, 'turn': 95, 'quit': 96, 'direct': 97, 'us': 98, 'thought': 99, 'fact': 100, 'minut': 101, 'horror': 102, 'kill': 103, 'action': 104, 'comedi': 105, 'pretti': 106, 'young': 107, 'wonder': 108, 'happen': 109, 'around': 110, 'got': 111, 'effect': 112, 'right': 113, 'long': 114, 'howev': 115, 'big': 116, 'line': 117, 'famili': 118, 'enough': 119, 'seri': 120, 'may': 121, 'need': 122, 'fan': 123, 'bit': 124, 'script': 125, 'beauti': 126, 'person': 127, 'becom': 128, 'without': 129, 'must': 130, 'alway': 131, 'friend': 132, 'tell': 133, 'reason': 134, 'saw': 135, 'last': 136, 'final': 137, 'kid': 138, 'almost': 139, 'put': 140, 'least': 141, 'sure': 142, 'done': 143, 'whole': 144, 'place': 145, 'complet': 146, 'kind': 147, 'expect': 148, 'differ': 149, 'shot': 150, 'far': 151, 'mean': 152, 'anyth': 153, 'book': 154, 'laugh': 155, 'might': 156, 'name': 157, 'sinc': 158, 'begin': 159, '2': 160, 'probabl': 161, 'woman': 162, 'help': 163, 'entertain': 164, 'let': 165, 'screen': 166, 'call': 167, 'tv': 168, 'moment': 169, 'away': 170, 'read': 171, 'yet': 172, 'rather': 173, 'worst': 174, 'run': 175, 'fun': 176, 'lead': 177, 'hard': 178, 'audienc': 179, 'idea': 180, 'anyon': 181, 'episod': 182, 'american': 183, 'found': 184, 'appear': 185, 'bore': 186, 'especi': 187, 'although': 188, 'hope': 189, 'cours': 190, 'keep': 191, 'anim': 192, 'job': 193, 'goe': 194, 'move': 195, 'sens': 196, 'version': 197, 'dvd': 198, 'war': 199, 'money': 200, 'someon': 201, 'mind': 202, 'mayb': 203, 'problem': 204, 'true': 205, 'hous': 206, 'everyth': 207, 'nice': 208, 'second': 209, 'rate': 210, 'three': 211, 'night': 212, 'follow': 213, 'face': 214, 'recommend': 215, 'product': 216, 'main': 217, 'worth': 218, 'leav': 219, 'human': 220, 'special': 221, 'excel': 222, 'togeth': 223, 'wast': 224, 'sound': 225, 'everyon': 226, 'john': 227, 'hand': 228, '1': 229, 'father': 230, 'later': 231, 'eye': 232, 'said': 233, 'view': 234, 'instead': 235, 'review': 236, 'boy': 237, 'high': 238, 'hour': 239, 'miss': 240, 'talk': 241, 'classic': 242, 'wife': 243, 'understand': 244, 'left': 245, 'care': 246, 'black': 247, 'death': 248, 'open': 249, 'murder': 250, 'write': 251, 'half': 252, 'head': 253, 'rememb': 254, 'chang': 255, 'viewer': 256, 'fight': 257, 'gener': 258, 'surpris': 259, 'short': 260, 'includ': 261, 'die': 262, 'fall': 263, 'less': 264, 'els': 265, 'entir': 266, 'piec': 267, 'involv': 268, 'pictur': 269, 'simpli': 270, 'home': 271, 'power': 272, 'top': 273, 'total': 274, 'usual': 275, 'budget': 276, 'attempt': 277, 'suppos': 278, 'releas': 279, 'hollywood': 280, 'terribl': 281, 'song': 282, 'men': 283, 'possibl': 284, 'featur': 285, 'portray': 286, 'disappoint': 287, 'poor': 288, '3': 289, 'coupl': 290, 'stupid': 291, 'camera': 292, 'dead': 293, 'wrong': 294, 'produc': 295, 'low': 296, 'video': 297, 'either': 298, 'aw': 299, 'definit': 300, 'except': 301, 'rest': 302, 'given': 303, 'absolut': 304, 'women': 305, 'lack': 306, 'word': 307, 'writer': 308, 'titl': 309, 'talent': 310, 'decid': 311, 'full': 312, 'perfect': 313, 'along': 314, 'style': 315, 'close': 316, 'truli': 317, 'school': 318, 'save': 319, 'emot': 320, 'sex': 321, 'age': 322, 'next': 323, 'bring': 324, 'mr': 325, 'case': 326, 'killer': 327, 'heart': 328, 'comment': 329, 'sort': 330, 'creat': 331, 'perhap': 332, 'came': 333, 'brother': 334, 'sever': 335, 'joke': 336, 'art': 337, 'dialogu': 338, 'game': 339, 'small': 340, 'base': 341, 'flick': 342, 'written': 343, 'sequenc': 344, 'meet': 345, 'earli': 346, 'often': 347, 'other': 348, 'mother': 349, 'develop': 350, 'humor': 351, 'actress': 352, 'consid': 353, 'dark': 354, 'guess': 355, 'amaz': 356, 'unfortun': 357, 'lost': 358, 'light': 359, 'exampl': 360, 'cinema': 361, 'drama': 362, 'white': 363, 'ye': 364, 'experi': 365, 'imagin': 366, 'mention': 367, 'stop': 368, 'natur': 369, 'forc': 370, 'manag': 371, 'felt': 372, 'present': 373, 'cut': 374, 'children': 375, 'fail': 376, 'son': 377, 'support': 378, 'qualiti': 379, 'car': 380, 'ask': 381, 'hit': 382, 'side': 383, 'voic': 384, 'extrem': 385, 'impress': 386, 'wors': 387, 'evil': 388, 'went': 389, 'stand': 390, 'certainli': 391, 'basic': 392, 'oh': 393, 'overal': 394, 'favorit': 395, 'horribl': 396, 'mysteri': 397, 'number': 398, 'type': 399, 'danc': 400, 'wait': 401, 'hero': 402, 'alreadi': 403, '5': 404, 'learn': 405, 'matter': 406, '4': 407, 'michael': 408, 'genr': 409, 'fine': 410, 'despit': 411, 'throughout': 412, 'walk': 413, 'success': 414, 'histori': 415, 'question': 416, 'zombi': 417, 'town': 418, 'realiz': 419, 'relationship': 420, 'child': 421, 'past': 422, 'daughter': 423, 'late': 424, 'b': 425, 'wish': 426, 'credit': 427, 'hate': 428, 'event': 429, 'theme': 430, 'touch': 431, 'citi': 432, 'today': 433, 'sometim': 434, 'behind': 435, 'god': 436, 'twist': 437, 'sit': 438, 'deal': 439, 'stay': 440, 'annoy': 441, 'abl': 442, 'rent': 443, 'pleas': 444, 'edit': 445, 'blood': 446, 'deserv': 447, 'anyway': 448, 'comic': 449, 'appar': 450, 'soon': 451, 'gave': 452, 'etc': 453, 'level': 454, 'slow': 455, 'chanc': 456, 'score': 457, 'bodi': 458, 'brilliant': 459, 'incred': 460, 'figur': 461, 'situat': 462, 'self': 463, 'major': 464, 'stuff': 465, 'decent': 466, 'element': 467, 'return': 468, 'dream': 469, 'obvious': 470, 'continu': 471, 'order': 472, 'pace': 473, 'ridicul': 474, 'happi': 475, 'add': 476, 'highli': 477, 'group': 478, 'thank': 479, 'ladi': 480, 'novel': 481, 'pain': 482, 'speak': 483, 'career': 484, 'shoot': 485, 'strang': 486, 'heard': 487, 'sad': 488, 'husband': 489, 'polic': 490, 'import': 491, 'break': 492, 'took': 493, 'cannot': 494, 'strong': 495, 'robert': 496, 'predict': 497, 'violenc': 498, 'hilari': 499, 'recent': 500, 'countri': 501, 'known': 502, 'particularli': 503, 'pick': 504, 'documentari': 505, 'season': 506, 'critic': 507, 'jame': 508, 'compar': 509, 'alon': 510, 'obviou': 511, 'told': 512, 'state': 513, 'visual': 514, 'rock': 515, 'exist': 516, 'offer': 517, 'theater': 518, 'opinion': 519, 'gore': 520, 'hold': 521, 'crap': 522, 'result': 523, 'realiti': 524, 'room': 525, 'hear': 526, 'clich': 527, 'effort': 528, 'thriller': 529, 'caus': 530, 'serious': 531, 'explain': 532, 'sequel': 533, 'king': 534, 'local': 535, 'ago': 536, 'none': 537, 'hell': 538, 'note': 539, 'allow': 540, 'sister': 541, 'david': 542, 'simpl': 543, 'femal': 544, 'deliv': 545, 'ok': 546, 'convinc': 547, 'class': 548, 'check': 549, 'suspens': 550, 'win': 551, 'oscar': 552, 'buy': 553, 'huge': 554, 'valu': 555, 'sexual': 556, 'cool': 557, 'scari': 558, 'similar': 559, 'excit': 560, 'provid': 561, 'apart': 562, 'exactli': 563, 'avoid': 564, 'shown': 565, 'seriou': 566, 'english': 567, 'taken': 568, 'whose': 569, 'cinematographi': 570, 'shock': 571, 'polit': 572, 'spoiler': 573, 'offic': 574, 'across': 575, 'middl': 576, 'street': 577, 'pass': 578, 'messag': 579, 'somewhat': 580, 'silli': 581, 'charm': 582, 'modern': 583, 'confus': 584, 'filmmak': 585, 'form': 586, 'tale': 587, 'singl': 588, 'jack': 589, 'mostli': 590, 'william': 591, 'attent': 592, 'carri': 593, 'sing': 594, 'subject': 595, 'five': 596, 'prove': 597, 'richard': 598, 'stage': 599, 'team': 600, 'unlik': 601, 'cop': 602, 'georg': 603, 'televis': 604, 'monster': 605, 'earth': 606, 'cover': 607, 'villain': 608, 'pay': 609, 'marri': 610, 'toward': 611, 'build': 612, 'parent': 613, 'pull': 614, 'due': 615, 'respect': 616, 'fill': 617, 'dialog': 618, 'four': 619, 'remind': 620, 'futur': 621, 'typic': 622, 'weak': 623, '7': 624, 'cheap': 625, 'intellig': 626, 'british': 627, 'atmospher': 628, '80': 629, 'clearli': 630, 'non': 631, 'paul': 632, 'dog': 633, 'artist': 634, 'fast': 635, '8': 636, 'knew': 637, 'crime': 638, 'easili': 639, 'escap': 640, 'doubt': 641, 'adult': 642, 'detail': 643, 'date': 644, 'member': 645, 'fire': 646, 'romant': 647, 'gun': 648, 'drive': 649, 'straight': 650, 'beyond': 651, 'fit': 652, 'attack': 653, 'imag': 654, 'upon': 655, 'posit': 656, 'whether': 657, 'fantast': 658, 'peter': 659, 'appreci': 660, 'aspect': 661, 'captur': 662, 'ten': 663, 'plan': 664, 'discov': 665, 'remain': 666, 'near': 667, 'period': 668, 'air': 669, 'realist': 670, 'mark': 671, 'red': 672, 'dull': 673, 'adapt': 674, 'within': 675, 'spend': 676, 'lose': 677, 'color': 678, 'materi': 679, 'chase': 680, 'mari': 681, 'storylin': 682, 'forget': 683, 'bunch': 684, 'clear': 685, 'lee': 686, 'victim': 687, 'nearli': 688, 'box': 689, 'york': 690, 'inspir': 691, 'match': 692, 'mess': 693, 'finish': 694, 'standard': 695, 'easi': 696, 'truth': 697, 'busi': 698, 'suffer': 699, 'space': 700, 'dramat': 701, 'bill': 702, 'western': 703, 'e': 704, 'list': 705, 'battl': 706, 'notic': 707, 'de': 708, 'french': 709, 'ad': 710, '9': 711, 'tom': 712, 'larg': 713, 'among': 714, 'eventu': 715, 'train': 716, 'accept': 717, 'agre': 718, 'soundtrack': 719, 'spirit': 720, 'third': 721, 'teenag': 722, 'adventur': 723, 'soldier': 724, 'famou': 725, 'suggest': 726, 'sorri': 727, 'drug': 728, 'normal': 729, 'cri': 730, 'babi': 731, 'ultim': 732, 'troubl': 733, 'contain': 734, 'certain': 735, 'cultur': 736, 'romanc': 737, 'rare': 738, 'lame': 739, 'somehow': 740, 'disney': 741, 'mix': 742, 'gone': 743, 'cartoon': 744, 'student': 745, 'fear': 746, 'reveal': 747, 'kept': 748, 'suck': 749, 'attract': 750, 'appeal': 751, 'premis': 752, 'greatest': 753, 'secret': 754, 'design': 755, 'shame': 756, 'throw': 757, 'scare': 758, 'copi': 759, 'wit': 760, 'america': 761, 'admit': 762, 'particular': 763, 'brought': 764, 'relat': 765, 'screenplay': 766, 'whatev': 767, 'pure': 768, '70': 769, 'averag': 770, 'harri': 771, 'master': 772, 'describ': 773, 'male': 774, 'treat': 775, '20': 776, 'issu': 777, 'fantasi': 778, 'warn': 779, 'inde': 780, 'background': 781, 'forward': 782, 'free': 783, 'project': 784, 'japanes': 785, 'memor': 786, 'poorli': 787, 'award': 788, 'locat': 789, 'potenti': 790, 'amus': 791, 'struggl': 792, 'weird': 793, 'magic': 794, 'societi': 795, 'okay': 796, 'imdb': 797, 'doctor': 798, 'accent': 799, 'water': 800, 'hot': 801, '30': 802, 'express': 803, 'dr': 804, 'alien': 805, 'odd': 806, 'crazi': 807, 'choic': 808, 'fiction': 809, 'studio': 810, 'control': 811, 'becam': 812, 'masterpiec': 813, 'difficult': 814, 'fli': 815, 'joe': 816, 'scream': 817, 'costum': 818, 'lover': 819, 'uniqu': 820, 'refer': 821, 'remak': 822, 'girlfriend': 823, 'vampir': 824, 'prison': 825, 'execut': 826, 'wear': 827, 'jump': 828, 'wood': 829, 'unless': 830, 'creepi': 831, 'cheesi': 832, 'superb': 833, 'otherwis': 834, 'parti': 835, 'ghost': 836, 'roll': 837, 'public': 838, 'mad': 839, 'depict': 840, 'moral': 841, 'week': 842, 'earlier': 843, 'badli': 844, 'jane': 845, 'fi': 846, 'dumb': 847, 'flaw': 848, 'grow': 849, 'sci': 850, 'deep': 851, 'maker': 852, 'cat': 853, 'footag': 854, 'connect': 855, 'older': 856, 'bother': 857, 'plenti': 858, 'outsid': 859, 'stick': 860, 'gay': 861, 'catch': 862, 'co': 863, 'plu': 864, 'popular': 865, 'equal': 866, 'social': 867, 'disturb': 868, 'quickli': 869, 'perfectli': 870, 'dress': 871, '90': 872, 'era': 873, 'mistak': 874, 'lie': 875, 'ride': 876, 'previou': 877, 'combin': 878, 'band': 879, 'concept': 880, 'answer': 881, 'surviv': 882, 'rich': 883, 'front': 884, 'sweet': 885, 'christma': 886, 'insid': 887, 'bare': 888, 'concern': 889, 'eat': 890, 'beat': 891, 'listen': 892, 'ben': 893, 'c': 894, 'term': 895, 'serv': 896, 'meant': 897, 'german': 898, 'la': 899, 'stereotyp': 900, 'hardli': 901, 'law': 902, 'innoc': 903, 'desper': 904, 'promis': 905, 'memori': 906, 'intent': 907, 'cute': 908, 'variou': 909, 'steal': 910, 'inform': 911, 'brain': 912, 'post': 913, 'tone': 914, 'island': 915, 'amount': 916, 'track': 917, 'nuditi': 918, 'compani': 919, 'claim': 920, 'store': 921, 'flat': 922, 'hair': 923, '50': 924, 'land': 925, 'univers': 926, 'scott': 927, 'fairli': 928, 'danger': 929, 'kick': 930, 'player': 931, 'plain': 932, 'crew': 933, 'step': 934, 'toni': 935, 'share': 936, 'centuri': 937, 'tast': 938, 'achiev': 939, 'engag': 940, 'cold': 941, 'travel': 942, 'rip': 943, 'record': 944, 'suit': 945, 'manner': 946, 'sadli': 947, 'spot': 948, 'wrote': 949, 'tension': 950, 'intens': 951, 'fascin': 952, 'familiar': 953, 'depth': 954, 'burn': 955, 'remark': 956, 'histor': 957, 'destroy': 958, 'sleep': 959, 'purpos': 960, 'languag': 961, 'ruin': 962, 'ignor': 963, 'delight': 964, 'italian': 965, 'unbeliev': 966, 'soul': 967, 'abil': 968, 'collect': 969, 'clever': 970, 'detect': 971, 'violent': 972, 'rape': 973, 'reach': 974, 'door': 975, 'scienc': 976, 'trash': 977, 'liter': 978, 'caught': 979, 'commun': 980, 'reveng': 981, 'creatur': 982, 'approach': 983, 'trip': 984, 'intrigu': 985, 'fashion': 986, 'introduc': 987, 'skill': 988, 'paint': 989, 'complex': 990, 'channel': 991, 'camp': 992, 'christian': 993, 'extra': 994, 'hole': 995, 'limit': 996, 'immedi': 997, 'mental': 998, 'ann': 999, '6': 1000, 'slightli': 1001, 'mere': 1002, 'million': 1003, 'comput': 1004, 'slasher': 1005, 'conclus': 1006, 'imposs': 1007, 'suddenli': 1008, 'neither': 1009, 'crimin': 1010, 'teen': 1011, 'physic': 1012, 'nation': 1013, 'spent': 1014, 'respons': 1015, 'planet': 1016, 'receiv': 1017, 'fake': 1018, 'sick': 1019, 'blue': 1020, 'bizarr': 1021, 'embarrass': 1022, 'indian': 1023, '15': 1024, 'ring': 1025, 'pop': 1026, 'drop': 1027, 'drag': 1028, 'haunt': 1029, 'suspect': 1030, 'pointless': 1031, 'search': 1032, 'edg': 1033, 'handl': 1034, 'biggest': 1035, 'common': 1036, 'faith': 1037, 'arriv': 1038, 'hurt': 1039, 'technic': 1040, 'angel': 1041, 'genuin': 1042, 'dad': 1043, 'awesom': 1044, 'f': 1045, 'solid': 1046, 'focu': 1047, 'colleg': 1048, 'former': 1049, 'van': 1050, 'count': 1051, 'tear': 1052, 'heavi': 1053, 'rais': 1054, 'wall': 1055, 'laughabl': 1056, 'younger': 1057, 'visit': 1058, 'fair': 1059, 'sign': 1060, 'excus': 1061, 'cult': 1062, 'tough': 1063, 'motion': 1064, 'key': 1065, 'desir': 1066, 'super': 1067, 'stun': 1068, 'addit': 1069, 'exploit': 1070, 'cloth': 1071, 'tortur': 1072, 'smith': 1073, 'davi': 1074, 'race': 1075, 'cross': 1076, 'author': 1077, 'jim': 1078, 'minor': 1079, 'consist': 1080, 'compel': 1081, 'focus': 1082, 'chemistri': 1083, 'commit': 1084, 'pathet': 1085, 'park': 1086, 'frank': 1087, 'tradit': 1088, 'obsess': 1089, 'grade': 1090, '60': 1091, 'asid': 1092, 'brutal': 1093, 'steve': 1094, 'somewher': 1095, 'rule': 1096, 'explor': 1097, 'u': 1098, 'grant': 1099, 'opportun': 1100, 'depress': 1101, 'besid': 1102, 'honest': 1103, 'dub': 1104, 'anti': 1105, 'trailer': 1106, 'intend': 1107, 'bar': 1108, 'regard': 1109, 'longer': 1110, 'scientist': 1111, 'west': 1112, 'decad': 1113, 'judg': 1114, 'silent': 1115, 'armi': 1116, 'creativ': 1117, 'wild': 1118, 'south': 1119, 'stewart': 1120, 'g': 1121, 'draw': 1122, 'road': 1123, 'govern': 1124, 'boss': 1125, 'ex': 1126, 'practic': 1127, 'club': 1128, 'festiv': 1129, 'motiv': 1130, 'gang': 1131, 'surprisingli': 1132, 'redeem': 1133, 'page': 1134, 'green': 1135, 'london': 1136, 'militari': 1137, 'aliv': 1138, 'machin': 1139, 'idiot': 1140, 'display': 1141, 'repeat': 1142, 'thrill': 1143, 'yeah': 1144, 'nobodi': 1145, 'folk': 1146, '100': 1147, '40': 1148, 'journey': 1149, 'garbag': 1150, 'smile': 1151, 'tire': 1152, 'ground': 1153, 'mood': 1154, 'bought': 1155, 'sam': 1156, 'stone': 1157, 'cost': 1158, 'noir': 1159, 'mouth': 1160, 'terrif': 1161, 'agent': 1162, 'requir': 1163, 'utterli': 1164, 'sexi': 1165, 'area': 1166, 'honestli': 1167, 'report': 1168, 'geniu': 1169, 'humour': 1170, 'glad': 1171, 'enter': 1172, 'investig': 1173, 'serial': 1174, 'narr': 1175, 'passion': 1176, 'occasion': 1177, 'marriag': 1178, 'climax': 1179, 'industri': 1180, 'studi': 1181, 'center': 1182, 'nowher': 1183, 'demon': 1184, 'ship': 1185, 'charli': 1186, 'hors': 1187, 'bear': 1188, 'loos': 1189, 'wow': 1190, 'hang': 1191, 'graphic': 1192, 'giant': 1193, 'admir': 1194, 'send': 1195, 'loud': 1196, 'damn': 1197, 'nake': 1198, 'rel': 1199, 'profession': 1200, 'subtl': 1201, 'blow': 1202, 'bottom': 1203, 'batman': 1204, 'insult': 1205, 'boyfriend': 1206, 'r': 1207, 'doubl': 1208, 'kelli': 1209, 'initi': 1210, 'frame': 1211, 'gem': 1212, 'opera': 1213, 'cinemat': 1214, 'challeng': 1215, 'affect': 1216, 'church': 1217, 'drawn': 1218, 'nightmar': 1219, 'j': 1220, 'seek': 1221, 'l': 1222, 'fulli': 1223, 'evid': 1224, 'arm': 1225, 'conflict': 1226, 'essenti': 1227, 'grace': 1228, 'christoph': 1229, 'wind': 1230, 'henri': 1231, 'assum': 1232, 'narrat': 1233, 'witch': 1234, 'push': 1235, 'hunt': 1236, 'wise': 1237, 'chri': 1238, 'month': 1239, 'repres': 1240, 'nomin': 1241, 'affair': 1242, 'avail': 1243, 'hide': 1244, 'sceneri': 1245, 'thu': 1246, 'smart': 1247, 'justic': 1248, 'bond': 1249, 'outstand': 1250, 'flashback': 1251, 'interview': 1252, 'presenc': 1253, 'constantli': 1254, 'satisfi': 1255, 'central': 1256, 'bed': 1257, 'content': 1258, 'sell': 1259, 'iron': 1260, 'gag': 1261, 'everybodi': 1262, 'slowli': 1263, 'hotel': 1264, 'hire': 1265, 'system': 1266, 'adam': 1267, 'thrown': 1268, 'hey': 1269, 'charl': 1270, 'individu': 1271, 'mediocr': 1272, 'allen': 1273, 'jone': 1274, 'billi': 1275, 'ray': 1276, 'lesson': 1277, 'photographi': 1278, 'cameo': 1279, 'pari': 1280, 'fellow': 1281, 'strike': 1282, 'independ': 1283, 'brief': 1284, 'rise': 1285, 'absurd': 1286, 'neg': 1287, 'impact': 1288, 'phone': 1289, 'model': 1290, 'born': 1291, 'ill': 1292, 'spoil': 1293, 'fresh': 1294, 'angl': 1295, 'likabl': 1296, 'abus': 1297, 'discuss': 1298, 'hill': 1299, 'ahead': 1300, 'sight': 1301, 'photograph': 1302, 'sent': 1303, 'blame': 1304, 'logic': 1305, 'shine': 1306, 'occur': 1307, 'bruce': 1308, 'mainli': 1309, 'commerci': 1310, 'skip': 1311, 'forev': 1312, 'held': 1313, 'surround': 1314, 'segment': 1315, 'teacher': 1316, 'blond': 1317, 'zero': 1318, 'satir': 1319, 'resembl': 1320, 'trap': 1321, 'summer': 1322, 'fool': 1323, 'queen': 1324, 'ball': 1325, 'six': 1326, 'sub': 1327, 'tragedi': 1328, 'twice': 1329, 'pack': 1330, 'reaction': 1331, 'bomb': 1332, 'hospit': 1333, 'will': 1334, 'protagonist': 1335, 'sport': 1336, 'mile': 1337, 'mom': 1338, 'drink': 1339, 'vote': 1340, 'trust': 1341, 'jerri': 1342, 'encount': 1343, 'plane': 1344, 'current': 1345, 'program': 1346, 'station': 1347, 'al': 1348, 'celebr': 1349, 'choos': 1350, 'martin': 1351, 'join': 1352, 'field': 1353, 'tragic': 1354, 'favourit': 1355, 'lord': 1356, 'round': 1357, 'robot': 1358, 'jean': 1359, 'vision': 1360, 'arthur': 1361, 'tie': 1362, 'random': 1363, 'roger': 1364, 'fortun': 1365, 'psycholog': 1366, 'dread': 1367, 'intern': 1368, 'epic': 1369, 'improv': 1370, 'nonsens': 1371, 'prefer': 1372, 'formula': 1373, 'highlight': 1374, 'pleasur': 1375, 'legend': 1376, 'tape': 1377, '11': 1378, 'dollar': 1379, 'thin': 1380, 'wide': 1381, 'object': 1382, 'gorgeou': 1383, 'porn': 1384, 'fox': 1385, 'buddi': 1386, 'influenc': 1387, 'ugli': 1388, 'ii': 1389, 'nasti': 1390, 'prepar': 1391, 'warm': 1392, 'supposedli': 1393, 'reflect': 1394, 'progress': 1395, 'youth': 1396, 'worthi': 1397, 'latter': 1398, 'unusu': 1399, 'length': 1400, 'crash': 1401, 'seven': 1402, 'shop': 1403, 'childhood': 1404, 'superior': 1405, 'remot': 1406, 'theatr': 1407, 'disgust': 1408, 'pilot': 1409, 'paid': 1410, 'funniest': 1411, 'fell': 1412, 'trick': 1413, 'convers': 1414, 'castl': 1415, 'establish': 1416, 'rob': 1417, 'disast': 1418, 'gangster': 1419, 'mine': 1420, 'ident': 1421, 'heaven': 1422, 'disappear': 1423, 'suicid': 1424, 'tend': 1425, 'decis': 1426, 'mask': 1427, 'heroin': 1428, 'singer': 1429, 'forgotten': 1430, 'brian': 1431, 'partner': 1432, 'recogn': 1433, 'desert': 1434, 'alan': 1435, 'p': 1436, 'thoroughli': 1437, 'ms': 1438, 'stuck': 1439, 'sky': 1440, 'accur': 1441, 'replac': 1442, 'market': 1443, 'clue': 1444, 'eddi': 1445, 'seemingli': 1446, 'danni': 1447, 'commentari': 1448, 'uncl': 1449, 'andi': 1450, 'jackson': 1451, 'devil': 1452, 'therefor': 1453, 'pair': 1454, 'that': 1455, 'refus': 1456, 'unit': 1457, 'river': 1458, 'ed': 1459, 'fault': 1460, 'accid': 1461, 'fate': 1462, 'afraid': 1463, 'tune': 1464, 'clean': 1465, 'russian': 1466, 'stephen': 1467, 'hidden': 1468, 'readi': 1469, 'irrit': 1470, 'test': 1471, 'convey': 1472, 'captain': 1473, 'quick': 1474, 'instanc': 1475, 'european': 1476, 'daniel': 1477, 'insan': 1478, 'frustrat': 1479, 'chines': 1480, 'food': 1481, '1950': 1482, 'wed': 1483, 'rescu': 1484, 'angri': 1485, 'lock': 1486, 'dirti': 1487, 'joy': 1488, 'price': 1489, 'steven': 1490, 'cage': 1491, 'bland': 1492, 'anymor': 1493, 'rang': 1494, 'wooden': 1495, 'n': 1496, 'jason': 1497, 'rush': 1498, 'news': 1499, 'twenti': 1500, 'martial': 1501, 'led': 1502, '12': 1503, 'worri': 1504, 'board': 1505, 'hunter': 1506, 'symbol': 1507, 'transform': 1508, 'cgi': 1509, 'onto': 1510, 'piti': 1511, 'sentiment': 1512, 'johnni': 1513, 'invent': 1514, 'x': 1515, 'explan': 1516, 'process': 1517, 'attitud': 1518, 'owner': 1519, 'awar': 1520, 'aim': 1521, 'target': 1522, 'energi': 1523, 'floor': 1524, 'favor': 1525, 'necessari': 1526, 'opposit': 1527, 'religi': 1528, 'blind': 1529, 'insight': 1530, 'chick': 1531, 'window': 1532, 'movement': 1533, 'deepli': 1534, 'possess': 1535, 'mountain': 1536, 'comparison': 1537, 'research': 1538, 'whatsoev': 1539, 'grand': 1540, 'comed': 1541, 'rain': 1542, 'began': 1543, 'bank': 1544, 'shadow': 1545, 'mid': 1546, 'parodi': 1547, 'princ': 1548, 'pre': 1549, 'friendship': 1550, 'taylor': 1551, 'weapon': 1552, 'credibl': 1553, 'dougla': 1554, 'flesh': 1555, 'teach': 1556, 'protect': 1557, 'hint': 1558, 'bloodi': 1559, 'terror': 1560, 'marvel': 1561, 'leader': 1562, 'superman': 1563, 'load': 1564, 'accord': 1565, 'drunk': 1566, 'watchabl': 1567, 'anybodi': 1568, 'brown': 1569, 'freddi': 1570, 'jeff': 1571, 'seat': 1572, 'tim': 1573, 'appropri': 1574, 'hitler': 1575, 'villag': 1576, 'charg': 1577, 'unknown': 1578, 'knock': 1579, 'keaton': 1580, 'unnecessari': 1581, 'england': 1582, 'enemi': 1583, 'empti': 1584, 'media': 1585, 'dare': 1586, 'wave': 1587, 'perspect': 1588, 'utter': 1589, 'strength': 1590, 'buck': 1591, 'craft': 1592, 'correct': 1593, 'nativ': 1594, 'contrast': 1595, 'kiss': 1596, 'ford': 1597, 'nazi': 1598, 'knowledg': 1599, 'magnific': 1600, 'chill': 1601, 'speed': 1602, 'anywher': 1603, 'distract': 1604, 'soap': 1605, 'mission': 1606, 'ice': 1607, 'fred': 1608, '1980': 1609, 'breath': 1610, 'jr': 1611, 'joan': 1612, 'crowd': 1613, 'moon': 1614, '000': 1615, 'frighten': 1616, 'soft': 1617, 'kate': 1618, 'nick': 1619, 'dick': 1620, 'dan': 1621, 'hundr': 1622, 'dozen': 1623, 'simon': 1624, 'radio': 1625, 'somebodi': 1626, 'thousand': 1627, 'academi': 1628, 'shakespear': 1629, 'loss': 1630, 'andrew': 1631, 'sum': 1632, 'account': 1633, 'root': 1634, 'quot': 1635, 'vehicl': 1636, 'behavior': 1637, 'convent': 1638, 'leg': 1639, '1970': 1640, 'regular': 1641, 'gold': 1642, 'worker': 1643, 'compet': 1644, 'demand': 1645, 'pretenti': 1646, 'japan': 1647, 'stretch': 1648, 'explos': 1649, 'interpret': 1650, 'notabl': 1651, 'candi': 1652, 'lynch': 1653, 'privat': 1654, 'constant': 1655, 'debut': 1656, 'tarzan': 1657, 'prais': 1658, 'revolv': 1659, 'translat': 1660, 'sea': 1661, 'spi': 1662, 'technolog': 1663, 'threaten': 1664, 'sat': 1665, 'ass': 1666, 'franc': 1667, 'quiet': 1668, 'jesu': 1669, 'failur': 1670, 'kevin': 1671, 'aid': 1672, 'met': 1673, 'punch': 1674, 'higher': 1675, 'toy': 1676, 'vh': 1677, 'interact': 1678, 'mike': 1679, 'abandon': 1680, 'confront': 1681, 'separ': 1682, 'command': 1683, 'bet': 1684, 'servic': 1685, 'techniqu': 1686, 'site': 1687, 'recal': 1688, 'stunt': 1689, 'belong': 1690, 'gotten': 1691, 'cabl': 1692, 'freak': 1693, 'bug': 1694, 'foot': 1695, 'bright': 1696, 'capabl': 1697, 'fu': 1698, 'jimmi': 1699, 'african': 1700, 'succeed': 1701, 'presid': 1702, 'fat': 1703, 'clark': 1704, 'stock': 1705, 'boat': 1706, 'spanish': 1707, 'structur': 1708, 'gene': 1709, 'paper': 1710, 'kidnap': 1711, 'whilst': 1712, 'belief': 1713, 'factor': 1714, 'tree': 1715, 'complic': 1716, 'realism': 1717, 'attend': 1718, 'educ': 1719, 'bob': 1720, 'witti': 1721, 'realis': 1722, 'finest': 1723, 'assist': 1724, 'broken': 1725, 'santa': 1726, 'determin': 1727, 'up': 1728, 'smoke': 1729, 'observ': 1730, 'v': 1731, 'depart': 1732, 'rubbish': 1733, 'fame': 1734, 'hat': 1735, 'routin': 1736, 'domin': 1737, 'lewi': 1738, 'oper': 1739, 'advanc': 1740, 'lone': 1741, 'hook': 1742, 'morgan': 1743, 'safe': 1744, 'kinda': 1745, 'foreign': 1746, 'numer': 1747, 'rank': 1748, 'washington': 1749, 'shallow': 1750, 'vs': 1751, 'shape': 1752, 'werewolf': 1753, 'rose': 1754, 'civil': 1755, 'morn': 1756, 'gari': 1757, 'accomplish': 1758, 'ordinari': 1759, 'kong': 1760, 'winner': 1761, 'grab': 1762, 'peac': 1763, 'virtual': 1764, 'whenev': 1765, 'luck': 1766, 'offens': 1767, 'h': 1768, 'contriv': 1769, 'complain': 1770, 'unfunni': 1771, 'patient': 1772, 'welcom': 1773, 'bigger': 1774, 'activ': 1775, 'con': 1776, 'trek': 1777, 'dimension': 1778, 'pretend': 1779, 'cain': 1780, 'wake': 1781, 'lesbian': 1782, 'flash': 1783, 'dri': 1784, 'code': 1785, 'eric': 1786, 'guard': 1787, 'statu': 1788, 'albert': 1789, 'dancer': 1790, 'manipul': 1791, 'corrupt': 1792, 'gain': 1793, 'context': 1794, 'awkward': 1795, 'signific': 1796, 'sourc': 1797, 'speech': 1798, 'clip': 1799, 'sean': 1800, 'anthoni': 1801, 'psycho': 1802, '13': 1803, 'corni': 1804, 'w': 1805, 'reli': 1806, 'advic': 1807, 'religion': 1808, 'curiou': 1809, 'theatric': 1810, 'priest': 1811, 'addict': 1812, 'flow': 1813, 'secur': 1814, 'asian': 1815, 'skin': 1816, 'specif': 1817, 'jennif': 1818, 'howard': 1819, 'core': 1820, 'golden': 1821, 'organ': 1822, 'promot': 1823, 'luke': 1824, 'comfort': 1825, 'cheat': 1826, 'lucki': 1827, 'cash': 1828, 'associ': 1829, 'lower': 1830, 'dislik': 1831, 'wing': 1832, 'regret': 1833, 'balanc': 1834, 'frequent': 1835, 'contribut': 1836, 'devic': 1837, 'frankli': 1838, 'degre': 1839, 'spell': 1840, 'print': 1841, 'forgiv': 1842, 'sake': 1843, 'lake': 1844, 'thoma': 1845, 'mass': 1846, 'betti': 1847, 'unexpect': 1848, 'crack': 1849, 'gordon': 1850, 'grown': 1851, 'unfold': 1852, 'categori': 1853, 'invit': 1854, 'construct': 1855, 'depend': 1856, 'amateur': 1857, 'intellectu': 1858, 'honor': 1859, 'condit': 1860, 'grew': 1861, 'matur': 1862, 'walter': 1863, 'anna': 1864, 'veteran': 1865, 'sole': 1866, 'mirror': 1867, 'spectacular': 1868, 'sudden': 1869, 'overli': 1870, 'grip': 1871, 'card': 1872, 'robin': 1873, 'experienc': 1874, 'demonstr': 1875, 'gift': 1876, 'meanwhil': 1877, 'liner': 1878, 'freedom': 1879, 'theori': 1880, 'brilliantli': 1881, 'circumst': 1882, 'colour': 1883, 'unabl': 1884, 'drew': 1885, 'subtitl': 1886, 'section': 1887, 'crappi': 1888, 'oliv': 1889, 'sheriff': 1890, 'laughter': 1891, 'parker': 1892, 'matt': 1893, 'sheer': 1894, 'pile': 1895, 'cook': 1896, 'altern': 1897, 'path': 1898, 'lawyer': 1899, 'treatment': 1900, 'relief': 1901, 'accident': 1902, 'wander': 1903, 'sinatra': 1904, 'hall': 1905, 'defin': 1906, 'dragon': 1907, 'captiv': 1908, 'hank': 1909, 'halloween': 1910, 'gratuit': 1911, 'moor': 1912, 'unintent': 1913, 'barbara': 1914, 'broadway': 1915, 'kung': 1916, 'k': 1917, 'wayn': 1918, 'cowboy': 1919, 'wound': 1920, 'jacki': 1921, 'statement': 1922, 'spoof': 1923, 'canadian': 1924, 'surreal': 1925, 'winter': 1926, 'fare': 1927, 'compos': 1928, 'treasur': 1929, 'gonna': 1930, 'cheer': 1931, 'fish': 1932, 'victor': 1933, 'unrealist': 1934, 'woodi': 1935, 'emerg': 1936, 'sensit': 1937, 'ran': 1938, 'neighbor': 1939, 'driven': 1940, 'sympathet': 1941, 'topic': 1942, 'menac': 1943, 'glass': 1944, 'expos': 1945, 'overlook': 1946, 'authent': 1947, 'ancient': 1948, 'chief': 1949, 'handsom': 1950, 'michel': 1951, 'gross': 1952, 'network': 1953, 'russel': 1954, 'built': 1955, 'feet': 1956, 'pleasant': 1957, 'contemporari': 1958, 'nevertheless': 1959, 'stranger': 1960, 'cinderella': 1961, 'comedian': 1962, 'earn': 1963, 'blockbust': 1964, 'endless': 1965, 'consider': 1966, 'miser': 1967, 'underr': 1968, 'gori': 1969, 'letter': 1970, 'switch': 1971, 'brook': 1972, 'solv': 1973, 'virgin': 1974, 'joseph': 1975, 'edward': 1976, 'convict': 1977, 'bullet': 1978, 'victoria': 1979, 'scale': 1980, 'scenario': 1981, 'cynic': 1982, 'alex': 1983, '0': 1984, 'chosen': 1985, 'outrag': 1986, 'sword': 1987, 'com': 1988, 'gut': 1989, 'curs': 1990, 'wrap': 1991, 'screenwrit': 1992, 'proper': 1993, 'substanc': 1994, 'uk': 1995, 'monkey': 1996, 'juli': 1997, 'driver': 1998, 'court': 1999, 'remov': 2000, 'indic': 2001, 'bird': 2002, 'par': 2003, 'inevit': 2004, 'naiv': 2005, 'consequ': 2006, 'advertis': 2007, 'nanci': 2008, 'loser': 2009, 'rental': 2010, 'grave': 2011, 'roy': 2012, 'invis': 2013, 'germani': 2014, 'slap': 2015, 'fatal': 2016, 'brave': 2017, 'le': 2018, 'bridg': 2019, 'loui': 2020, 'ador': 2021, 'footbal': 2022, 'anger': 2023, 'provok': 2024, 'alcohol': 2025, 'chan': 2026, 'anderson': 2027, 'willi': 2028, 'ryan': 2029, 'professor': 2030, 'stumbl': 2031, '1930': 2032, 'sharp': 2033, 'bat': 2034, 'assassin': 2035, 'australian': 2036, 'patrick': 2037, 'eight': 2038, 'amateurish': 2039, 'lousi': 2040, 'cell': 2041, 'saturday': 2042, 'refresh': 2043, 'heck': 2044, 'deni': 2045, 'ape': 2046, 'trilog': 2047, 'liber': 2048, 'strongli': 2049, 'sin': 2050, 'justifi': 2051, 'san': 2052, 'vagu': 2053, 'resid': 2054, 'defeat': 2055, 'terrifi': 2056, 'creator': 2057, 'reput': 2058, 'sympathi': 2059, 'mini': 2060, 'indi': 2061, 'endur': 2062, 'tabl': 2063, 'task': 2064, 'prevent': 2065, 'tediou': 2066, 'expert': 2067, 'trial': 2068, 'basebal': 2069, 'employ': 2070, 'rival': 2071, 'imit': 2072, 'offend': 2073, 'che': 2074, 'max': 2075, 'europ': 2076, 'complaint': 2077, 'weekend': 2078, 'beach': 2079, 'dig': 2080, 'pitch': 2081, 'fairi': 2082, 'risk': 2083, 'format': 2084, 'murphi': 2085, 'purchas': 2086, 'tini': 2087, 'nois': 2088, 'bite': 2089, 'harsh': 2090, 'reminisc': 2091, 'hype': 2092, 'powel': 2093, 'titan': 2094, 'glimps': 2095, 'till': 2096, 'north': 2097, 'prime': 2098, 'asleep': 2099, 'strip': 2100, '14': 2101, 'fals': 2102, 'destruct': 2103, 'revel': 2104, 'descript': 2105, 'texa': 2106, 'africa': 2107, 'surfac': 2108, 'spin': 2109, 'semi': 2110, 'inner': 2111, 'excess': 2112, 'arrest': 2113, 'sitcom': 2114, 'uninterest': 2115, 'maintain': 2116, 'controversi': 2117, 'twin': 2118, 'argu': 2119, 'hitchcock': 2120, 'makeup': 2121, 'massiv': 2122, 'dinosaur': 2123, 'kim': 2124, 'melodrama': 2125, 'stare': 2126, 'ludicr': 2127, 'reject': 2128, 'expens': 2129, 'ideal': 2130, 'insist': 2131, 'supernatur': 2132, 'erot': 2133, 'ala': 2134, 'nail': 2135, 'subplot': 2136, 'ga': 2137, 'press': 2138, 'atroci': 2139, 'host': 2140, 'columbo': 2141, 'forest': 2142, 'cant': 2143, 'identifi': 2144, 'presum': 2145, 'dude': 2146, 'notch': 2147, 'guest': 2148, 'crude': 2149, 'closer': 2150, 'character': 2151, 'plagu': 2152, 'method': 2153, 'forgett': 2154, 'border': 2155, 'ear': 2156, 'landscap': 2157, 'foster': 2158, 'princess': 2159, 'beast': 2160, 'lion': 2161, 'accus': 2162, 'urban': 2163, 'damag': 2164, 'storytel': 2165, 'bound': 2166, 'jungl': 2167, 'previous': 2168, 'aunt': 2169, 'pacino': 2170, 'birth': 2171, 'guid': 2172, 'thirti': 2173, 'emma': 2174, 'doll': 2175, 'nude': 2176, 'jess': 2177, 'chose': 2178, 'propaganda': 2179, 'mate': 2180, 'pet': 2181, 'whoever': 2182, 'warrior': 2183, '25': 2184, 'mainstream': 2185, 'merit': 2186, 'latest': 2187, 'deadli': 2188, 'cooper': 2189, 'poster': 2190, 'upset': 2191, 'size': 2192, 'exact': 2193, 'gritti': 2194, 'friday': 2195, 'citizen': 2196, 'rough': 2197, 'sun': 2198, 'buff': 2199, 'ton': 2200, 'contest': 2201, 'contact': 2202, 'wilson': 2203, '1990': 2204, 'corps': 2205, 'popul': 2206, 'settl': 2207, 'blend': 2208, 'warner': 2209, 'select': 2210, 'metal': 2211, 'alic': 2212, 'rat': 2213, 'pitt': 2214, 'widow': 2215, 'mgm': 2216, 'environ': 2217, 'bu': 2218, 'overcom': 2219, 'guilti': 2220, 'particip': 2221, 'link': 2222, 'revolut': 2223, 'lift': 2224, 'ted': 2225, 'exagger': 2226, 'moron': 2227, '1960': 2228, 'afternoon': 2229, 'corner': 2230, 'accompani': 2231, 'matrix': 2232, 'corpor': 2233, 'johnson': 2234, 'prostitut': 2235, 'leagu': 2236, 'sincer': 2237, 'hood': 2238, 'multipl': 2239, 'clair': 2240, 'instal': 2241, 'doom': 2242, 'holm': 2243, 'friendli': 2244, 'examin': 2245, 'hip': 2246, 'advis': 2247, 'irish': 2248, 'campi': 2249, 'defend': 2250, 'aka': 2251, 'string': 2252, 'blah': 2253, 'sunday': 2254, 'lugosi': 2255, 'junk': 2256, 'grim': 2257, 'shut': 2258, 'varieti': 2259, 'icon': 2260, 'rachel': 2261, 'confid': 2262, 'tight': 2263, 'shake': 2264, 'pro': 2265, 'attach': 2266, 'directli': 2267, 'mexican': 2268, 'denni': 2269, 'sullivan': 2270, 'medic': 2271, 'jaw': 2272, 'goal': 2273, 'dean': 2274, 'courag': 2275, 'legendari': 2276, 'sarah': 2277, 'vietnam': 2278, 'breast': 2279, 'truck': 2280, 'prior': 2281, 'sentenc': 2282, 'duke': 2283, 'terrorist': 2284, 'bourn': 2285, 'behav': 2286, 'donald': 2287, 'proceed': 2288, 'hong': 2289, 'entri': 2290, 'yell': 2291, 'un': 2292, 'split': 2293, 'nose': 2294, 'unconvinc': 2295, 'buri': 2296, 'gather': 2297, 'stolen': 2298, 'concentr': 2299, 'confess': 2300, 'swim': 2301, 'borrow': 2302, 'everywher': 2303, 'lifetim': 2304, 'forth': 2305, 'jerk': 2306, 'crush': 2307, 'deliveri': 2308, 'california': 2309, 'spite': 2310, 'lip': 2311, 'turkey': 2312, 'julia': 2313, 'pan': 2314, 'downright': 2315, 'quest': 2316, 'flight': 2317, 'reward': 2318, 'freeman': 2319, 'offici': 2320, 'proud': 2321, 'china': 2322, 'hoffman': 2323, 'jail': 2324, 'notori': 2325, 'worthwhil': 2326, 'inept': 2327, 'fade': 2328, 'encourag': 2329, 'sink': 2330, 'lazi': 2331, 'sir': 2332, 'jon': 2333, 'fabul': 2334, 'betray': 2335, 'imageri': 2336, 'storm': 2337, 'teeth': 2338, 'lisa': 2339, 'survivor': 2340, 'shower': 2341, 'relev': 2342, 'cousin': 2343, 'susan': 2344, 'bell': 2345, 'branagh': 2346, 'retard': 2347, 'bag': 2348, 'mexico': 2349, 'toler': 2350, 'shark': 2351, 'facial': 2352, 'alright': 2353, 'trade': 2354, 'summari': 2355, 'quirki': 2356, 'stab': 2357, 'bride': 2358, 'hugh': 2359, 'finger': 2360, 'tremend': 2361, 'ha': 2362, 'hyster': 2363, 'von': 2364, 'bitter': 2365, 'blown': 2366, 'pose': 2367, 'cruel': 2368, 'christ': 2369, 'ned': 2370, 'afterward': 2371, 'scheme': 2372, 'address': 2373, 'larri': 2374, 'ron': 2375, 'bone': 2376, 'feed': 2377, 'tour': 2378, 'snake': 2379, 'distinct': 2380, 'screw': 2381, 'swear': 2382, 'pursu': 2383, 'thumb': 2384, 'beg': 2385, 'traci': 2386, 'raw': 2387, 'stomach': 2388, 'chair': 2389, 'mechan': 2390, 'occas': 2391, 'obscur': 2392, 'photo': 2393, 'render': 2394, 'hardi': 2395, 'chain': 2396, 'heavili': 2397, 'resist': 2398, 'gruesom': 2399, 'necessarili': 2400, 'southern': 2401, 'sidney': 2402, 'argument': 2403, 'cabin': 2404, 'holiday': 2405, 'india': 2406, 'understood': 2407, 'philip': 2408, 'satan': 2409, 'racist': 2410, 'indulg': 2411, 'obnoxi': 2412, 'forgot': 2413, 'tongu': 2414, 'belov': 2415, 'fourth': 2416, 'pregnant': 2417, 'lay': 2418, 'outfit': 2419, 'stalk': 2420, 'integr': 2421, 'midnight': 2422, '17': 2423, 'ticket': 2424, 'carol': 2425, 'deeper': 2426, 'restor': 2427, 'inhabit': 2428, 'garden': 2429, 'slapstick': 2430, 'magazin': 2431, 'devot': 2432, 'incid': 2433, 'shoe': 2434, 'brad': 2435, 'lincoln': 2436, 'benefit': 2437, 'disbelief': 2438, 'maria': 2439, 'guarante': 2440, 'elizabeth': 2441, 'underground': 2442, 'divorc': 2443, 'lili': 2444, 'anticip': 2445, 'sandler': 2446, 'princip': 2447, 'explod': 2448, 'slave': 2449, 'amazingli': 2450, 'bbc': 2451, 'capit': 2452, 'greater': 2453, 'cring': 2454, 'mildli': 2455, 'creation': 2456, 'funnier': 2457, 'lesli': 2458, 'extraordinari': 2459, 'introduct': 2460, 'halfway': 2461, 'tap': 2462, 'advantag': 2463, 'overwhelm': 2464, 'transfer': 2465, 'enhanc': 2466, 'punish': 2467, 'text': 2468, 'extent': 2469, 'wreck': 2470, 'preview': 2471, 'horrif': 2472, 'east': 2473, 'deliber': 2474, 'dynam': 2475, 'lo': 2476, 'plant': 2477, 'error': 2478, 'jessica': 2479, 'lane': 2480, '2000': 2481, 'homosexu': 2482, 'miscast': 2483, 'sophist': 2484, 'appli': 2485, 'vacat': 2486, 'vincent': 2487, 'ensu': 2488, 'basi': 2489, 'miller': 2490, 'via': 2491, 'elev': 2492, 'uncomfort': 2493, 'bollywood': 2494, 'steel': 2495, 'spoken': 2496, 'extend': 2497, 'mansion': 2498, 'reed': 2499, 'sleazi': 2500, 'measur': 2501, 'conceiv': 2502, 'daili': 2503, 'goofi': 2504, 'breathtak': 2505, 'fix': 2506, 'hippi': 2507, 'cathol': 2508, 'assign': 2509, 'savag': 2510, 'blair': 2511, 'mous': 2512, 'beer': 2513, 'overact': 2514, 'melt': 2515, 'alter': 2516, 'dentist': 2517, 'stanley': 2518, 'properli': 2519, 'succe': 2520, 'burt': 2521, 'sacrific': 2522, 'inspector': 2523, 'nowaday': 2524, 'everyday': 2525, 'carpent': 2526, 'oppos': 2527, 'subsequ': 2528, 'block': 2529, 'massacr': 2530, 'circl': 2531, 'neck': 2532, 'laura': 2533, 'fallen': 2534, 'mob': 2535, 'concert': 2536, 'access': 2537, 'lesser': 2538, 'fay': 2539, 'pool': 2540, 'portrait': 2541, 'grey': 2542, 'christi': 2543, 'seagal': 2544, 'jewish': 2545, 'sinist': 2546, 'react': 2547, 'jake': 2548, 'usa': 2549, 'isol': 2550, 'chees': 2551, 'relax': 2552, 'competit': 2553, 'appal': 2554, 'nonetheless': 2555, 'suitabl': 2556, '2006': 2557, 'ironi': 2558, 'immens': 2559, 'spiritu': 2560, 'nine': 2561, 'lyric': 2562, 'creep': 2563, 'chop': 2564, 'stink': 2565, 'sold': 2566, 'user': 2567, 'nut': 2568, 'reduc': 2569, 'shirt': 2570, 'retir': 2571, 'adopt': 2572, 'rage': 2573, 'showcas': 2574, 'luci': 2575, 'franchis': 2576, 'spring': 2577, 'navi': 2578, 'needless': 2579, 'stanwyck': 2580, 'jay': 2581, 'uninspir': 2582, 'zone': 2583, 'per': 2584, 'bulli': 2585, 'nurs': 2586, 'bath': 2587, 'digit': 2588, 'asham': 2589, 'laid': 2590, '1940': 2591, 'upper': 2592, 'sutherland': 2593, 'illustr': 2594, '2001': 2595, 'broadcast': 2596, 'oddli': 2597, 'amongst': 2598, 'throat': 2599, 'aspir': 2600, 'disguis': 2601, 'brando': 2602, 'baker': 2603, 'stylish': 2604, 'fulfil': 2605, 'wanna': 2606, '18': 2607, 'impli': 2608, 'em': 2609, 'thief': 2610, 'pound': 2611, 'nobl': 2612, 'pride': 2613, 'endear': 2614, 'wwii': 2615, 'neighborhood': 2616, 'bett': 2617, 'prop': 2618, 'shift': 2619, 'albeit': 2620, 'distribut': 2621, 'coher': 2622, 'shoulder': 2623, 'dawn': 2624, 'diseas': 2625, '16': 2626, 'dinner': 2627, 'cinematograph': 2628, 'tens': 2629, 'bo': 2630, 'rochest': 2631, 'surf': 2632, 'shout': 2633, 'rebel': 2634, 'function': 2635, 'contract': 2636, 'forti': 2637, 'wash': 2638, 'knife': 2639, 'snow': 2640, 'silenc': 2641, 'poignant': 2642, 'matthau': 2643, 'duti': 2644, 'mindless': 2645, 'eeri': 2646, 'cannib': 2647, 'silver': 2648, 'proof': 2649, 'internet': 2650, 'widmark': 2651, 'instinct': 2652, 'elvira': 2653, 'reunion': 2654, 'chuck': 2655, 'derek': 2656, 'cancel': 2657, 'heat': 2658, 'henc': 2659, 'height': 2660, 'horrend': 2661, 'premier': 2662, 'innov': 2663, 'pie': 2664, 'musician': 2665, 'elvi': 2666, 'neat': 2667, 'incoher': 2668, 'mill': 2669, 'greatli': 2670, 'etern': 2671, 'glori': 2672, 'spielberg': 2673, 'alik': 2674, 'repetit': 2675, 'absorb': 2676, 'torn': 2677, 'horrifi': 2678, 'crisi': 2679, 'announc': 2680, 'nelson': 2681, 'britain': 2682, 'bang': 2683, 'trite': 2684, 'homag': 2685, 'wealthi': 2686, 'itali': 2687, 'redempt': 2688, 'burton': 2689, 'racism': 2690, 'lovabl': 2691, 'precis': 2692, 'infam': 2693, 'blank': 2694, 'fbi': 2695, 'diamond': 2696, 'dedic': 2697, 'hammer': 2698, 'resolut': 2699, 'flop': 2700, 'helen': 2701, 'parallel': 2702, 'pat': 2703, 'ensembl': 2704, 'wilder': 2705, 'chaplin': 2706, 'happili': 2707, 'streisand': 2708, 'conclud': 2709, 'broke': 2710, 'mar': 2711, 'disagre': 2712, 'plastic': 2713, 'carter': 2714, 'factori': 2715, 'triumph': 2716, 'oil': 2717, 'st': 2718, 'cube': 2719, 'bush': 2720, 'own': 2721, 'climb': 2722, 'weight': 2723, 'row': 2724, 'chuckl': 2725, 'fighter': 2726, 'rocket': 2727, 'vega': 2728, 'march': 2729, 'thug': 2730, 'kurt': 2731, 'enorm': 2732, 'unforgett': 2733, 'dump': 2734, 'wherea': 2735, 'lust': 2736, 'dane': 2737, 'sensibl': 2738, 'boot': 2739, 'mst3k': 2740, 'meaning': 2741, 'spare': 2742, 'luca': 2743, 'rap': 2744, 'engin': 2745, 'adequ': 2746, 'butt': 2747, 'dear': 2748, 'threat': 2749, 'difficulti': 2750, 'caricatur': 2751, 'fifti': 2752, 'brand': 2753, 'stress': 2754, 'bobbi': 2755, 'arnold': 2756, 'karloff': 2757, 'arrog': 2758, 'elabor': 2759, 'polish': 2760, 'fest': 2761, 'ralph': 2762, 'secretari': 2763, 'barri': 2764, 'ego': 2765, 'journalist': 2766, 'swing': 2767, 'homeless': 2768, 'flynn': 2769, 'hamlet': 2770, 'puppet': 2771, 'tool': 2772, 'unbear': 2773, 'induc': 2774, 'conspiraci': 2775, 'fanci': 2776, 'resort': 2777, 'grate': 2778, 'float': 2779, 'simpson': 2780, 'spike': 2781, 'arrang': 2782, 'choreograph': 2783, 'pig': 2784, 'exercis': 2785, 'tribut': 2786, 'basement': 2787, 'phillip': 2788, 'cruis': 2789, 'muppet': 2790, 'guilt': 2791, 'boll': 2792, 'babe': 2793, 'fianc': 2794, 'tower': 2795, 'toilet': 2796, '24': 2797, 'puzzl': 2798, 'medium': 2799, 'ham': 2800, 'slip': 2801, 'item': 2802, 'ward': 2803, 'document': 2804, 'editor': 2805, 'file': 2806, 'stan': 2807, 'layer': 2808, 'scarecrow': 2809, 'korean': 2810, 'persona': 2811, 'inexplic': 2812, 'territori': 2813, 'doc': 2814, 'spark': 2815, 'superfici': 2816, 'catherin': 2817, 'assur': 2818, 'orient': 2819, 'slaughter': 2820, 'philosoph': 2821, 'minim': 2822, 'transit': 2823, 'portion': 2824, 'larger': 2825, 'librari': 2826, 'denzel': 2827, 'glover': 2828, 'shi': 2829, 'financi': 2830, 'wolf': 2831, 'ban': 2832, 'sneak': 2833, 'boredom': 2834, 'owe': 2835, 'jeremi': 2836, 'jet': 2837, 'dorothi': 2838, 'curti': 2839, 'pg': 2840, 'walken': 2841, 'whale': 2842, 'ambigu': 2843, 'profound': 2844, 'multi': 2845, 'backdrop': 2846, 'metaphor': 2847, 'cusack': 2848, 'hudson': 2849, 'eleph': 2850, 'union': 2851, 'elsewher': 2852, 'rave': 2853, 'stiff': 2854, '2005': 2855, 'notion': 2856, 'gadget': 2857, 'ultra': 2858, 'viru': 2859, 'implaus': 2860, 'hack': 2861, 'birthday': 2862, 'squar': 2863, 'afford': 2864, 'eva': 2865, 'poison': 2866, 'pad': 2867, 'newspap': 2868, 'urg': 2869, 'reader': 2870, 'hawk': 2871, 'eastwood': 2872, 'disc': 2873, 'slight': 2874, 'lloyd': 2875, '1st': 2876, 'bibl': 2877, 'canada': 2878, 'superhero': 2879, 'distanc': 2880, 'deriv': 2881, 'montag': 2882, 'charisma': 2883, 'restaur': 2884, 'skit': 2885, 'spread': 2886, 'health': 2887, 'sadist': 2888, 'huh': 2889, 'cure': 2890, 'drown': 2891, 'button': 2892, 'heston': 2893, 'essenc': 2894, 'peak': 2895, 'companion': 2896, 'invest': 2897, 'lab': 2898, 'muslim': 2899, 'maniac': 2900, 'scoobi': 2901, 'estat': 2902, 'gradual': 2903, 'dealt': 2904, 'godfath': 2905, 'fetch': 2906, 'kane': 2907, 'servant': 2908, 'cup': 2909, 'tea': 2910, 'gothic': 2911, 'subtleti': 2912, 'alli': 2913, 'miik': 2914, 'countless': 2915, 'ritter': 2916, 'salli': 2917, 'briefli': 2918, 'heroic': 2919, 'electr': 2920, 'iii': 2921, 'elect': 2922, 'charismat': 2923, 'wannab': 2924, 'bud': 2925, 'admittedli': 2926, 'ingredi': 2927, 'nuanc': 2928, 'resourc': 2929, 'reel': 2930, 'toss': 2931, 'neil': 2932, 'cole': 2933, 'grandmoth': 2934, 'tender': 2935, 'gate': 2936, 'stood': 2937, 'pit': 2938, 'stronger': 2939, 'mild': 2940, 'carrey': 2941, 'reev': 2942, 'mafia': 2943, 'shall': 2944, 'poverti': 2945, 'kubrick': 2946, 'label': 2947, 'punk': 2948, 'dawson': 2949, 'pauli': 2950, 'assault': 2951, 'bakshi': 2952, 'cardboard': 2953, 'tag': 2954, 'useless': 2955, 'burst': 2956, 'outcom': 2957, 'terri': 2958, 'easier': 2959, 'smooth': 2960, 'cox': 2961, 'ian': 2962, 'fond': 2963, 'smash': 2964, 'updat': 2965, 'astair': 2966, 'divers': 2967, 'vulner': 2968, 'exchang': 2969, 'sketch': 2970, 'increasingli': 2971, 'qualifi': 2972, 'fist': 2973, 'melodramat': 2974, 'resolv': 2975, 'rex': 2976, 'vari': 2977, '2002': 2978, 'coincid': 2979, 'samurai': 2980, 'insert': 2981, 'templ': 2982, 'suspend': 2983, 'luckili': 2984, 'brillianc': 2985, 'reynold': 2986, 'blast': 2987, 'tame': 2988, 'be': 2989, 'conveni': 2990, 'scratch': 2991, 'pin': 2992, 'meat': 2993, 'hamilton': 2994, 'strictli': 2995, 'coach': 2996, 'gotta': 2997, 'farm': 2998, 'matthew': 2999, 'ambiti': 3000, 'walker': 3001, 'soprano': 3002, 'seventi': 3003, 'fisher': 3004, 'nuclear': 3005, 'jami': 3006, 'butcher': 3007, 'monk': 3008, 'instantli': 3009, 'joey': 3010, 'worthless': 3011, 'timeless': 3012, 'grasp': 3013, 'empir': 3014, 'convolut': 3015, 'kudo': 3016, 'cave': 3017, 'recreat': 3018, 'discoveri': 3019, 'eccentr': 3020, 'closet': 3021, 'brosnan': 3022, 'clock': 3023, 'ninja': 3024, 'revers': 3025, 'spooki': 3026, 'struck': 3027, 'communist': 3028, 'fifteen': 3029, 'sloppi': 3030, 'sidekick': 3031, 'eighti': 3032, 'inconsist': 3033, 'declar': 3034, 'pal': 3035, 'selfish': 3036, 'evok': 3037, 'seller': 3038, 'miracl': 3039, 'gray': 3040, 'importantli': 3041, 'mitchel': 3042, 'bleak': 3043, 'wipe': 3044, 'norman': 3045, 'cliff': 3046, 'partli': 3047, 'clown': 3048, 'psychiatrist': 3049, 'superbl': 3050, 'stoog': 3051, 'enthusiast': 3052, 'ho': 3053, 'farc': 3054, 'lifestyl': 3055, 'cheek': 3056, '45': 3057, 'destin': 3058, 'chew': 3059, 'australia': 3060, 'piano': 3061, 'websit': 3062, 'aforement': 3063, 'flawless': 3064, 'debat': 3065, 'seed': 3066, 'dire': 3067, 'directori': 3068, 'kitchen': 3069, 'soviet': 3070, 'splatter': 3071, 'pressur': 3072, 'wrestl': 3073, 'slice': 3074, 'anni': 3075, 'drivel': 3076, 'bash': 3077, 'emili': 3078, 'regardless': 3079, 'incompet': 3080, 'akshay': 3081, 'wick': 3082, 'dash': 3083, 'abc': 3084, 'artifici': 3085, 'curios': 3086, 'seduc': 3087, 'boil': 3088, 'pleasantli': 3089, 'dave': 3090, 'prize': 3091, 'doo': 3092, 'suppli': 3093, 'cameron': 3094, 'ken': 3095, 'recov': 3096, 'increas': 3097, 'glow': 3098, 'flower': 3099, 'mann': 3100, 'duo': 3101, 'chapter': 3102, 'jar': 3103, 'helicopt': 3104, 'beaten': 3105, 'cagney': 3106, 'lou': 3107, 'judi': 3108, 'distant': 3109, 'cia': 3110, 'blob': 3111, 'craven': 3112, 'combat': 3113, 'hop': 3114, 'francisco': 3115, 'drunken': 3116, 'eleg': 3117, 'laurel': 3118, 'turner': 3119, 'perri': 3120, 'panic': 3121, 'splendid': 3122, 'ranger': 3123, 'psychot': 3124, 'glenn': 3125, 'favour': 3126, 'web': 3127, 'craig': 3128, 'goldberg': 3129, 'ellen': 3130, 'plausibl': 3131, 'philosophi': 3132, 'gentl': 3133, 'graduat': 3134, 'wizard': 3135, 'flip': 3136, 'modesti': 3137, 'hatr': 3138, '20th': 3139, 'ruth': 3140, 'greek': 3141, 'falk': 3142, 'slightest': 3143, 'alexand': 3144, 'shortli': 3145, 'rid': 3146, 'fx': 3147, 'min': 3148, 'gandhi': 3149, 'we': 3150, 'unpleas': 3151, 'ocean': 3152, 'preciou': 3153, 'knight': 3154, 'futurist': 3155, 'manhattan': 3156, 'legal': 3157, 'lend': 3158, 'jealou': 3159, 'tall': 3160, 'holi': 3161, 'fund': 3162, 'harm': 3163, 'dracula': 3164, 'felix': 3165, 'ami': 3166, 'childish': 3167, 'digniti': 3168, 'overdon': 3169, 'forbidden': 3170, 'reviv': 3171, 'explicit': 3172, 'nod': 3173, 'bless': 3174, 'thread': 3175, 'scientif': 3176, 'giallo': 3177, 'mock': 3178, 'tank': 3179, 'mel': 3180, 'repeatedli': 3181, 'broad': 3182, 'awe': 3183, 'nerv': 3184, '99': 3185, 'yesterday': 3186, 'margaret': 3187, 'fever': 3188, 'verhoeven': 3189, 'elderli': 3190, 'unwatch': 3191, 'pirat': 3192, 'eve': 3193, 'thick': 3194, '2004': 3195, 'awaken': 3196, 'torment': 3197, 'acclaim': 3198, 'politician': 3199, 'ambit': 3200, 'automat': 3201, 'launch': 3202, 'uniform': 3203, 'lean': 3204, 'ah': 3205, 'bin': 3206, 'kay': 3207, 'roman': 3208, 'custom': 3209, 'absenc': 3210, 'publish': 3211, 'timothi': 3212, 'eas': 3213, 'romero': 3214, 'royal': 3215, 'griffith': 3216, 'rivet': 3217, 'stiller': 3218, 'phrase': 3219, 'tomato': 3220, 'bathroom': 3221, 'pulp': 3222, 'antic': 3223, 'warren': 3224, 'foul': 3225, 'homicid': 3226, 'darker': 3227, 'stinker': 3228, 'crook': 3229, 'transport': 3230, 'gabriel': 3231, 'pierc': 3232, 'termin': 3233, 'purpl': 3234, 'wallac': 3235, 'sunshin': 3236, 'hollow': 3237, 'horrid': 3238, 'ought': 3239, 'rambo': 3240, 'evolv': 3241, 'brazil': 3242, 'sixti': 3243, 'marin': 3244, 'choreographi': 3245, 'packag': 3246, 'karen': 3247, 'viciou': 3248, 'pray': 3249, 'album': 3250, 'revolutionari': 3251, 'q': 3252, 'awak': 3253, 'li': 3254, 'saint': 3255, 'donna': 3256, 'coloni': 3257, '2003': 3258, 'contrari': 3259, 'juvenil': 3260, 'kenneth': 3261, 'prom': 3262, 'eyr': 3263, 'boast': 3264, 'blade': 3265, 'option': 3266, 'candid': 3267, 'nerd': 3268, 'stole': 3269, 'conserv': 3270, 'ireland': 3271, 'mummi': 3272, 'twelv': 3273, 'beatti': 3274, 'mildr': 3275, 'dose': 3276, 'ramon': 3277, 'overr': 3278, 'defi': 3279, 'kapoor': 3280, 'flame': 3281, 'astonish': 3282, 'confirm': 3283, 'trio': 3284, 'collabor': 3285, 'kirk': 3286, 'jazz': 3287, 'funer': 3288, 'altman': 3289, 'fulci': 3290, 'natali': 3291, 'detract': 3292, 'global': 3293, 'protest': 3294, 'leap': 3295, 'shade': 3296, 'whip': 3297, 'tommi': 3298, 'enterpris': 3299, 'delici': 3300, 'yellow': 3301, 'spit': 3302, 'bottl': 3303, 'destini': 3304, 'bull': 3305, 'racial': 3306, 'blake': 3307, 'mystic': 3308, 'audio': 3309, 'nicholson': 3310, 'inherit': 3311, 'altogeth': 3312, 'enchant': 3313, 'todd': 3314, 'vivid': 3315, 'adolesc': 3316, 'meaningless': 3317, 'pseudo': 3318, 'visibl': 3319, 'bedroom': 3320, 'staff': 3321, 'reunit': 3322, 'popcorn': 3323, 'neo': 3324, 'merci': 3325, 'harder': 3326, 'fonda': 3327, 'threw': 3328, 'swedish': 3329, 'respond': 3330, 'roommat': 3331, 'befriend': 3332, 'wire': 3333, 'reserv': 3334, 'kennedi': 3335, 'bust': 3336, 'fanat': 3337, 'exhibit': 3338, 'voight': 3339, 'synopsi': 3340, 'await': 3341, 'tip': 3342, 'edi': 3343, 'madonna': 3344, 'jew': 3345, 'leonard': 3346, 'suspici': 3347, 'ruthless': 3348, 'decor': 3349, 'lawrenc': 3350, 'uneven': 3351, 'atlanti': 3352, 'lemmon': 3353, 'moodi': 3354, 'crocodil': 3355, 'unsettl': 3356, 'ventur': 3357, 'chao': 3358, 'centr': 3359, 'dimens': 3360, 'garner': 3361, 'audit': 3362, 'carl': 3363, 'clint': 3364, 'rural': 3365, 'incident': 3366, 'bold': 3367, '2007': 3368, 'abysm': 3369, 'palma': 3370, 'bargain': 3371, 'clumsi': 3372, 'bradi': 3373, 'voyag': 3374, 'holli': 3375, 'nearbi': 3376, 'cari': 3377, 'ant': 3378, 'lit': 3379, 'poetic': 3380, 'hart': 3381, 'characterist': 3382, 'imperson': 3383, 'cuba': 3384, 'acknowledg': 3385, 'echo': 3386, 'neglect': 3387, '2nd': 3388, 'wealth': 3389, 'tiger': 3390, 'immigr': 3391, 'humili': 3392, 'cd': 3393, 'troop': 3394, 'elimin': 3395, 'trail': 3396, 'daddi': 3397, 'versu': 3398, 'mall': 3399, 'timon': 3400, 'paus': 3401, 'repuls': 3402, 'prejudic': 3403, 'pun': 3404, 'marshal': 3405, 'mistaken': 3406, 'celluloid': 3407, 'mickey': 3408, 'saga': 3409, 'infect': 3410, 'jeffrey': 3411, 'domest': 3412, 'homer': 3413, 'collaps': 3414, 'solo': 3415, 'undoubtedli': 3416, 'harvey': 3417, 'promin': 3418, 'sore': 3419, '1996': 3420, 'milk': 3421, 'inappropri': 3422, 'assembl': 3423, 'gear': 3424, 'chest': 3425, 'cake': 3426, 'olivi': 3427, 'pant': 3428, 'equip': 3429, 'coffe': 3430, 'tribe': 3431, 'coat': 3432, 'interrupt': 3433, 'hbo': 3434, 'apolog': 3435, 'ginger': 3436, 'inan': 3437, 'leon': 3438, 'vulgar': 3439, 'exot': 3440, 'solut': 3441, 'humbl': 3442, 'consum': 3443, 'retain': 3444, 'pen': 3445, 'trace': 3446, 'airplan': 3447, 'primari': 3448, 'brooklyn': 3449, 'devast': 3450, 'maggi': 3451, 'furthermor': 3452, 'aveng': 3453, 'pot': 3454, 'highest': 3455, 'colleagu': 3456, 'jenni': 3457, 'polanski': 3458, 'institut': 3459, 'instant': 3460, 'colonel': 3461, 'embrac': 3462, 'florida': 3463, '1999': 3464, 'ya': 3465, 'gender': 3466, 'strain': 3467, 'disabl': 3468, 'descend': 3469, 'wive': 3470, 'rick': 3471, 'linda': 3472, 'seduct': 3473, 'sale': 3474, '3rd': 3475, 'cope': 3476, 'poke': 3477, 'outer': 3478, 'dutch': 3479, 'dian': 3480, 'smaller': 3481, 'illog': 3482, 'bowl': 3483, 'godzilla': 3484, 'principl': 3485, 'dive': 3486, 'secondli': 3487, 'rabbit': 3488, 'beneath': 3489, 'gloriou': 3490, 'cue': 3491, 'inferior': 3492, 'blatant': 3493, 'scope': 3494, 'primarili': 3495, 'predecessor': 3496, 'hal': 3497, 'bubbl': 3498, 'lol': 3499, 'yard': 3500, 'devoid': 3501, 'glamor': 3502, 'vast': 3503, 'dud': 3504, 'gundam': 3505, 'mixtur': 3506, 'z': 3507, 'hideou': 3508, 'pearl': 3509, 'simplist': 3510, 'invas': 3511, 'senseless': 3512, 'trademark': 3513, 'disjoint': 3514, 'alert': 3515, 'et': 3516, 'alfr': 3517, 'shirley': 3518, 'countrysid': 3519, 'shelf': 3520, 'domino': 3521, 'april': 3522, 'aggress': 3523, 'streep': 3524, 'breed': 3525, 'museum': 3526, 'casual': 3527, 'myer': 3528, 'talki': 3529, 'arab': 3530, 'garbo': 3531, 'grinch': 3532, 'defens': 3533, 'loyal': 3534, 'oz': 3535, 'stir': 3536, 'disgrac': 3537, 'sh': 3538, 'mail': 3539, 'rendit': 3540, 'hardcor': 3541, 'maci': 3542, 'unhappi': 3543, 'illeg': 3544, 'obtain': 3545, 'acid': 3546, 'robberi': 3547, 'applaud': 3548, 'experiment': 3549, 'mayor': 3550, 'robinson': 3551, 'stack': 3552, 'stellar': 3553, 'boom': 3554, 'slide': 3555, 'khan': 3556, 'vanish': 3557, 'uwe': 3558, 'hopeless': 3559, 'craze': 3560, 'emphasi': 3561, 'tempt': 3562, 'recruit': 3563, 'blew': 3564, 'spider': 3565, 'span': 3566, 'berlin': 3567, 'wont': 3568, 'amanda': 3569, 'soccer': 3570, 'counter': 3571, 'topless': 3572, 'dismiss': 3573, 'psychic': 3574, 'grandfath': 3575, 'tenant': 3576, 'diana': 3577, 'rifl': 3578, 'hartley': 3579, 'dicken': 3580, 'scroog': 3581, 'declin': 3582, 'fri': 3583, 'incomprehens': 3584, 'revolt': 3585, 'sympath': 3586, 'woo': 3587, 'ration': 3588, 'sibl': 3589, 'trashi': 3590, 'faster': 3591, 'parad': 3592, 'ethnic': 3593, 'wet': 3594, 'riot': 3595, 'intim': 3596, 'bitch': 3597, 'shed': 3598, 'goer': 3599, 'resurrect': 3600, 'shaw': 3601, 'justin': 3602, 'porno': 3603, 'lumet': 3604, 'niro': 3605, 'ballet': 3606, 'immort': 3607, 'wheel': 3608, 'worm': 3609, 'honesti': 3610, 'farmer': 3611, 'hopper': 3612, 'unreal': 3613, 'dealer': 3614, 'feminist': 3615, 'commend': 3616, 'partial': 3617, 'biographi': 3618, 'rider': 3619, 'weakest': 3620, 'mario': 3621, 'ensur': 3622, '00': 3623, 'eager': 3624, 'slick': 3625, 'lena': 3626, 'hesit': 3627, 'enlighten': 3628, 'gap': 3629, 'andr': 3630, 'patriot': 3631, 'region': 3632, 'jonathan': 3633, 'nephew': 3634, 'steam': 3635, 'choru': 3636, 'wendi': 3637, 'vice': 3638, 'confin': 3639, 'psychopath': 3640, 'safeti': 3641, 'skull': 3642, 'snap': 3643, 'prequel': 3644, 'victori': 3645, 'repress': 3646, 'properti': 3647, 'charlott': 3648, 'macarthur': 3649, 'blunt': 3650, 'sappi': 3651, 'nostalg': 3652, 'leo': 3653, 'util': 3654, 'morri': 3655, 'franco': 3656, 'mutant': 3657, 'wore': 3658, 'sandra': 3659, 'kingdom': 3660, 'hung': 3661, 'owen': 3662, 'composit': 3663, 'similarli': 3664, 'kyle': 3665, 'emperor': 3666, 'bumbl': 3667, 'heartbreak': 3668, 'deed': 3669, 'rope': 3670, 'rambl': 3671, 'bow': 3672, 'montana': 3673, 'del': 3674, 'tad': 3675, 'repli': 3676, 'bonu': 3677, 'nervou': 3678, 'miseri': 3679, 'valuabl': 3680, 'rocki': 3681, 'campbel': 3682, 'pattern': 3683, 'compens': 3684, 'bergman': 3685, 'speci': 3686, 'acquir': 3687, 'thru': 3688, 'latin': 3689, 'recycl': 3690, 'drum': 3691, 'despair': 3692, 'dust': 3693, 'farrel': 3694, 'compass': 3695, 'exit': 3696, 'tail': 3697, 'cg': 3698, 'dalton': 3699, 'hyde': 3700, 'strand': 3701, '1972': 3702, 'drain': 3703, 'snl': 3704, 'whoopi': 3705, 'gimmick': 3706, 'rapist': 3707, 'mistress': 3708, 'rotten': 3709, 'tonight': 3710, 'romp': 3711, 'bleed': 3712, 'da': 3713, 'airport': 3714, 'martian': 3715, 'downhil': 3716, 'radic': 3717, 'percept': 3718, 'orson': 3719, 'roth': 3720, 'oppress': 3721, 'wacki': 3722, 'pour': 3723, '35': 3724, 'contempl': 3725, 'chess': 3726, 'carradin': 3727, 'gal': 3728, 'slug': 3729, 'olli': 3730, 'arc': 3731, 'programm': 3732, 'pursuit': 3733, 'mislead': 3734, 'arguabl': 3735, 'tackl': 3736, 'melodi': 3737, '1983': 3738, 'belt': 3739, 'preach': 3740, 'edgar': 3741, 'pervers': 3742, 'unpredict': 3743, 'heal': 3744, 'stilt': 3745, 'banal': 3746, 'champion': 3747, 'pervert': 3748, 'attorney': 3749, 'tooth': 3750, 'shelley': 3751, 'dazzl': 3752, 'paltrow': 3753, 'slash': 3754, 'taught': 3755, 'vocal': 3756, 'gambl': 3757, 'cleverli': 3758, 'tiresom': 3759, 'plight': 3760, 'poem': 3761, 'chicken': 3762, 'franki': 3763, 'duval': 3764, 'raymond': 3765, 'closest': 3766, 'graham': 3767, 'employe': 3768, 'bela': 3769, 'rubi': 3770, 'marti': 3771, 'sensat': 3772, 'passeng': 3773, 'mesmer': 3774, 'uplift': 3775, 'conneri': 3776, 'virginia': 3777, 'orang': 3778, 'vengeanc': 3779, 'maid': 3780, 'dixon': 3781, 'monologu': 3782, 'outing': 3783, 'crystal': 3784, 'swallow': 3785, 'volum': 3786, 'gerard': 3787, 'clone': 3788, 'giggl': 3789, 'bay': 3790, 'yawn': 3791, 'suffic': 3792, 'mute': 3793, 'inject': 3794, '1968': 3795, 'scottish': 3796, 'engross': 3797, 'quarter': 3798, 'whine': 3799, 'abraham': 3800, 'habit': 3801, 'sirk': 3802, 'profan': 3803, 'pokemon': 3804, 'climact': 3805, 'tube': 3806, 'paranoia': 3807, 'lundgren': 3808, 'secretli': 3809, 'convincingli': 3810, 'calm': 3811, 'extens': 3812, 'numb': 3813, 'amitabh': 3814, 'iran': 3815, 'expand': 3816, 'im': 3817, 'bend': 3818, 'frankenstein': 3819, 'plod': 3820, 'meander': 3821, 'poetri': 3822, 'spock': 3823, 'nichola': 3824, 'franci': 3825, 'earl': 3826, 'ethan': 3827, 'surpass': 3828, 'grotesqu': 3829, 'profess': 3830, 'richardson': 3831, 'abort': 3832, 'fed': 3833, 'backward': 3834, 'linger': 3835, 'underst': 3836, 'trend': 3837, 'dispos': 3838, 'taxi': 3839, 'austen': 3840, 'septemb': 3841, 'lowest': 3842, 'chicago': 3843, 'junior': 3844, 'simplic': 3845, 'cannon': 3846, 'lure': 3847, 'literatur': 3848, 'hum': 3849, 'der': 3850, 'tourist': 3851, 'descent': 3852, 'eugen': 3853, 'rubber': 3854, 'greedi': 3855, 'rant': 3856, 'spoke': 3857, 'dysfunct': 3858, 'waitress': 3859, 'instrument': 3860, 'catchi': 3861, 'muddl': 3862, 'household': 3863, 'mundan': 3864, 'myth': 3865, 'nostalgia': 3866, 'compliment': 3867, 'sue': 3868, 'econom': 3869, 'stallon': 3870, 'mankind': 3871, 'irrelev': 3872, 'flee': 3873, 'bacal': 3874, 'dement': 3875, 'deaf': 3876, 'mortal': 3877, 'recognis': 3878, 'furi': 3879, 'equival': 3880, 'dictat': 3881, 'damon': 3882, 'phoni': 3883, 'omen': 3884, 'duck': 3885, 'phantom': 3886, 'recognit': 3887, 'map': 3888, 'alongsid': 3889, 'firstli': 3890, 'insur': 3891, 'sissi': 3892, 'cent': 3893, 'randi': 3894, 'june': 3895, 'molli': 3896, 'eaten': 3897, 'crucial': 3898, 'coast': 3899, 'carel': 3900, 'louis': 3901, 'occupi': 3902, 'lang': 3903, 'hello': 3904, 'stale': 3905, 'distinguish': 3906, 'blackmail': 3907, 'loyalti': 3908, 'cyborg': 3909, 'labor': 3910, 'dreari': 3911, 'damm': 3912, 'lengthi': 3913, 'rooney': 3914, 'grayson': 3915, 'ashley': 3916, 'heel': 3917, 'reign': 3918, 'drake': 3919, 'bike': 3920, 'freez': 3921, 'twilight': 3922, 'daisi': 3923, 'antwon': 3924, 'bump': 3925, 'newli': 3926, 'onlin': 3927, 'rude': 3928, 'buffalo': 3929, 'likewis': 3930, 'wisdom': 3931, 'biko': 3932, '1973': 3933, 'emphas': 3934, 'worn': 3935, 'tunnel': 3936, 'vein': 3937, 'prey': 3938, 'nineti': 3939, 'butler': 3940, 'inher': 3941, 'interior': 3942, 'ridden': 3943, 'keith': 3944, 'chronicl': 3945, 'basketbal': 3946, 'boxer': 3947, 'proce': 3948, 'analysi': 3949, 'incorpor': 3950, 'unorigin': 3951, 'sailor': 3952, 'barrymor': 3953, 'attribut': 3954, 'startl': 3955, 'baddi': 3956, 'approv': 3957, 'pink': 3958, 'exposur': 3959, 'provoc': 3960, 'elm': 3961, 'condemn': 3962, 'mighti': 3963, 'undeni': 3964, 'underli': 3965, 'mormon': 3966, 'walsh': 3967, 'hypnot': 3968, 'er': 3969, 'simmon': 3970, 'indiffer': 3971, 'unrel': 3972, 'degrad': 3973, 'improvis': 3974, 'substitut': 3975, 'predat': 3976, 'robbin': 3977, 'julian': 3978, 'barrel': 3979, 'fleet': 3980, 'meyer': 3981, 'drift': 3982, 'bunni': 3983, 'nicol': 3984, 'millionair': 3985, 'belushi': 3986, 'meg': 3987, 'stalker': 3988, 'carla': 3989, 'othello': 3990, 'watson': 3991, 'lampoon': 3992, 'edgi': 3993, '3d': 3994, 'roof': 3995, 'palac': 3996, 'marion': 3997, 'nyc': 3998, 'enthusiasm': 3999, 'warmth': 4000, 'hay': 4001, 'alison': 4002, 'firm': 4003, 'shove': 4004, 'greed': 4005, 'exquisit': 4006, 'reid': 4007, 'unawar': 4008, 'dolph': 4009, 'disord': 4010, 'agenda': 4011, 'vital': 4012, 'errol': 4013, 'mtv': 4014, 'novak': 4015, 'rukh': 4016, 'alarm': 4017, 'priceless': 4018, 'randomli': 4019, 'ponder': 4020, 'peril': 4021, 'sergeant': 4022, 'minimum': 4023, 'simultan': 4024, 'glanc': 4025, 'showdown': 4026, 'championship': 4027, 'angela': 4028, 'distort': 4029, 'thompson': 4030, 'testament': 4031, 'peck': 4032, 'what': 4033, 'orlean': 4034, 'drip': 4035, 'session': 4036, 'spain': 4037, 'cassidi': 4038, 'campaign': 4039, 'eastern': 4040, 'preserv': 4041, 'profit': 4042, 'coup': 4043, 'petti': 4044, 'beatl': 4045, 'valentin': 4046, '13th': 4047, 'pamela': 4048, '1933': 4049, 'gestur': 4050, 'israel': 4051, 'unleash': 4052, 'nun': 4053, 'crown': 4054, 'iraq': 4055, 'zizek': 4056, 'climat': 4057, 'represent': 4058, 'perpetu': 4059, 'din': 4060, 'realm': 4061, 'contradict': 4062, 'wig': 4063, 'restrain': 4064, 'shootout': 4065, 'gentleman': 4066, 'valley': 4067, 'calib': 4068, 'brenda': 4069, 'crawl': 4070, 'rout': 4071, 'quinn': 4072, 'han': 4073, '1984': 4074, 'exposit': 4075, 'travesti': 4076, 'bro': 4077, 'kurosawa': 4078, 'mon': 4079, 'regist': 4080, 'unimagin': 4081, 'buster': 4082, 'stake': 4083, 'crow': 4084, 'sabrina': 4085, 'stroke': 4086, 'cream': 4087, 'cooki': 4088, 'fido': 4089, 'empathi': 4090, 'scotland': 4091, 'reson': 4092, 'jan': 4093, 'miyazaki': 4094, 'painter': 4095, 'cloud': 4096, 'passabl': 4097, 'distress': 4098, 'derang': 4099, 'greg': 4100, 'mclaglen': 4101, 'unsatisfi': 4102, 'delic': 4103, 'geek': 4104, 'absent': 4105, '1987': 4106, 'ross': 4107, 'censor': 4108, 'businessman': 4109, 'spacey': 4110, 'stargat': 4111, 'shaki': 4112, 'crawford': 4113, 'tacki': 4114, 'femm': 4115, 'unseen': 4116, 'shoddi': 4117, 'baldwin': 4118, 'soderbergh': 4119, 'demis': 4120, 'pole': 4121, 'monoton': 4122, 'meryl': 4123, 'sucker': 4124, 'darren': 4125, 'warrant': 4126, 'fuller': 4127, '1997': 4128, 'abomin': 4129, 'compromis': 4130, 'pretens': 4131, 'perceiv': 4132, 'traumat': 4133, 'josh': 4134, 'wax': 4135, 'sammi': 4136, 'dana': 4137, 'ustinov': 4138, 'polici': 4139, 'clash': 4140, 'exclus': 4141, 'tarantino': 4142, 'reluct': 4143, 'tech': 4144, 'expedit': 4145, 'wholli': 4146, 'valid': 4147, 'deceas': 4148, 'anchor': 4149, 'fog': 4150, 'fenc': 4151, 'furiou': 4152, 'judgment': 4153, 'uncov': 4154, 'correctli': 4155, 'unravel': 4156, 'primit': 4157, 'jewel': 4158, 'norm': 4159, 'antonioni': 4160, 'verbal': 4161, 'seal': 4162, 'accuraci': 4163, 'kumar': 4164, 'sid': 4165, 'austin': 4166, 'nathan': 4167, 'deniro': 4168, '1993': 4169, 'dee': 4170, 'click': 4171, 'ritual': 4172, '1995': 4173, 'fought': 4174, 'wang': 4175, 'sunni': 4176, '1971': 4177, 'roller': 4178, 'dreck': 4179, 'clerk': 4180, 'patienc': 4181, 'bake': 4182, 'wretch': 4183, 'vanc': 4184, 'behold': 4185, 'darn': 4186, 'conduct': 4187, 'temper': 4188, 'sheet': 4189, 'unfair': 4190, 'hallucin': 4191, 'fart': 4192, '2008': 4193, 'tax': 4194, 'logan': 4195, 'fabric': 4196, 'shanghai': 4197, 'trait': 4198, 'murray': 4199, 'slam': 4200, 'crippl': 4201, 'malon': 4202, 'enforc': 4203, 'seldom': 4204, '3000': 4205, 'pocket': 4206, 'joel': 4207, 'sustain': 4208, 'alec': 4209, 'sand': 4210, 'mode': 4211, 'nicola': 4212, 'debt': 4213, 'scriptwrit': 4214, 'critiqu': 4215, 'fundament': 4216, 'runner': 4217, 'technicolor': 4218, 'outlin': 4219, 'penni': 4220, 'tactic': 4221, 'pete': 4222, 'legaci': 4223, 'helpless': 4224, 'guitar': 4225, 'soup': 4226, 'despis': 4227, 'schedul': 4228, 'shell': 4229, 'isabel': 4230, 'conscious': 4231, 'exhaust': 4232, 'phil': 4233, 'rita': 4234, 'stark': 4235, 'robber': 4236, 'grief': 4237, 'sweep': 4238, 'canyon': 4239, 'bias': 4240, 'stuart': 4241, 'bridget': 4242, 'preston': 4243, 'divid': 4244, 'clau': 4245, 'preposter': 4246, 'squad': 4247, 'kansa': 4248, 'cigarett': 4249, 'agenc': 4250, 'gregori': 4251, 'drove': 4252, 'rehash': 4253, 'jodi': 4254, 'marc': 4255, 'lacklust': 4256, 'unexpectedli': 4257, 'boyl': 4258, 'propos': 4259, 'restrict': 4260, 'consciou': 4261, 'delv': 4262, 'jacket': 4263, 'bloom': 4264, 'palanc': 4265, 'culmin': 4266, 'invad': 4267, 'liberti': 4268, 'rear': 4269, 'vomit': 4270, 'alicia': 4271, 'passag': 4272, 'sniper': 4273, 'newman': 4274, 'connor': 4275, 'inabl': 4276, 'sugar': 4277, 'russia': 4278, 'sentinel': 4279, 'flair': 4280, 'alley': 4281, 'implic': 4282, 'downey': 4283, 'improb': 4284, 'chainsaw': 4285, 'asylum': 4286, 'behaviour': 4287, 'pale': 4288, 'ladder': 4289, 'wrench': 4290, 'cap': 4291, 'awhil': 4292, 'horn': 4293, 'lush': 4294, 'sharon': 4295, 'mccoy': 4296, 'arrow': 4297, 'aesthet': 4298, '22': 4299, 'karl': 4300, 'bacon': 4301, 'rod': 4302, 'rampag': 4303, 'tripe': 4304, 'foxx': 4305, 'rehears': 4306, 'vet': 4307, 'yeti': 4308, 'feat': 4309, 'delet': 4310, 'tendenc': 4311, '1936': 4312, 'kolchak': 4313, 'weav': 4314, 'shortcom': 4315, '1978': 4316, 'hackney': 4317, 'hungri': 4318, 'suspicion': 4319, 'coaster': 4320, 'wildli': 4321, 'underneath': 4322, 'sung': 4323, 'hulk': 4324, 'visitor': 4325, 'lurk': 4326, '19th': 4327, '1920': 4328, 'rhythm': 4329, 'stream': 4330, 'financ': 4331, 'aristocrat': 4332, 'spice': 4333, 'minu': 4334, 'fright': 4335, '1988': 4336, 'filler': 4337, 'paradis': 4338, 'newcom': 4339, 'suffici': 4340, 'el': 4341, 'paramount': 4342, 'globe': 4343, 'tasteless': 4344, 'scoop': 4345, 'tomorrow': 4346, 'basing': 4347, 'prank': 4348, 'conscienc': 4349, 'loneli': 4350, 'thunderbird': 4351, 'amazon': 4352, 'wagner': 4353, 'elit': 4354, 'rumor': 4355, 'entranc': 4356, 'straightforward': 4357, '1939': 4358, 'worship': 4359, 'immers': 4360, 'beverli': 4361, 'choppi': 4362, 'en': 4363, 'wwe': 4364, 'ram': 4365, 'recogniz': 4366, 'penn': 4367, 'grudg': 4368, 'heist': 4369, 'inmat': 4370, 'bread': 4371, 'minist': 4372, 'abrupt': 4373, '75': 4374, '1989': 4375, 'iv': 4376, 'secondari': 4377, 'literari': 4378, 'counterpart': 4379, 'naughti': 4380, 'atroc': 4381, 'teas': 4382, 'ingeni': 4383, 'dirt': 4384, 'standout': 4385, 'quietli': 4386, 'brit': 4387, 'posey': 4388, 'paxton': 4389, 'smell': 4390, 'couch': 4391, 'leigh': 4392, 'rub': 4393, 'hopkin': 4394, 'springer': 4395, 'lectur': 4396, 'cancer': 4397, 'impos': 4398, 'chamberlain': 4399, 'chavez': 4400, 'tierney': 4401, 'curli': 4402, 'sublim': 4403, 'net': 4404, 'ace': 4405, 'nemesi': 4406, 'transcend': 4407, 'clan': 4408, 'cattl': 4409, 'injuri': 4410, 'variat': 4411, 'bernard': 4412, 'misguid': 4413, 'yearn': 4414, 'heartfelt': 4415, 'geni': 4416, 'laurenc': 4417, 'watcher': 4418, 'entitl': 4419, 'lindsay': 4420, 'sassi': 4421, 'quaid': 4422, 'convert': 4423, 'attenborough': 4424, 'morbid': 4425, 'moreov': 4426, 'missil': 4427, 'policeman': 4428, 'skeptic': 4429, 'duel': 4430, 'enthral': 4431, 'esther': 4432, 'ratso': 4433, '1986': 4434, 'nolan': 4435, 'characteris': 4436, 'vader': 4437, 'kitti': 4438, 'hk': 4439, 'moder': 4440, 'uncut': 4441, 'enabl': 4442, 'poe': 4443, 'mytholog': 4444, 'grin': 4445, 'out': 4446, 'youngest': 4447, 'buzz': 4448, 'puppi': 4449, 'graini': 4450, 'rosemari': 4451, 'facil': 4452, 'bean': 4453, 'bye': 4454, 'cruelti': 4455, 'dont': 4456, 'hopelessli': 4457, 'reliabl': 4458, 'carlito': 4459, 'brood': 4460, 'obstacl': 4461, 'spiral': 4462, 'unexplain': 4463, 'diari': 4464, 'artsi': 4465, 'steadi': 4466, 'setup': 4467, 'kidman': 4468, '1979': 4469, 'egg': 4470, 'tyler': 4471, 'narrow': 4472, 'bronson': 4473, 'heap': 4474, 'athlet': 4475, 'oblig': 4476, '1969': 4477, 'niec': 4478, 'acquaint': 4479, 'effici': 4480, 'christin': 4481, 'fuel': 4482, 'martha': 4483, 'spontan': 4484, 'bounc': 4485, 'hammi': 4486, 'decept': 4487, 'gina': 4488, 'weather': 4489, 'sweat': 4490, 'patricia': 4491, 'disastr': 4492, 'brendan': 4493, 'bewar': 4494, 'clueless': 4495, 'gillian': 4496, 'underworld': 4497, 'preming': 4498, 'exterior': 4499, 'despic': 4500, 'baffl': 4501, 'hain': 4502, 'kline': 4503, 'trigger': 4504, 'candl': 4505, 'dilemma': 4506, 'fontain': 4507, 'viewpoint': 4508, 'shatter': 4509, 'angst': 4510, 'mermaid': 4511, 'tick': 4512, 'scar': 4513, 'taboo': 4514, 'injur': 4515, '19': 4516, 'outlaw': 4517, 'suprem': 4518, 'preachi': 4519, 'harmless': 4520, '73': 4521, 'loath': 4522, 'analyz': 4523, 'headach': 4524, 'renaiss': 4525, 'goof': 4526, 'insipid': 4527, 'enlist': 4528, 'sleepwalk': 4529, 'uh': 4530, 'circu': 4531, 'dandi': 4532, 'mayhem': 4533, 'virtu': 4534, 'hepburn': 4535, 'biker': 4536, 'housewif': 4537, 'rome': 4538, 'astound': 4539, 'lester': 4540, 'loi': 4541, 'sooner': 4542, 'macho': 4543, 'contempt': 4544, 'stimul': 4545, 'slimi': 4546, 'tripl': 4547, 'dish': 4548, 'hooker': 4549, 'amor': 4550, 'salt': 4551, 'ariel': 4552, 'whore': 4553, 'foolish': 4554, 'dismal': 4555, 'boston': 4556, 'intric': 4557, 'redund': 4558, 'filth': 4559, 'glorifi': 4560, 'immatur': 4561, 'oldest': 4562, 'idol': 4563, 'zoom': 4564, 'sox': 4565, 'scorses': 4566, 'bent': 4567, 'surgeri': 4568, 'guin': 4569, 'fluff': 4570, 'hostag': 4571, 'overlong': 4572, 'claustrophob': 4573, 'spade': 4574, 'stair': 4575, 'camcord': 4576, 'gere': 4577, 'hokey': 4578, 'corbett': 4579, 'steer': 4580, 'phenomenon': 4581, 'ebert': 4582, 'cassavet': 4583, 'shred': 4584, 'mount': 4585, 'proport': 4586, 'radiat': 4587, 'cush': 4588, 'transplant': 4589, 'down': 4590, 'flashi': 4591, 'conquer': 4592, 'cow': 4593, 'nolt': 4594, 'beard': 4595, 'schlock': 4596, 'naschi': 4597, 'widescreen': 4598, 'harold': 4599, 'spinal': 4600, 'margin': 4601, 'messi': 4602, 'spree': 4603, 'assert': 4604, 'keen': 4605, 'obligatori': 4606, 'strongest': 4607, 'joker': 4608, 'frantic': 4609, 'perman': 4610, 'gabl': 4611, 'remad': 4612, 'muscl': 4613, 'flirt': 4614, 'zane': 4615, '1976': 4616, 'preced': 4617, 'mutual': 4618, 'astronaut': 4619, 'gasp': 4620, '1981': 4621, 'antagonist': 4622, 'shield': 4623, 'flag': 4624, 'cohen': 4625, 'alvin': 4626, 'fascist': 4627, 'dwarf': 4628, 'rhyme': 4629, 'trivia': 4630, 'corman': 4631, 'faint': 4632, 'scandal': 4633, 'wield': 4634, 'www': 4635, 'strive': 4636, 'bachelor': 4637, 'bitten': 4638, 'claud': 4639, 'discern': 4640, 'triangl': 4641, 'repris': 4642, 'neurot': 4643, 'info': 4644, '1945': 4645, '28': 4646, 'sensual': 4647, 'flock': 4648, 'hara': 4649, '95': 4650, 'brush': 4651, 'aborigin': 4652, 'barn': 4653, 'archiv': 4654, 'inflict': 4655, 'carey': 4656, 'someday': 4657, 'off': 4658, 'persuad': 4659, 'mobil': 4660, 'fishburn': 4661, 'mol': 4662, 'boob': 4663, 'raj': 4664, 'ritchi': 4665, 'resum': 4666, 'instruct': 4667, 'danish': 4668, 'vaniti': 4669, 'divin': 4670, 'interestingli': 4671, 'departur': 4672, 'deer': 4673, 'luka': 4674, 'kathryn': 4675, 'traffic': 4676, 'helm': 4677, 'cycl': 4678, 'casino': 4679, 'ish': 4680, 'jade': 4681, 'earnest': 4682, 'submit': 4683, 'dim': 4684, 'rot': 4685, 'vibrant': 4686, 'harrison': 4687, 'proclaim': 4688, 'frontier': 4689, 'hapless': 4690, 'dylan': 4691, 'cb': 4692, 'artwork': 4693, 'axe': 4694, 'undermin': 4695, 'colin': 4696, 'pacif': 4697, 'senior': 4698, 'neill': 4699, 'prophet': 4700, 'clad': 4701, 'europa': 4702, 'bate': 4703, 'pickford': 4704, 'melissa': 4705, 'hilar': 4706, 'dame': 4707, 'mobster': 4708, 'anton': 4709, 'banter': 4710, 'cher': 4711, 'pixar': 4712, 'fragil': 4713, 'recit': 4714, 'cliffhang': 4715, 'carlo': 4716, 'parson': 4717, 'hug': 4718, 'timberlak': 4719, 'biblic': 4720, 'heartwarm': 4721, 'wendigo': 4722, 'loretta': 4723, 'miracul': 4724, 'choke': 4725, 'lucil': 4726, 'articl': 4727, 'http': 4728, 'venom': 4729, 'feast': 4730, 'aris': 4731, 'legitim': 4732, 'breakfast': 4733, 'redneck': 4734, 'mason': 4735, 'cerebr': 4736, 'razor': 4737, 'token': 4738, 'flavor': 4739, 'static': 4740, 'illus': 4741, 'misfortun': 4742, 'winchest': 4743, 'seedi': 4744, 'holocaust': 4745, 'bikini': 4746, 'uma': 4747, 'eli': 4748, 'electron': 4749, 'jo': 4750, 'blatantli': 4751, 'lui': 4752, 'akin': 4753, 'rooki': 4754, 'milo': 4755, 'isra': 4756, 'northern': 4757, 'orphan': 4758, 'sicken': 4759, 'nope': 4760, 'trier': 4761, 'estrang': 4762, 'toronto': 4763, 'jordan': 4764, 'bondag': 4765, 'wardrob': 4766, 'vanessa': 4767, 'pc': 4768, 'antholog': 4769, 'alexandr': 4770, 'shepherd': 4771, 'foil': 4772, 'vile': 4773, 'marlon': 4774, 'mathieu': 4775, 'nightclub': 4776, 'oppon': 4777, 'cartoonish': 4778, 'disregard': 4779, 'gunga': 4780, 'peer': 4781, 'highway': 4782, 'ceremoni': 4783, 'glare': 4784, 'leather': 4785, 'deem': 4786, 'shorter': 4787, 'fifth': 4788, 'ideolog': 4789, 'tack': 4790, 'swept': 4791, 'magician': 4792, 'charlton': 4793, 'psych': 4794, 'audrey': 4795, 'boyer': 4796, 'affleck': 4797, 'retriev': 4798, 'clinic': 4799, 'abund': 4800, 'linear': 4801, 'styliz': 4802, 'frog': 4803, 'feminin': 4804, 'comprehend': 4805, 'dudley': 4806, 'huston': 4807, 'howl': 4808, 'gilbert': 4809, 'turd': 4810, 'smack': 4811, 'wrestler': 4812, 'outdat': 4813, 'knightley': 4814, 'potter': 4815, 'monument': 4816, 'compris': 4817, 'plate': 4818, 'lifeless': 4819, 'tara': 4820, 'lighter': 4821, '4th': 4822, 'cemeteri': 4823, 'toe': 4824, 'client': 4825, 'evolut': 4826, '1991': 4827, 'spine': 4828, 'collector': 4829, 'sleaz': 4830, 'corn': 4831, 'phenomen': 4832, 'durat': 4833, 'mitch': 4834, 'moe': 4835, 'conrad': 4836, 'senat': 4837, 'bogu': 4838, 'btw': 4839, 'deliver': 4840, 'chip': 4841, 'lavish': 4842, 'bastard': 4843, '1994': 4844, 'braveheart': 4845, 'energet': 4846, 'spawn': 4847, 'newer': 4848, 'summar': 4849, 'salman': 4850, 'greet': 4851, 'breakdown': 4852, 'whack': 4853, 'boo': 4854, 'einstein': 4855, 'uniformli': 4856, 'goldsworthi': 4857, 'cuban': 4858, 'snatch': 4859, 'jam': 4860, 'cecil': 4861, 'clara': 4862, 'undertak': 4863, 'spectacl': 4864, 'occup': 4865, 'trauma': 4866, 'inaccuraci': 4867, 'signal': 4868, 'armstrong': 4869, 'ie': 4870, 'kazan': 4871, 'outright': 4872, 'randolph': 4873, 'ol': 4874, 'undead': 4875, 'judd': 4876, 'appl': 4877, 'firmli': 4878, 'constitut': 4879, 'evelyn': 4880, 'kent': 4881, 'lex': 4882, 'pronounc': 4883, 'neatli': 4884, 'alleg': 4885, 'healthi': 4886, 'belli': 4887, 'wtf': 4888, 'jule': 4889, 'jedi': 4890, 'nina': 4891, 'historian': 4892, 'luxuri': 4893, 'liu': 4894, 'gilliam': 4895, 'mcqueen': 4896, 'replay': 4897, 'sorrow': 4898, 'embark': 4899, 'bori': 4900, '1974': 4901, 'bulk': 4902, 'eleven': 4903, 'capot': 4904, 'fluid': 4905, 'creek': 4906, '1977': 4907, 'jare': 4908, 'conan': 4909, 'lauren': 4910, 'congratul': 4911, 'ash': 4912, 'genet': 4913, 'galaxi': 4914, 'unsuspect': 4915, 'vignett': 4916, 'knee': 4917, 'subtli': 4918, 'comb': 4919, 'sacrif': 4920, 'miami': 4921, 'inaccur': 4922, 'forgiven': 4923, 'pioneer': 4924, 'sidewalk': 4925, 'meal': 4926, 'antonio': 4927, 'tokyo': 4928, '1985': 4929, 'roar': 4930, 'truman': 4931, 'decapit': 4932, 'comprehens': 4933, 'basket': 4934, 'propheci': 4935, 'carmen': 4936, 'walt': 4937, 'kiddi': 4938, 'palm': 4939, 'vain': 4940, 'miniseri': 4941, 'bait': 4942, 'paula': 4943, 'relentless': 4944, 'groan': 4945, 'cape': 4946, 'goldblum': 4947, 'bsg': 4948, 'unattract': 4949, 'abound': 4950, 'pepper': 4951, 'id': 4952, 'porter': 4953, 'aussi': 4954, 'spray': 4955, 'inclus': 4956, 'lanc': 4957, 'curtain': 4958, 'poker': 4959, 'fruit': 4960, 'rosario': 4961, 'mum': 4962, 'blur': 4963, 'drone': 4964, 'scariest': 4965, 'reincarn': 4966, 'detach': 4967, 'vastli': 4968, 'rapidli': 4969, 'omin': 4970, 'hostil': 4971, 'profil': 4972, 'verg': 4973, 'handicap': 4974, 'victorian': 4975, 'macabr': 4976, 'spill': 4977, 'frontal': 4978, '21st': 4979, 'substanti': 4980, 'evan': 4981, 'assort': 4982, 'hackman': 4983, 'incorrect': 4984, 'weaker': 4985, 'optimist': 4986, 'bravo': 4987, 'mice': 4988, 'sparkl': 4989, 'bach': 4990, 'playboy': 4991, 'jill': 4992, 'dubiou': 4993, 'turtl': 4994, 'ingrid': 4995, 'casper': 4996, 'sophi': 4997, 'ghetto': 4998}\n"
     ]
    }
   ],
   "source": [
    "# TODO: Use this space to determine the five most frequently appearing words in the training set.\n",
    "print(word_dict)"
   ]
  },
  {
   "cell_type": "markdown",
   "metadata": {},
   "source": [
    "### Save `word_dict`\n",
    "\n",
    "Later on when we construct an endpoint which processes a submitted review we will need to make use of the `word_dict` which we have created. As such, we will save it to a file now for future use."
   ]
  },
  {
   "cell_type": "code",
   "execution_count": 15,
   "metadata": {},
   "outputs": [],
   "source": [
    "data_dir = '../data/pytorch' # The folder we will use for storing data\n",
    "if not os.path.exists(data_dir): # Make sure that the folder exists\n",
    "    os.makedirs(data_dir)"
   ]
  },
  {
   "cell_type": "code",
   "execution_count": 16,
   "metadata": {},
   "outputs": [],
   "source": [
    "with open(os.path.join(data_dir, 'word_dict.pkl'), \"wb\") as f:\n",
    "    pickle.dump(word_dict, f)"
   ]
  },
  {
   "cell_type": "markdown",
   "metadata": {},
   "source": [
    "### Transform the reviews\n",
    "\n",
    "Now that we have our word dictionary which allows us to transform the words appearing in the reviews into integers, it is time to make use of it and convert our reviews to their integer sequence representation, making sure to pad or truncate to a fixed length, which in our case is `500`."
   ]
  },
  {
   "cell_type": "code",
   "execution_count": 17,
   "metadata": {},
   "outputs": [],
   "source": [
    "def convert_and_pad(word_dict, sentence, pad=500):\n",
    "    NOWORD = 0 # We will use 0 to represent the 'no word' category\n",
    "    INFREQ = 1 # and we use 1 to represent the infrequent words, i.e., words not appearing in word_dict\n",
    "    \n",
    "    working_sentence = [NOWORD] * pad\n",
    "    \n",
    "    for word_index, word in enumerate(sentence[:pad]):\n",
    "        if word in word_dict:\n",
    "            working_sentence[word_index] = word_dict[word]\n",
    "        else:\n",
    "            working_sentence[word_index] = INFREQ\n",
    "            \n",
    "    return working_sentence, min(len(sentence), pad)\n",
    "\n",
    "def convert_and_pad_data(word_dict, data, pad=500):\n",
    "    result = []\n",
    "    lengths = []\n",
    "    \n",
    "    for sentence in data:\n",
    "        converted, leng = convert_and_pad(word_dict, sentence, pad)\n",
    "        result.append(converted)\n",
    "        lengths.append(leng)\n",
    "        \n",
    "    return np.array(result), np.array(lengths)"
   ]
  },
  {
   "cell_type": "code",
   "execution_count": 18,
   "metadata": {},
   "outputs": [],
   "source": [
    "train_X, train_X_len = convert_and_pad_data(word_dict, train_X)\n",
    "test_X, test_X_len = convert_and_pad_data(word_dict, test_X)"
   ]
  },
  {
   "cell_type": "markdown",
   "metadata": {},
   "source": [
    "As a quick check to make sure that things are working as intended, check to see what one of the reviews in the training set looks like after having been processeed. Does this look reasonable? What is the length of a review in the training set?"
   ]
  },
  {
   "cell_type": "code",
   "execution_count": 19,
   "metadata": {},
   "outputs": [
    {
     "data": {
      "text/plain": [
       "array([[ 979,    2,  850, ...,    0,    0,    0],\n",
       "       [  72, 1814, 1787, ...,    0,    0,    0],\n",
       "       [3067, 3067,  125, ...,    0,    0,    0],\n",
       "       ...,\n",
       "       [  26,    2,  118, ...,    0,    0,    0],\n",
       "       [  46,  134,  210, ...,    0,    0,    0],\n",
       "       [   7,  560,    2, ...,    0,    0,    0]])"
      ]
     },
     "execution_count": 19,
     "metadata": {},
     "output_type": "execute_result"
    }
   ],
   "source": [
    "# Use this cell to examine one of the processed reviews to make sure everything is working as intended.\n",
    "train_X"
   ]
  },
  {
   "cell_type": "markdown",
   "metadata": {},
   "source": [
    "**Question:** In the cells above we use the `preprocess_data` and `convert_and_pad_data` methods to process both the training and testing set. Why or why not might this be a problem?"
   ]
  },
  {
   "cell_type": "markdown",
   "metadata": {},
   "source": [
    "**Answer:** preprocess_data function will cut reduce data preparation cost, as it is a one time process and the result are saved in a file. \n",
    "convert_and_pad_data function helps to maintain a constant data length. "
   ]
  },
  {
   "cell_type": "markdown",
   "metadata": {},
   "source": [
    "## Step 3: Upload the data to S3\n",
    "\n",
    "As in the XGBoost notebook, we will need to upload the training dataset to S3 in order for our training code to access it. For now we will save it locally and we will upload to S3 later on.\n",
    "\n",
    "### Save the processed training dataset locally\n",
    "\n",
    "It is important to note the format of the data that we are saving as we will need to know it when we write the training code. In our case, each row of the dataset has the form `label`, `length`, `review[500]` where `review[500]` is a sequence of `500` integers representing the words in the review."
   ]
  },
  {
   "cell_type": "code",
   "execution_count": 20,
   "metadata": {},
   "outputs": [],
   "source": [
    "import pandas as pd\n",
    "    \n",
    "pd.concat([pd.DataFrame(train_y), pd.DataFrame(train_X_len), pd.DataFrame(train_X)], axis=1) \\\n",
    "        .to_csv(os.path.join(data_dir, 'train.csv'), header=False, index=False)"
   ]
  },
  {
   "cell_type": "markdown",
   "metadata": {},
   "source": [
    "### Uploading the training data\n",
    "\n",
    "\n",
    "Next, we need to upload the training data to the SageMaker default S3 bucket so that we can provide access to it while training our model."
   ]
  },
  {
   "cell_type": "code",
   "execution_count": 21,
   "metadata": {},
   "outputs": [],
   "source": [
    "import sagemaker\n",
    "\n",
    "sagemaker_session = sagemaker.Session()\n",
    "\n",
    "bucket = sagemaker_session.default_bucket()\n",
    "prefix = 'sagemaker/sentiment_rnn'\n",
    "\n",
    "role = sagemaker.get_execution_role()"
   ]
  },
  {
   "cell_type": "code",
   "execution_count": 22,
   "metadata": {},
   "outputs": [],
   "source": [
    "input_data = sagemaker_session.upload_data(path=data_dir, bucket=bucket, key_prefix=prefix)"
   ]
  },
  {
   "cell_type": "markdown",
   "metadata": {},
   "source": [
    "**NOTE:** The cell above uploads the entire contents of our data directory. This includes the `word_dict.pkl` file. This is fortunate as we will need this later on when we create an endpoint that accepts an arbitrary review. For now, we will just take note of the fact that it resides in the data directory (and so also in the S3 training bucket) and that we will need to make sure it gets saved in the model directory."
   ]
  },
  {
   "cell_type": "markdown",
   "metadata": {},
   "source": [
    "## Step 4: Build and Train the PyTorch Model\n",
    "\n",
    "In the XGBoost notebook we discussed what a model is in the SageMaker framework. In particular, a model comprises three objects\n",
    "\n",
    " - Model Artifacts,\n",
    " - Training Code, and\n",
    " - Inference Code,\n",
    " \n",
    "each of which interact with one another. In the XGBoost example we used training and inference code that was provided by Amazon. Here we will still be using containers provided by Amazon with the added benefit of being able to include our own custom code.\n",
    "\n",
    "We will start by implementing our own neural network in PyTorch along with a training script. For the purposes of this project we have provided the necessary model object in the `model.py` file, inside of the `train` folder. You can see the provided implementation by running the cell below."
   ]
  },
  {
   "cell_type": "code",
   "execution_count": 23,
   "metadata": {},
   "outputs": [
    {
     "name": "stdout",
     "output_type": "stream",
     "text": [
      "\u001b[34mimport\u001b[39;49;00m \u001b[04m\u001b[36mtorch\u001b[39;49;00m\u001b[04m\u001b[36m.\u001b[39;49;00m\u001b[04m\u001b[36mnn\u001b[39;49;00m \u001b[34mas\u001b[39;49;00m \u001b[04m\u001b[36mnn\u001b[39;49;00m\r\n",
      "\r\n",
      "\u001b[34mclass\u001b[39;49;00m \u001b[04m\u001b[32mLSTMClassifier\u001b[39;49;00m(nn.Module):\r\n",
      "    \u001b[33m\"\"\"\u001b[39;49;00m\r\n",
      "\u001b[33m    This is the simple RNN model we will be using to perform Sentiment Analysis.\u001b[39;49;00m\r\n",
      "\u001b[33m    \"\"\"\u001b[39;49;00m\r\n",
      "\r\n",
      "    \u001b[34mdef\u001b[39;49;00m \u001b[32m__init__\u001b[39;49;00m(\u001b[36mself\u001b[39;49;00m, embedding_dim, hidden_dim, vocab_size):\r\n",
      "        \u001b[33m\"\"\"\u001b[39;49;00m\r\n",
      "\u001b[33m        Initialize the model by settingg up the various layers.\u001b[39;49;00m\r\n",
      "\u001b[33m        \"\"\"\u001b[39;49;00m\r\n",
      "        \u001b[36msuper\u001b[39;49;00m(LSTMClassifier, \u001b[36mself\u001b[39;49;00m).\u001b[32m__init__\u001b[39;49;00m()\r\n",
      "\r\n",
      "        \u001b[36mself\u001b[39;49;00m.embedding = nn.Embedding(vocab_size, embedding_dim, padding_idx=\u001b[34m0\u001b[39;49;00m)\r\n",
      "        \u001b[36mself\u001b[39;49;00m.lstm = nn.LSTM(embedding_dim, hidden_dim)\r\n",
      "        \u001b[36mself\u001b[39;49;00m.dense = nn.Linear(in_features=hidden_dim, out_features=\u001b[34m1\u001b[39;49;00m)\r\n",
      "        \u001b[36mself\u001b[39;49;00m.sig = nn.Sigmoid()\r\n",
      "        \r\n",
      "        \u001b[36mself\u001b[39;49;00m.word_dict = \u001b[34mNone\u001b[39;49;00m\r\n",
      "\r\n",
      "    \u001b[34mdef\u001b[39;49;00m \u001b[32mforward\u001b[39;49;00m(\u001b[36mself\u001b[39;49;00m, x):\r\n",
      "        \u001b[33m\"\"\"\u001b[39;49;00m\r\n",
      "\u001b[33m        Perform a forward pass of our model on some input.\u001b[39;49;00m\r\n",
      "\u001b[33m        \"\"\"\u001b[39;49;00m\r\n",
      "        x = x.t()\r\n",
      "        lengths = x[\u001b[34m0\u001b[39;49;00m,:]\r\n",
      "        reviews = x[\u001b[34m1\u001b[39;49;00m:,:]\r\n",
      "        embeds = \u001b[36mself\u001b[39;49;00m.embedding(reviews)\r\n",
      "        lstm_out, _ = \u001b[36mself\u001b[39;49;00m.lstm(embeds)\r\n",
      "        out = \u001b[36mself\u001b[39;49;00m.dense(lstm_out)\r\n",
      "        out = out[lengths - \u001b[34m1\u001b[39;49;00m, \u001b[36mrange\u001b[39;49;00m(\u001b[36mlen\u001b[39;49;00m(lengths))]\r\n",
      "        \u001b[34mreturn\u001b[39;49;00m \u001b[36mself\u001b[39;49;00m.sig(out.squeeze())\r\n"
     ]
    }
   ],
   "source": [
    "!pygmentize train/model.py"
   ]
  },
  {
   "cell_type": "markdown",
   "metadata": {},
   "source": [
    "The important takeaway from the implementation provided is that there are three parameters that we may wish to tweak to improve the performance of our model. These are the embedding dimension, the hidden dimension and the size of the vocabulary. We will likely want to make these parameters configurable in the training script so that if we wish to modify them we do not need to modify the script itself. We will see how to do this later on. To start we will write some of the training code in the notebook so that we can more easily diagnose any issues that arise.\n",
    "\n",
    "First we will load a small portion of the training data set to use as a sample. It would be very time consuming to try and train the model completely in the notebook as we do not have access to a gpu and the compute instance that we are using is not particularly powerful. However, we can work on a small bit of the data to get a feel for how our training script is behaving."
   ]
  },
  {
   "cell_type": "code",
   "execution_count": 24,
   "metadata": {},
   "outputs": [],
   "source": [
    "import torch\n",
    "import torch.utils.data\n",
    "\n",
    "# Read in only the first 250 rows\n",
    "train_sample = pd.read_csv(os.path.join(data_dir, 'train.csv'), header=None, names=None, nrows=250)\n",
    "\n",
    "# Turn the input pandas dataframe into tensors\n",
    "train_sample_y = torch.from_numpy(train_sample[[0]].values).float().squeeze()\n",
    "train_sample_X = torch.from_numpy(train_sample.drop([0], axis=1).values).long()\n",
    "\n",
    "# Build the dataset\n",
    "train_sample_ds = torch.utils.data.TensorDataset(train_sample_X, train_sample_y)\n",
    "# Build the dataloader\n",
    "train_sample_dl = torch.utils.data.DataLoader(train_sample_ds, batch_size=50)"
   ]
  },
  {
   "cell_type": "markdown",
   "metadata": {},
   "source": [
    "### (TODO) Writing the training method\n",
    "\n",
    "Next we need to write the training code itself. This should be very similar to training methods that you have written before to train PyTorch models. We will leave any difficult aspects such as model saving / loading and parameter loading until a little later."
   ]
  },
  {
   "cell_type": "code",
   "execution_count": 25,
   "metadata": {},
   "outputs": [],
   "source": [
    "def train(model, train_loader, epochs, optimizer, loss_fn, device):\n",
    "    for epoch in range(1, epochs + 1):\n",
    "        model.train()\n",
    "        total_loss = 0\n",
    "        for batch in train_loader:         \n",
    "            batch_X, batch_y = batch\n",
    "            \n",
    "            batch_X = batch_X.to(device)\n",
    "            batch_y = batch_y.to(device)\n",
    "            \n",
    "            # TODO: Complete this train method to train the model provided.\n",
    "            output = model(batch_X)\n",
    "            loss = loss_fn(output, batch_y)\n",
    "            loss.backward()\n",
    "            optimizer.step()\n",
    "            total_loss += loss.data.item()\n",
    "        print(\"Epoch: {}, BCELoss: {}\".format(epoch, total_loss / len(train_loader)))"
   ]
  },
  {
   "cell_type": "markdown",
   "metadata": {},
   "source": [
    "Supposing we have the training method above, we will test that it is working by writing a bit of code in the notebook that executes our training method on the small sample training set that we loaded earlier. The reason for doing this in the notebook is so that we have an opportunity to fix any errors that arise early when they are easier to diagnose."
   ]
  },
  {
   "cell_type": "code",
   "execution_count": 26,
   "metadata": {},
   "outputs": [
    {
     "name": "stdout",
     "output_type": "stream",
     "text": [
      "Epoch: 1, BCELoss: 0.6959627270698547\n",
      "Epoch: 2, BCELoss: 0.6845957517623902\n",
      "Epoch: 3, BCELoss: 0.6717384576797485\n",
      "Epoch: 4, BCELoss: 0.6551815152168274\n",
      "Epoch: 5, BCELoss: 0.631908917427063\n",
      "Epoch: 6, BCELoss: 0.5973248481750488\n",
      "Epoch: 7, BCELoss: 0.5399470329284668\n",
      "Epoch: 8, BCELoss: 0.532160097360611\n",
      "Epoch: 9, BCELoss: 0.4542135953903198\n",
      "Epoch: 10, BCELoss: 0.4620145261287689\n"
     ]
    }
   ],
   "source": [
    "import torch.optim as optim\n",
    "from train.model import LSTMClassifier\n",
    "\n",
    "device = torch.device(\"cuda\" if torch.cuda.is_available() else \"cpu\")\n",
    "model = LSTMClassifier(32, 100, 5000).to(device)\n",
    "optimizer = optim.Adam(model.parameters())\n",
    "loss_fn = torch.nn.BCELoss()\n",
    "\n",
    "train(model, train_sample_dl, 10, optimizer, loss_fn, device)"
   ]
  },
  {
   "cell_type": "markdown",
   "metadata": {},
   "source": [
    "In order to construct a PyTorch model using SageMaker we must provide SageMaker with a training script. We may optionally include a directory which will be copied to the container and from which our training code will be run. When the training container is executed it will check the uploaded directory (if there is one) for a `requirements.txt` file and install any required Python libraries, after which the training script will be run."
   ]
  },
  {
   "cell_type": "markdown",
   "metadata": {},
   "source": [
    "### (TODO) Training the model\n",
    "\n",
    "When a PyTorch model is constructed in SageMaker, an entry point must be specified. This is the Python file which will be executed when the model is trained. Inside of the `train` directory is a file called `train.py` which has been provided and which contains most of the necessary code to train our model. The only thing that is missing is the implementation of the `train()` method which you wrote earlier in this notebook.\n",
    "\n",
    "**TODO**: Copy the `train()` method written above and paste it into the `train/train.py` file where required.\n",
    "\n",
    "The way that SageMaker passes hyperparameters to the training script is by way of arguments. These arguments can then be parsed and used in the training script. To see how this is done take a look at the provided `train/train.py` file."
   ]
  },
  {
   "cell_type": "code",
   "execution_count": 27,
   "metadata": {},
   "outputs": [],
   "source": [
    "from sagemaker.pytorch import PyTorch\n",
    "\n",
    "estimator = PyTorch(entry_point=\"train.py\",\n",
    "                    source_dir=\"train\",\n",
    "                    role=role,\n",
    "                    framework_version='0.4.0',\n",
    "                    py_version=\"py3\",\n",
    "                    train_instance_count=1,\n",
    "                    train_instance_type='ml.p2.xlarge',\n",
    "                    hyperparameters={\n",
    "                        \"epochs\": 10,\n",
    "                        \"hidden_dim\": 200,\n",
    "                    })"
   ]
  },
  {
   "cell_type": "code",
   "execution_count": 28,
   "metadata": {},
   "outputs": [
    {
     "name": "stderr",
     "output_type": "stream",
     "text": [
      "'create_image_uri' will be deprecated in favor of 'ImageURIProvider' class in SageMaker Python SDK v2.\n",
      "'s3_input' class will be renamed to 'TrainingInput' in SageMaker Python SDK v2.\n",
      "'create_image_uri' will be deprecated in favor of 'ImageURIProvider' class in SageMaker Python SDK v2.\n"
     ]
    },
    {
     "name": "stdout",
     "output_type": "stream",
     "text": [
      "2020-12-22 15:31:54 Starting - Starting the training job...\n",
      "2020-12-22 15:31:56 Starting - Launching requested ML instances......\n",
      "2020-12-22 15:32:59 Starting - Preparing the instances for training.........\n",
      "2020-12-22 15:34:34 Downloading - Downloading input data...\n",
      "2020-12-22 15:35:20 Training - Downloading the training image...\n",
      "2020-12-22 15:35:44 Training - Training image download completed. Training in progress.\u001b[34mbash: cannot set terminal process group (-1): Inappropriate ioctl for device\u001b[0m\n",
      "\u001b[34mbash: no job control in this shell\u001b[0m\n",
      "\u001b[34m2020-12-22 15:35:45,152 sagemaker-containers INFO     Imported framework sagemaker_pytorch_container.training\u001b[0m\n",
      "\u001b[34m2020-12-22 15:35:45,178 sagemaker_pytorch_container.training INFO     Block until all host DNS lookups succeed.\u001b[0m\n",
      "\u001b[34m2020-12-22 15:35:48,386 sagemaker_pytorch_container.training INFO     Invoking user training script.\u001b[0m\n",
      "\u001b[34m2020-12-22 15:35:48,622 sagemaker-containers INFO     Module train does not provide a setup.py. \u001b[0m\n",
      "\u001b[34mGenerating setup.py\u001b[0m\n",
      "\u001b[34m2020-12-22 15:35:48,622 sagemaker-containers INFO     Generating setup.cfg\u001b[0m\n",
      "\u001b[34m2020-12-22 15:35:48,622 sagemaker-containers INFO     Generating MANIFEST.in\u001b[0m\n",
      "\u001b[34m2020-12-22 15:35:48,622 sagemaker-containers INFO     Installing module with the following command:\u001b[0m\n",
      "\u001b[34m/usr/bin/python -m pip install -U . -r requirements.txt\u001b[0m\n",
      "\u001b[34mProcessing /opt/ml/code\u001b[0m\n",
      "\u001b[34mCollecting pandas (from -r requirements.txt (line 1))\n",
      "  Downloading https://files.pythonhosted.org/packages/74/24/0cdbf8907e1e3bc5a8da03345c23cbed7044330bb8f73bb12e711a640a00/pandas-0.24.2-cp35-cp35m-manylinux1_x86_64.whl (10.0MB)\u001b[0m\n",
      "\u001b[34mCollecting numpy (from -r requirements.txt (line 2))\u001b[0m\n",
      "\u001b[34m  Downloading https://files.pythonhosted.org/packages/b5/36/88723426b4ff576809fec7d73594fe17a35c27f8d01f93637637a29ae25b/numpy-1.18.5-cp35-cp35m-manylinux1_x86_64.whl (19.9MB)\u001b[0m\n",
      "\u001b[34mCollecting nltk (from -r requirements.txt (line 3))\n",
      "  Downloading https://files.pythonhosted.org/packages/92/75/ce35194d8e3022203cca0d2f896dbb88689f9b3fce8e9f9cff942913519d/nltk-3.5.zip (1.4MB)\u001b[0m\n",
      "\u001b[34mCollecting beautifulsoup4 (from -r requirements.txt (line 4))\n",
      "  Downloading https://files.pythonhosted.org/packages/d1/41/e6495bd7d3781cee623ce23ea6ac73282a373088fcd0ddc809a047b18eae/beautifulsoup4-4.9.3-py3-none-any.whl (115kB)\u001b[0m\n",
      "\u001b[34mCollecting html5lib (from -r requirements.txt (line 5))\n",
      "  Downloading https://files.pythonhosted.org/packages/6c/dd/a834df6482147d48e225a49515aabc28974ad5a4ca3215c18a882565b028/html5lib-1.1-py2.py3-none-any.whl (112kB)\u001b[0m\n",
      "\u001b[34mRequirement already satisfied, skipping upgrade: python-dateutil>=2.5.0 in /usr/local/lib/python3.5/dist-packages (from pandas->-r requirements.txt (line 1)) (2.7.5)\u001b[0m\n",
      "\u001b[34mCollecting pytz>=2011k (from pandas->-r requirements.txt (line 1))\u001b[0m\n",
      "\u001b[34m  Downloading https://files.pythonhosted.org/packages/12/f8/ff09af6ff61a3efaad5f61ba5facdf17e7722c4393f7d8a66674d2dbd29f/pytz-2020.4-py2.py3-none-any.whl (509kB)\u001b[0m\n",
      "\u001b[34mRequirement already satisfied, skipping upgrade: click in /usr/local/lib/python3.5/dist-packages (from nltk->-r requirements.txt (line 3)) (7.0)\u001b[0m\n",
      "\u001b[34mCollecting joblib (from nltk->-r requirements.txt (line 3))\n",
      "  Downloading https://files.pythonhosted.org/packages/28/5c/cf6a2b65a321c4a209efcdf64c2689efae2cb62661f8f6f4bb28547cf1bf/joblib-0.14.1-py2.py3-none-any.whl (294kB)\u001b[0m\n",
      "\u001b[34mCollecting regex (from nltk->-r requirements.txt (line 3))\n",
      "  Downloading https://files.pythonhosted.org/packages/2e/e4/3447fed9ab29944333f48730ecff4dca92f0868c5b188d6ab2b2078e32c2/regex-2020.11.13.tar.gz (694kB)\u001b[0m\n",
      "\u001b[34mCollecting tqdm (from nltk->-r requirements.txt (line 3))\n",
      "  Downloading https://files.pythonhosted.org/packages/8a/54/115f0c28a61d56674c3a5e05c46d6c3523ad196e1dcd3e2d8b119026df36/tqdm-4.54.1-py2.py3-none-any.whl (69kB)\u001b[0m\n",
      "\u001b[34mCollecting soupsieve>1.2; python_version >= \"3.0\" (from beautifulsoup4->-r requirements.txt (line 4))\n",
      "  Downloading https://files.pythonhosted.org/packages/02/fb/1c65691a9aeb7bd6ac2aa505b84cb8b49ac29c976411c6ab3659425e045f/soupsieve-2.1-py3-none-any.whl\u001b[0m\n",
      "\u001b[34mRequirement already satisfied, skipping upgrade: six>=1.9 in /usr/local/lib/python3.5/dist-packages (from html5lib->-r requirements.txt (line 5)) (1.11.0)\u001b[0m\n",
      "\u001b[34mCollecting webencodings (from html5lib->-r requirements.txt (line 5))\n",
      "  Downloading https://files.pythonhosted.org/packages/f4/24/2a3e3df732393fed8b3ebf2ec078f05546de641fe1b667ee316ec1dcf3b7/webencodings-0.5.1-py2.py3-none-any.whl\u001b[0m\n",
      "\u001b[34mBuilding wheels for collected packages: nltk, train, regex\n",
      "  Running setup.py bdist_wheel for nltk: started\u001b[0m\n",
      "\u001b[34m  Running setup.py bdist_wheel for nltk: finished with status 'done'\n",
      "  Stored in directory: /root/.cache/pip/wheels/ae/8c/3f/b1fe0ba04555b08b57ab52ab7f86023639a526d8bc8d384306\n",
      "  Running setup.py bdist_wheel for train: started\n",
      "  Running setup.py bdist_wheel for train: finished with status 'done'\n",
      "  Stored in directory: /tmp/pip-ephem-wheel-cache-89mrah0f/wheels/35/24/16/37574d11bf9bde50616c67372a334f94fa8356bc7164af8ca3\n",
      "  Running setup.py bdist_wheel for regex: started\u001b[0m\n",
      "\u001b[34m  Running setup.py bdist_wheel for regex: finished with status 'done'\n",
      "  Stored in directory: /root/.cache/pip/wheels/27/f6/66/a4243e485a0ebc73dc59033ae26c48e82526f77dbfe158ac59\u001b[0m\n",
      "\u001b[34mSuccessfully built nltk train regex\u001b[0m\n",
      "\u001b[34mInstalling collected packages: numpy, pytz, pandas, joblib, regex, tqdm, nltk, soupsieve, beautifulsoup4, webencodings, html5lib, train\n",
      "  Found existing installation: numpy 1.15.4\n",
      "    Uninstalling numpy-1.15.4:\u001b[0m\n",
      "\u001b[34m      Successfully uninstalled numpy-1.15.4\u001b[0m\n",
      "\u001b[34mSuccessfully installed beautifulsoup4-4.9.3 html5lib-1.1 joblib-0.14.1 nltk-3.5 numpy-1.18.5 pandas-0.24.2 pytz-2020.4 regex-2020.11.13 soupsieve-2.1 tqdm-4.54.1 train-1.0.0 webencodings-0.5.1\u001b[0m\n",
      "\u001b[34mYou are using pip version 18.1, however version 20.3.3 is available.\u001b[0m\n",
      "\u001b[34mYou should consider upgrading via the 'pip install --upgrade pip' command.\u001b[0m\n",
      "\u001b[34m2020-12-22 15:36:11,413 sagemaker-containers INFO     Invoking user script\n",
      "\u001b[0m\n",
      "\u001b[34mTraining Env:\n",
      "\u001b[0m\n",
      "\u001b[34m{\n",
      "    \"output_dir\": \"/opt/ml/output\",\n",
      "    \"input_data_config\": {\n",
      "        \"training\": {\n",
      "            \"TrainingInputMode\": \"File\",\n",
      "            \"RecordWrapperType\": \"None\",\n",
      "            \"S3DistributionType\": \"FullyReplicated\"\n",
      "        }\n",
      "    },\n",
      "    \"hosts\": [\n",
      "        \"algo-1\"\n",
      "    ],\n",
      "    \"module_dir\": \"s3://sagemaker-us-east-2-407259395913/sagemaker-pytorch-2020-12-22-15-31-54-152/source/sourcedir.tar.gz\",\n",
      "    \"num_gpus\": 1,\n",
      "    \"model_dir\": \"/opt/ml/model\",\n",
      "    \"output_intermediate_dir\": \"/opt/ml/output/intermediate\",\n",
      "    \"network_interface_name\": \"eth0\",\n",
      "    \"channel_input_dirs\": {\n",
      "        \"training\": \"/opt/ml/input/data/training\"\n",
      "    },\n",
      "    \"input_dir\": \"/opt/ml/input\",\n",
      "    \"additional_framework_parameters\": {},\n",
      "    \"resource_config\": {\n",
      "        \"hosts\": [\n",
      "            \"algo-1\"\n",
      "        ],\n",
      "        \"network_interface_name\": \"eth0\",\n",
      "        \"current_host\": \"algo-1\"\n",
      "    },\n",
      "    \"module_name\": \"train\",\n",
      "    \"num_cpus\": 4,\n",
      "    \"job_name\": \"sagemaker-pytorch-2020-12-22-15-31-54-152\",\n",
      "    \"output_data_dir\": \"/opt/ml/output/data\",\n",
      "    \"current_host\": \"algo-1\",\n",
      "    \"log_level\": 20,\n",
      "    \"framework_module\": \"sagemaker_pytorch_container.training:main\",\n",
      "    \"hyperparameters\": {\n",
      "        \"hidden_dim\": 200,\n",
      "        \"epochs\": 10\n",
      "    },\n",
      "    \"user_entry_point\": \"train.py\",\n",
      "    \"input_config_dir\": \"/opt/ml/input/config\"\u001b[0m\n",
      "\u001b[34m}\n",
      "\u001b[0m\n",
      "\u001b[34mEnvironment variables:\n",
      "\u001b[0m\n",
      "\u001b[34mSM_HP_HIDDEN_DIM=200\u001b[0m\n",
      "\u001b[34mSM_CURRENT_HOST=algo-1\u001b[0m\n",
      "\u001b[34mSM_OUTPUT_DATA_DIR=/opt/ml/output/data\u001b[0m\n",
      "\u001b[34mSM_INPUT_CONFIG_DIR=/opt/ml/input/config\u001b[0m\n",
      "\u001b[34mSM_NUM_CPUS=4\u001b[0m\n",
      "\u001b[34mSM_LOG_LEVEL=20\u001b[0m\n",
      "\u001b[34mSM_HPS={\"epochs\":10,\"hidden_dim\":200}\u001b[0m\n",
      "\u001b[34mSM_NETWORK_INTERFACE_NAME=eth0\u001b[0m\n",
      "\u001b[34mSM_MODULE_DIR=s3://sagemaker-us-east-2-407259395913/sagemaker-pytorch-2020-12-22-15-31-54-152/source/sourcedir.tar.gz\u001b[0m\n",
      "\u001b[34mSM_FRAMEWORK_MODULE=sagemaker_pytorch_container.training:main\u001b[0m\n",
      "\u001b[34mSM_HP_EPOCHS=10\u001b[0m\n",
      "\u001b[34mSM_RESOURCE_CONFIG={\"current_host\":\"algo-1\",\"hosts\":[\"algo-1\"],\"network_interface_name\":\"eth0\"}\u001b[0m\n",
      "\u001b[34mSM_FRAMEWORK_PARAMS={}\u001b[0m\n",
      "\u001b[34mSM_INPUT_DIR=/opt/ml/input\u001b[0m\n",
      "\u001b[34mSM_CHANNEL_TRAINING=/opt/ml/input/data/training\u001b[0m\n",
      "\u001b[34mSM_TRAINING_ENV={\"additional_framework_parameters\":{},\"channel_input_dirs\":{\"training\":\"/opt/ml/input/data/training\"},\"current_host\":\"algo-1\",\"framework_module\":\"sagemaker_pytorch_container.training:main\",\"hosts\":[\"algo-1\"],\"hyperparameters\":{\"epochs\":10,\"hidden_dim\":200},\"input_config_dir\":\"/opt/ml/input/config\",\"input_data_config\":{\"training\":{\"RecordWrapperType\":\"None\",\"S3DistributionType\":\"FullyReplicated\",\"TrainingInputMode\":\"File\"}},\"input_dir\":\"/opt/ml/input\",\"job_name\":\"sagemaker-pytorch-2020-12-22-15-31-54-152\",\"log_level\":20,\"model_dir\":\"/opt/ml/model\",\"module_dir\":\"s3://sagemaker-us-east-2-407259395913/sagemaker-pytorch-2020-12-22-15-31-54-152/source/sourcedir.tar.gz\",\"module_name\":\"train\",\"network_interface_name\":\"eth0\",\"num_cpus\":4,\"num_gpus\":1,\"output_data_dir\":\"/opt/ml/output/data\",\"output_dir\":\"/opt/ml/output\",\"output_intermediate_dir\":\"/opt/ml/output/intermediate\",\"resource_config\":{\"current_host\":\"algo-1\",\"hosts\":[\"algo-1\"],\"network_interface_name\":\"eth0\"},\"user_entry_point\":\"train.py\"}\u001b[0m\n",
      "\u001b[34mSM_HOSTS=[\"algo-1\"]\u001b[0m\n",
      "\u001b[34mSM_CHANNELS=[\"training\"]\u001b[0m\n",
      "\u001b[34mSM_OUTPUT_INTERMEDIATE_DIR=/opt/ml/output/intermediate\u001b[0m\n",
      "\u001b[34mSM_USER_ARGS=[\"--epochs\",\"10\",\"--hidden_dim\",\"200\"]\u001b[0m\n",
      "\u001b[34mSM_USER_ENTRY_POINT=train.py\u001b[0m\n",
      "\u001b[34mSM_NUM_GPUS=1\u001b[0m\n",
      "\u001b[34mSM_MODULE_NAME=train\u001b[0m\n",
      "\u001b[34mSM_OUTPUT_DIR=/opt/ml/output\u001b[0m\n",
      "\u001b[34mPYTHONPATH=/usr/local/bin:/usr/lib/python35.zip:/usr/lib/python3.5:/usr/lib/python3.5/plat-x86_64-linux-gnu:/usr/lib/python3.5/lib-dynload:/usr/local/lib/python3.5/dist-packages:/usr/lib/python3/dist-packages\u001b[0m\n",
      "\u001b[34mSM_INPUT_DATA_CONFIG={\"training\":{\"RecordWrapperType\":\"None\",\"S3DistributionType\":\"FullyReplicated\",\"TrainingInputMode\":\"File\"}}\u001b[0m\n",
      "\u001b[34mSM_MODEL_DIR=/opt/ml/model\n",
      "\u001b[0m\n",
      "\u001b[34mInvoking script with the following command:\n",
      "\u001b[0m\n",
      "\u001b[34m/usr/bin/python -m train --epochs 10 --hidden_dim 200\n",
      "\n",
      "\u001b[0m\n",
      "\u001b[34mUsing device cuda.\u001b[0m\n",
      "\u001b[34mGet train data loader.\u001b[0m\n",
      "\u001b[34mModel loaded with embedding_dim 32, hidden_dim 200, vocab_size 5000.\u001b[0m\n",
      "\u001b[34mEpoch: 1, BCELoss: 0.6754407712391445\u001b[0m\n",
      "\u001b[34mEpoch: 2, BCELoss: 0.6365570036732421\u001b[0m\n",
      "\u001b[34mEpoch: 3, BCELoss: 0.5375435431392825\u001b[0m\n",
      "\u001b[34mEpoch: 4, BCELoss: 0.4761964186113708\u001b[0m\n",
      "\u001b[34mEpoch: 5, BCELoss: 0.401707758708876\u001b[0m\n",
      "\u001b[34mEpoch: 6, BCELoss: 0.3716960147935517\u001b[0m\n",
      "\u001b[34mEpoch: 7, BCELoss: 0.3314190561674079\u001b[0m\n",
      "\u001b[34mEpoch: 8, BCELoss: 0.30715312702315195\u001b[0m\n",
      "\u001b[34mEpoch: 9, BCELoss: 0.29525442086920445\u001b[0m\n",
      "\n",
      "2020-12-22 15:39:24 Uploading - Uploading generated training model\n",
      "2020-12-22 15:39:24 Completed - Training job completed\n",
      "\u001b[34mEpoch: 10, BCELoss: 0.28794301620551516\u001b[0m\n",
      "\u001b[34m2020-12-22 15:39:12,340 sagemaker-containers INFO     Reporting training SUCCESS\u001b[0m\n",
      "Training seconds: 290\n",
      "Billable seconds: 290\n"
     ]
    }
   ],
   "source": [
    "estimator.fit({'training': input_data})"
   ]
  },
  {
   "cell_type": "markdown",
   "metadata": {},
   "source": [
    "## Step 5: Testing the model\n",
    "\n",
    "As mentioned at the top of this notebook, we will be testing this model by first deploying it and then sending the testing data to the deployed endpoint. We will do this so that we can make sure that the deployed model is working correctly.\n",
    "\n",
    "## Step 6: Deploy the model for testing\n",
    "\n",
    "Now that we have trained our model, we would like to test it to see how it performs. Currently our model takes input of the form `review_length, review[500]` where `review[500]` is a sequence of `500` integers which describe the words present in the review, encoded using `word_dict`. Fortunately for us, SageMaker provides built-in inference code for models with simple inputs such as this.\n",
    "\n",
    "There is one thing that we need to provide, however, and that is a function which loads the saved model. This function must be called `model_fn()` and takes as its only parameter a path to the directory where the model artifacts are stored. This function must also be present in the python file which we specified as the entry point. In our case the model loading function has been provided and so no changes need to be made.\n",
    "\n",
    "**NOTE**: When the built-in inference code is run it must import the `model_fn()` method from the `train.py` file. This is why the training code is wrapped in a main guard ( ie, `if __name__ == '__main__':` )\n",
    "\n",
    "Since we don't need to change anything in the code that was uploaded during training, we can simply deploy the current model as-is.\n",
    "\n",
    "**NOTE:** When deploying a model you are asking SageMaker to launch an compute instance that will wait for data to be sent to it. As a result, this compute instance will continue to run until *you* shut it down. This is important to know since the cost of a deployed endpoint depends on how long it has been running for.\n",
    "\n",
    "In other words **If you are no longer using a deployed endpoint, shut it down!**\n",
    "\n",
    "**TODO:** Deploy the trained model."
   ]
  },
  {
   "cell_type": "code",
   "execution_count": 29,
   "metadata": {},
   "outputs": [
    {
     "name": "stderr",
     "output_type": "stream",
     "text": [
      "Parameter image will be renamed to image_uri in SageMaker Python SDK v2.\n",
      "'create_image_uri' will be deprecated in favor of 'ImageURIProvider' class in SageMaker Python SDK v2.\n"
     ]
    },
    {
     "name": "stdout",
     "output_type": "stream",
     "text": [
      "-----------------!"
     ]
    }
   ],
   "source": [
    "# TODO: Deploy the trained model\n",
    "predictor = estimator.deploy(initial_instance_count=1, instance_type='ml.p2.xlarge')"
   ]
  },
  {
   "cell_type": "markdown",
   "metadata": {},
   "source": [
    "## Step 7 - Use the model for testing\n",
    "\n",
    "Once deployed, we can read in the test data and send it off to our deployed model to get some results. Once we collect all of the results we can determine how accurate our model is."
   ]
  },
  {
   "cell_type": "code",
   "execution_count": 30,
   "metadata": {},
   "outputs": [],
   "source": [
    "test_X = pd.concat([pd.DataFrame(test_X_len), pd.DataFrame(test_X)], axis=1)"
   ]
  },
  {
   "cell_type": "code",
   "execution_count": 31,
   "metadata": {},
   "outputs": [],
   "source": [
    "# We split the data into chunks and send each chunk seperately, accumulating the results.\n",
    "\n",
    "def predict(data, rows=512):\n",
    "    split_array = np.array_split(data, int(data.shape[0] / float(rows) + 1))\n",
    "    predictions = np.array([])\n",
    "    for array in split_array:\n",
    "        predictions = np.append(predictions, predictor.predict(array))\n",
    "    \n",
    "    return predictions"
   ]
  },
  {
   "cell_type": "code",
   "execution_count": 32,
   "metadata": {},
   "outputs": [],
   "source": [
    "predictions = predict(test_X.values)\n",
    "predictions = [round(num) for num in predictions]"
   ]
  },
  {
   "cell_type": "code",
   "execution_count": 33,
   "metadata": {},
   "outputs": [
    {
     "data": {
      "text/plain": [
       "0.8516"
      ]
     },
     "execution_count": 33,
     "metadata": {},
     "output_type": "execute_result"
    }
   ],
   "source": [
    "from sklearn.metrics import accuracy_score\n",
    "accuracy_score(test_y, predictions)"
   ]
  },
  {
   "cell_type": "markdown",
   "metadata": {},
   "source": [
    "**Question:** How does this model compare to the XGBoost model you created earlier? Why might these two models perform differently on this dataset? Which do *you* think is better for sentiment analysis?"
   ]
  },
  {
   "cell_type": "markdown",
   "metadata": {},
   "source": [
    "**Answer:**  There isn't much difference, since the accuracy is almost the same as that of the XGBoost model. "
   ]
  },
  {
   "cell_type": "markdown",
   "metadata": {},
   "source": [
    "### (TODO) More testing\n",
    "\n",
    "We now have a trained model which has been deployed and which we can send processed reviews to and which returns the predicted sentiment. However, ultimately we would like to be able to send our model an unprocessed review. That is, we would like to send the review itself as a string. For example, suppose we wish to send the following review to our model."
   ]
  },
  {
   "cell_type": "code",
   "execution_count": 34,
   "metadata": {},
   "outputs": [],
   "source": [
    "test_review = 'The simplest pleasures in life are the best, and this film is one of them. Combining a rather basic storyline of love and adventure this movie transcends the usual weekend fair with wit and unmitigated charm.'"
   ]
  },
  {
   "cell_type": "markdown",
   "metadata": {},
   "source": [
    "The question we now need to answer is, how do we send this review to our model?\n",
    "\n",
    "Recall in the first section of this notebook we did a bunch of data processing to the IMDb dataset. In particular, we did two specific things to the provided reviews.\n",
    " - Removed any html tags and stemmed the input\n",
    " - Encoded the review as a sequence of integers using `word_dict`\n",
    " \n",
    "In order process the review we will need to repeat these two steps.\n",
    "\n",
    "**TODO**: Using the `review_to_words` and `convert_and_pad` methods from section one, convert `test_review` into a numpy array `test_data` suitable to send to our model. Remember that our model expects input of the form `review_length, review[500]`."
   ]
  },
  {
   "cell_type": "code",
   "execution_count": 35,
   "metadata": {},
   "outputs": [],
   "source": [
    "# TODO: Convert test_review into a form usable by the model and save the results in test_data\n",
    "test_review_to_words = review_to_words(test_review)\n",
    "review_X, review_len = convert_and_pad(word_dict, test_review_to_words)\n",
    "\n",
    "data_pack = np.hstack((review_len, review_X))\n",
    "data_pack = data_pack.reshape(1, -1)\n",
    "\n",
    "test_data = torch.from_numpy(data_pack)\n",
    "test_data = test_data.to(device)\n",
    "# test_data = [np.array(convert_and_pad(word_dict, test_data)[0])]"
   ]
  },
  {
   "cell_type": "markdown",
   "metadata": {},
   "source": [
    "Now that we have processed the review, we can send the resulting array to our model to predict the sentiment of the review."
   ]
  },
  {
   "cell_type": "code",
   "execution_count": 36,
   "metadata": {},
   "outputs": [
    {
     "data": {
      "text/plain": [
       "array(0.91300654, dtype=float32)"
      ]
     },
     "execution_count": 36,
     "metadata": {},
     "output_type": "execute_result"
    }
   ],
   "source": [
    "predictor.predict(test_data)"
   ]
  },
  {
   "cell_type": "markdown",
   "metadata": {},
   "source": [
    "Since the return value of our model is close to `1`, we can be certain that the review we submitted is positive."
   ]
  },
  {
   "cell_type": "markdown",
   "metadata": {},
   "source": [
    "### Delete the endpoint\n",
    "\n",
    "Of course, just like in the XGBoost notebook, once we've deployed an endpoint it continues to run until we tell it to shut down. Since we are done using our endpoint for now, we can delete it."
   ]
  },
  {
   "cell_type": "code",
   "execution_count": 37,
   "metadata": {
    "scrolled": false
   },
   "outputs": [
    {
     "name": "stderr",
     "output_type": "stream",
     "text": [
      "estimator.delete_endpoint() will be deprecated in SageMaker Python SDK v2. Please use the delete_endpoint() function on your predictor instead.\n"
     ]
    }
   ],
   "source": [
    "estimator.delete_endpoint()"
   ]
  },
  {
   "cell_type": "markdown",
   "metadata": {},
   "source": [
    "## Step 6 (again) - Deploy the model for the web app\n",
    "\n",
    "Now that we know that our model is working, it's time to create some custom inference code so that we can send the model a review which has not been processed and have it determine the sentiment of the review.\n",
    "\n",
    "As we saw above, by default the estimator which we created, when deployed, will use the entry script and directory which we provided when creating the model. However, since we now wish to accept a string as input and our model expects a processed review, we need to write some custom inference code.\n",
    "\n",
    "We will store the code that we write in the `serve` directory. Provided in this directory is the `model.py` file that we used to construct our model, a `utils.py` file which contains the `review_to_words` and `convert_and_pad` pre-processing functions which we used during the initial data processing, and `predict.py`, the file which will contain our custom inference code. Note also that `requirements.txt` is present which will tell SageMaker what Python libraries are required by our custom inference code.\n",
    "\n",
    "When deploying a PyTorch model in SageMaker, you are expected to provide four functions which the SageMaker inference container will use.\n",
    " - `model_fn`: This function is the same function that we used in the training script and it tells SageMaker how to load our model.\n",
    " - `input_fn`: This function receives the raw serialized input that has been sent to the model's endpoint and its job is to de-serialize and make the input available for the inference code.\n",
    " - `output_fn`: This function takes the output of the inference code and its job is to serialize this output and return it to the caller of the model's endpoint.\n",
    " - `predict_fn`: The heart of the inference script, this is where the actual prediction is done and is the function which you will need to complete.\n",
    "\n",
    "For the simple website that we are constructing during this project, the `input_fn` and `output_fn` methods are relatively straightforward. We only require being able to accept a string as input and we expect to return a single value as output. You might imagine though that in a more complex application the input or output may be image data or some other binary data which would require some effort to serialize.\n",
    "\n",
    "### (TODO) Writing inference code\n",
    "\n",
    "Before writing our custom inference code, we will begin by taking a look at the code which has been provided."
   ]
  },
  {
   "cell_type": "code",
   "execution_count": 38,
   "metadata": {},
   "outputs": [
    {
     "name": "stdout",
     "output_type": "stream",
     "text": [
      "\u001b[34mimport\u001b[39;49;00m \u001b[04m\u001b[36margparse\u001b[39;49;00m\r\n",
      "\u001b[34mimport\u001b[39;49;00m \u001b[04m\u001b[36mjson\u001b[39;49;00m\r\n",
      "\u001b[34mimport\u001b[39;49;00m \u001b[04m\u001b[36mos\u001b[39;49;00m\r\n",
      "\u001b[34mimport\u001b[39;49;00m \u001b[04m\u001b[36mpickle\u001b[39;49;00m\r\n",
      "\u001b[34mimport\u001b[39;49;00m \u001b[04m\u001b[36msys\u001b[39;49;00m\r\n",
      "\u001b[34mimport\u001b[39;49;00m \u001b[04m\u001b[36msagemaker_containers\u001b[39;49;00m\r\n",
      "\u001b[34mimport\u001b[39;49;00m \u001b[04m\u001b[36mpandas\u001b[39;49;00m \u001b[34mas\u001b[39;49;00m \u001b[04m\u001b[36mpd\u001b[39;49;00m\r\n",
      "\u001b[34mimport\u001b[39;49;00m \u001b[04m\u001b[36mnumpy\u001b[39;49;00m \u001b[34mas\u001b[39;49;00m \u001b[04m\u001b[36mnp\u001b[39;49;00m\r\n",
      "\u001b[34mimport\u001b[39;49;00m \u001b[04m\u001b[36mtorch\u001b[39;49;00m\r\n",
      "\u001b[34mimport\u001b[39;49;00m \u001b[04m\u001b[36mtorch\u001b[39;49;00m\u001b[04m\u001b[36m.\u001b[39;49;00m\u001b[04m\u001b[36mnn\u001b[39;49;00m \u001b[34mas\u001b[39;49;00m \u001b[04m\u001b[36mnn\u001b[39;49;00m\r\n",
      "\u001b[34mimport\u001b[39;49;00m \u001b[04m\u001b[36mtorch\u001b[39;49;00m\u001b[04m\u001b[36m.\u001b[39;49;00m\u001b[04m\u001b[36moptim\u001b[39;49;00m \u001b[34mas\u001b[39;49;00m \u001b[04m\u001b[36moptim\u001b[39;49;00m\r\n",
      "\u001b[34mimport\u001b[39;49;00m \u001b[04m\u001b[36mtorch\u001b[39;49;00m\u001b[04m\u001b[36m.\u001b[39;49;00m\u001b[04m\u001b[36mutils\u001b[39;49;00m\u001b[04m\u001b[36m.\u001b[39;49;00m\u001b[04m\u001b[36mdata\u001b[39;49;00m\r\n",
      "\r\n",
      "\u001b[34mfrom\u001b[39;49;00m \u001b[04m\u001b[36mmodel\u001b[39;49;00m \u001b[34mimport\u001b[39;49;00m LSTMClassifier\r\n",
      "\r\n",
      "\u001b[34mfrom\u001b[39;49;00m \u001b[04m\u001b[36mutils\u001b[39;49;00m \u001b[34mimport\u001b[39;49;00m review_to_words, convert_and_pad\r\n",
      "\r\n",
      "\u001b[34mdef\u001b[39;49;00m \u001b[32mmodel_fn\u001b[39;49;00m(model_dir):\r\n",
      "    \u001b[33m\"\"\"Load the PyTorch model from the `model_dir` directory.\"\"\"\u001b[39;49;00m\r\n",
      "    \u001b[36mprint\u001b[39;49;00m(\u001b[33m\"\u001b[39;49;00m\u001b[33mLoading model.\u001b[39;49;00m\u001b[33m\"\u001b[39;49;00m)\r\n",
      "\r\n",
      "    \u001b[37m# First, load the parameters used to create the model.\u001b[39;49;00m\r\n",
      "    model_info = {}\r\n",
      "    model_info_path = os.path.join(model_dir, \u001b[33m'\u001b[39;49;00m\u001b[33mmodel_info.pth\u001b[39;49;00m\u001b[33m'\u001b[39;49;00m)\r\n",
      "    \u001b[34mwith\u001b[39;49;00m \u001b[36mopen\u001b[39;49;00m(model_info_path, \u001b[33m'\u001b[39;49;00m\u001b[33mrb\u001b[39;49;00m\u001b[33m'\u001b[39;49;00m) \u001b[34mas\u001b[39;49;00m f:\r\n",
      "        model_info = torch.load(f)\r\n",
      "\r\n",
      "    \u001b[36mprint\u001b[39;49;00m(\u001b[33m\"\u001b[39;49;00m\u001b[33mmodel_info: \u001b[39;49;00m\u001b[33m{}\u001b[39;49;00m\u001b[33m\"\u001b[39;49;00m.format(model_info))\r\n",
      "\r\n",
      "    \u001b[37m# Determine the device and construct the model.\u001b[39;49;00m\r\n",
      "    device = torch.device(\u001b[33m\"\u001b[39;49;00m\u001b[33mcuda\u001b[39;49;00m\u001b[33m\"\u001b[39;49;00m \u001b[34mif\u001b[39;49;00m torch.cuda.is_available() \u001b[34melse\u001b[39;49;00m \u001b[33m\"\u001b[39;49;00m\u001b[33mcpu\u001b[39;49;00m\u001b[33m\"\u001b[39;49;00m)\r\n",
      "    model = LSTMClassifier(model_info[\u001b[33m'\u001b[39;49;00m\u001b[33membedding_dim\u001b[39;49;00m\u001b[33m'\u001b[39;49;00m], model_info[\u001b[33m'\u001b[39;49;00m\u001b[33mhidden_dim\u001b[39;49;00m\u001b[33m'\u001b[39;49;00m], model_info[\u001b[33m'\u001b[39;49;00m\u001b[33mvocab_size\u001b[39;49;00m\u001b[33m'\u001b[39;49;00m])\r\n",
      "\r\n",
      "    \u001b[37m# Load the store model parameters.\u001b[39;49;00m\r\n",
      "    model_path = os.path.join(model_dir, \u001b[33m'\u001b[39;49;00m\u001b[33mmodel.pth\u001b[39;49;00m\u001b[33m'\u001b[39;49;00m)\r\n",
      "    \u001b[34mwith\u001b[39;49;00m \u001b[36mopen\u001b[39;49;00m(model_path, \u001b[33m'\u001b[39;49;00m\u001b[33mrb\u001b[39;49;00m\u001b[33m'\u001b[39;49;00m) \u001b[34mas\u001b[39;49;00m f:\r\n",
      "        model.load_state_dict(torch.load(f))\r\n",
      "\r\n",
      "    \u001b[37m# Load the saved word_dict.\u001b[39;49;00m\r\n",
      "    word_dict_path = os.path.join(model_dir, \u001b[33m'\u001b[39;49;00m\u001b[33mword_dict.pkl\u001b[39;49;00m\u001b[33m'\u001b[39;49;00m)\r\n",
      "    \u001b[34mwith\u001b[39;49;00m \u001b[36mopen\u001b[39;49;00m(word_dict_path, \u001b[33m'\u001b[39;49;00m\u001b[33mrb\u001b[39;49;00m\u001b[33m'\u001b[39;49;00m) \u001b[34mas\u001b[39;49;00m f:\r\n",
      "        model.word_dict = pickle.load(f)\r\n",
      "\r\n",
      "    model.to(device).eval()\r\n",
      "\r\n",
      "    \u001b[36mprint\u001b[39;49;00m(\u001b[33m\"\u001b[39;49;00m\u001b[33mDone loading model.\u001b[39;49;00m\u001b[33m\"\u001b[39;49;00m)\r\n",
      "    \u001b[34mreturn\u001b[39;49;00m model\r\n",
      "\r\n",
      "\u001b[34mdef\u001b[39;49;00m \u001b[32minput_fn\u001b[39;49;00m(serialized_input_data, content_type):\r\n",
      "    \u001b[36mprint\u001b[39;49;00m(\u001b[33m'\u001b[39;49;00m\u001b[33mDeserializing the input data.\u001b[39;49;00m\u001b[33m'\u001b[39;49;00m)\r\n",
      "    \u001b[34mif\u001b[39;49;00m content_type == \u001b[33m'\u001b[39;49;00m\u001b[33mtext/plain\u001b[39;49;00m\u001b[33m'\u001b[39;49;00m:\r\n",
      "        data = serialized_input_data.decode(\u001b[33m'\u001b[39;49;00m\u001b[33mutf-8\u001b[39;49;00m\u001b[33m'\u001b[39;49;00m)\r\n",
      "        \u001b[34mreturn\u001b[39;49;00m data\r\n",
      "    \u001b[34mraise\u001b[39;49;00m \u001b[36mException\u001b[39;49;00m(\u001b[33m'\u001b[39;49;00m\u001b[33mRequested unsupported ContentType in content_type: \u001b[39;49;00m\u001b[33m'\u001b[39;49;00m + content_type)\r\n",
      "\r\n",
      "\u001b[34mdef\u001b[39;49;00m \u001b[32moutput_fn\u001b[39;49;00m(prediction_output, accept):\r\n",
      "    \u001b[36mprint\u001b[39;49;00m(\u001b[33m'\u001b[39;49;00m\u001b[33mSerializing the generated output.\u001b[39;49;00m\u001b[33m'\u001b[39;49;00m)\r\n",
      "    \u001b[34mreturn\u001b[39;49;00m \u001b[36mstr\u001b[39;49;00m(prediction_output)\r\n",
      "\r\n",
      "\u001b[34mdef\u001b[39;49;00m \u001b[32mpredict_fn\u001b[39;49;00m(input_data, model):\r\n",
      "    \u001b[36mprint\u001b[39;49;00m(\u001b[33m'\u001b[39;49;00m\u001b[33mInferring sentiment of input data.\u001b[39;49;00m\u001b[33m'\u001b[39;49;00m)\r\n",
      "\r\n",
      "    device = torch.device(\u001b[33m\"\u001b[39;49;00m\u001b[33mcuda\u001b[39;49;00m\u001b[33m\"\u001b[39;49;00m \u001b[34mif\u001b[39;49;00m torch.cuda.is_available() \u001b[34melse\u001b[39;49;00m \u001b[33m\"\u001b[39;49;00m\u001b[33mcpu\u001b[39;49;00m\u001b[33m\"\u001b[39;49;00m)\r\n",
      "    \r\n",
      "    \u001b[34mif\u001b[39;49;00m model.word_dict \u001b[35mis\u001b[39;49;00m \u001b[34mNone\u001b[39;49;00m:\r\n",
      "        \u001b[34mraise\u001b[39;49;00m \u001b[36mException\u001b[39;49;00m(\u001b[33m'\u001b[39;49;00m\u001b[33mModel has not been loaded properly, no word_dict.\u001b[39;49;00m\u001b[33m'\u001b[39;49;00m)\r\n",
      "    \r\n",
      "    \u001b[37m# TODO: Process input_data so that it is ready to be sent to our model.\u001b[39;49;00m\r\n",
      "    \u001b[37m#       You should produce two variables:\u001b[39;49;00m\r\n",
      "    \u001b[37m#         data_X   - A sequence of length 500 which represents the converted review\u001b[39;49;00m\r\n",
      "    \u001b[37m#         data_len - The length of the review\u001b[39;49;00m\r\n",
      "\r\n",
      "\r\n",
      "    input_data_words = review_to_words(input_data)\r\n",
      "    data_X, data_len = convert_and_pad(model.word_dict, input_data_words)\r\n",
      "    \u001b[37m# Using data_X and data_len we construct an appropriate input tensor. Remember\u001b[39;49;00m\r\n",
      "    \u001b[37m# that our model expects input data of the form 'len, review[500]'.\u001b[39;49;00m\r\n",
      "    data_pack = np.hstack((data_len, data_X))\r\n",
      "    data_pack = data_pack.reshape(\u001b[34m1\u001b[39;49;00m, -\u001b[34m1\u001b[39;49;00m)\r\n",
      "    \r\n",
      "    data = torch.from_numpy(data_pack)\r\n",
      "    data = data.to(device)\r\n",
      "\r\n",
      "    \u001b[37m# Make sure to put the model into evaluation mode\u001b[39;49;00m\r\n",
      "    model.eval()\r\n",
      "\r\n",
      "    \u001b[37m# TODO: Compute the result of applying the model to the input data. The variable `result` should\u001b[39;49;00m\r\n",
      "    \u001b[37m#       be a numpy array which contains a single integer which is either 1 or 0\u001b[39;49;00m\r\n",
      "    result = model(data)\r\n",
      "    result = \u001b[36mround\u001b[39;49;00m(result.item())\r\n",
      "\r\n",
      "    \u001b[34mreturn\u001b[39;49;00m result\r\n",
      "\r\n",
      "\u001b[34mdef\u001b[39;49;00m \u001b[32mconvert_and_pad_data\u001b[39;49;00m(word_dict, data, pad=\u001b[34m500\u001b[39;49;00m):\r\n",
      "    result = []\r\n",
      "    lengths = []\r\n",
      "    \r\n",
      "    \u001b[34mfor\u001b[39;49;00m sentence \u001b[35min\u001b[39;49;00m data:\r\n",
      "        converted, leng = convert_and_pad(word_dict, sentence, pad)\r\n",
      "        result.append(converted)\r\n",
      "        lengths.append(leng)\r\n",
      "        \r\n",
      "    \u001b[34mreturn\u001b[39;49;00m np.array(result), np.array(lengths)\r\n"
     ]
    }
   ],
   "source": [
    "!pygmentize serve/predict.py"
   ]
  },
  {
   "cell_type": "markdown",
   "metadata": {},
   "source": [
    "As mentioned earlier, the `model_fn` method is the same as the one provided in the training code and the `input_fn` and `output_fn` methods are very simple and your task will be to complete the `predict_fn` method. Make sure that you save the completed file as `predict.py` in the `serve` directory.\n",
    "\n",
    "**TODO**: Complete the `predict_fn()` method in the `serve/predict.py` file."
   ]
  },
  {
   "cell_type": "markdown",
   "metadata": {},
   "source": [
    "### Deploying the model\n",
    "\n",
    "Now that the custom inference code has been written, we will create and deploy our model. To begin with, we need to construct a new PyTorchModel object which points to the model artifacts created during training and also points to the inference code that we wish to use. Then we can call the deploy method to launch the deployment container.\n",
    "\n",
    "**NOTE**: The default behaviour for a deployed PyTorch model is to assume that any input passed to the predictor is a `numpy` array. In our case we want to send a string so we need to construct a simple wrapper around the `RealTimePredictor` class to accomodate simple strings. In a more complicated situation you may want to provide a serialization object, for example if you wanted to sent image data."
   ]
  },
  {
   "cell_type": "code",
   "execution_count": 39,
   "metadata": {},
   "outputs": [
    {
     "name": "stderr",
     "output_type": "stream",
     "text": [
      "Parameter image will be renamed to image_uri in SageMaker Python SDK v2.\n",
      "'create_image_uri' will be deprecated in favor of 'ImageURIProvider' class in SageMaker Python SDK v2.\n"
     ]
    },
    {
     "name": "stdout",
     "output_type": "stream",
     "text": [
      "---------------!"
     ]
    }
   ],
   "source": [
    "from sagemaker.predictor import RealTimePredictor\n",
    "from sagemaker.pytorch import PyTorchModel\n",
    "\n",
    "class StringPredictor(RealTimePredictor):\n",
    "    def __init__(self, endpoint_name, sagemaker_session):\n",
    "        super(StringPredictor, self).__init__(endpoint_name, sagemaker_session, content_type='text/plain')\n",
    "\n",
    "model = PyTorchModel(model_data=estimator.model_data,\n",
    "                     role = role,\n",
    "                     framework_version='0.4.0',\n",
    "                     entry_point='predict.py',\n",
    "                     source_dir='serve',\n",
    "                     py_version=\"py3\",\n",
    "                     predictor_cls=StringPredictor)\n",
    "predictor = model.deploy(initial_instance_count=1, instance_type='ml.m4.xlarge')"
   ]
  },
  {
   "cell_type": "markdown",
   "metadata": {},
   "source": [
    "### Testing the model\n",
    "\n",
    "Now that we have deployed our model with the custom inference code, we should test to see if everything is working. Here we test our model by loading the first `250` positive and negative reviews and send them to the endpoint, then collect the results. The reason for only sending some of the data is that the amount of time it takes for our model to process the input and then perform inference is quite long and so testing the entire data set would be prohibitive."
   ]
  },
  {
   "cell_type": "code",
   "execution_count": 40,
   "metadata": {},
   "outputs": [],
   "source": [
    "import glob\n",
    "\n",
    "def test_reviews(data_dir='../data/aclImdb', stop=250):\n",
    "    \n",
    "    results = []\n",
    "    ground = []\n",
    "    \n",
    "    # We make sure to test both positive and negative reviews    \n",
    "    for sentiment in ['pos', 'neg']:\n",
    "        \n",
    "        path = os.path.join(data_dir, 'test', sentiment, '*.txt')\n",
    "        files = glob.glob(path)\n",
    "        \n",
    "        files_read = 0\n",
    "        \n",
    "        print('Starting ', sentiment, ' files')\n",
    "        \n",
    "        # Iterate through the files and send them to the predictor\n",
    "        for f in files:\n",
    "            with open(f) as review:\n",
    "                # First, we store the ground truth (was the review positive or negative)\n",
    "                if sentiment == 'pos':\n",
    "                    ground.append(1)\n",
    "                else:\n",
    "                    ground.append(0)\n",
    "                # Read in the review and convert to 'utf-8' for transmission via HTTP\n",
    "                review_input = review.read().encode('utf-8')\n",
    "                # Send the review to the predictor and store the results\n",
    "                results.append(float(predictor.predict(review_input)))\n",
    "                \n",
    "            # Sending reviews to our endpoint one at a time takes a while so we\n",
    "            # only send a small number of reviews\n",
    "            files_read += 1\n",
    "            if files_read == stop:\n",
    "                break\n",
    "            \n",
    "    return ground, results"
   ]
  },
  {
   "cell_type": "code",
   "execution_count": 41,
   "metadata": {},
   "outputs": [
    {
     "name": "stdout",
     "output_type": "stream",
     "text": [
      "Starting  pos  files\n",
      "Starting  neg  files\n"
     ]
    }
   ],
   "source": [
    "ground, results = test_reviews()"
   ]
  },
  {
   "cell_type": "code",
   "execution_count": 42,
   "metadata": {},
   "outputs": [
    {
     "data": {
      "text/plain": [
       "0.864"
      ]
     },
     "execution_count": 42,
     "metadata": {},
     "output_type": "execute_result"
    }
   ],
   "source": [
    "from sklearn.metrics import accuracy_score\n",
    "accuracy_score(ground, results)"
   ]
  },
  {
   "cell_type": "markdown",
   "metadata": {},
   "source": [
    "As an additional test, we can try sending the `test_review` that we looked at earlier."
   ]
  },
  {
   "cell_type": "code",
   "execution_count": 43,
   "metadata": {},
   "outputs": [
    {
     "data": {
      "text/plain": [
       "b'1'"
      ]
     },
     "execution_count": 43,
     "metadata": {},
     "output_type": "execute_result"
    }
   ],
   "source": [
    "predictor.predict(test_review)"
   ]
  },
  {
   "cell_type": "markdown",
   "metadata": {},
   "source": [
    "Now that we know our endpoint is working as expected, we can set up the web page that will interact with it. If you don't have time to finish the project now, make sure to skip down to the end of this notebook and shut down your endpoint. You can deploy it again when you come back."
   ]
  },
  {
   "cell_type": "markdown",
   "metadata": {},
   "source": [
    "## Step 7 (again): Use the model for the web app\n",
    "\n",
    "> **TODO:** This entire section and the next contain tasks for you to complete, mostly using the AWS console.\n",
    "\n",
    "So far we have been accessing our model endpoint by constructing a predictor object which uses the endpoint and then just using the predictor object to perform inference. What if we wanted to create a web app which accessed our model? The way things are set up currently makes that not possible since in order to access a SageMaker endpoint the app would first have to authenticate with AWS using an IAM role which included access to SageMaker endpoints. However, there is an easier way! We just need to use some additional AWS services.\n",
    "\n",
    "<img src=\"Web App Diagram.svg\">\n",
    "\n",
    "The diagram above gives an overview of how the various services will work together. On the far right is the model which we trained above and which is deployed using SageMaker. On the far left is our web app that collects a user's movie review, sends it off and expects a positive or negative sentiment in return.\n",
    "\n",
    "In the middle is where some of the magic happens. We will construct a Lambda function, which you can think of as a straightforward Python function that can be executed whenever a specified event occurs. We will give this function permission to send and recieve data from a SageMaker endpoint.\n",
    "\n",
    "Lastly, the method we will use to execute the Lambda function is a new endpoint that we will create using API Gateway. This endpoint will be a url that listens for data to be sent to it. Once it gets some data it will pass that data on to the Lambda function and then return whatever the Lambda function returns. Essentially it will act as an interface that lets our web app communicate with the Lambda function.\n",
    "\n",
    "### Setting up a Lambda function\n",
    "\n",
    "The first thing we are going to do is set up a Lambda function. This Lambda function will be executed whenever our public API has data sent to it. When it is executed it will receive the data, perform any sort of processing that is required, send the data (the review) to the SageMaker endpoint we've created and then return the result.\n",
    "\n",
    "#### Part A: Create an IAM Role for the Lambda function\n",
    "\n",
    "Since we want the Lambda function to call a SageMaker endpoint, we need to make sure that it has permission to do so. To do this, we will construct a role that we can later give the Lambda function.\n",
    "\n",
    "Using the AWS Console, navigate to the **IAM** page and click on **Roles**. Then, click on **Create role**. Make sure that the **AWS service** is the type of trusted entity selected and choose **Lambda** as the service that will use this role, then click **Next: Permissions**.\n",
    "\n",
    "In the search box type `sagemaker` and select the check box next to the **AmazonSageMakerFullAccess** policy. Then, click on **Next: Review**.\n",
    "\n",
    "Lastly, give this role a name. Make sure you use a name that you will remember later on, for example `LambdaSageMakerRole`. Then, click on **Create role**.\n",
    "\n",
    "#### Part B: Create a Lambda function\n",
    "\n",
    "Now it is time to actually create the Lambda function.\n",
    "\n",
    "Using the AWS Console, navigate to the AWS Lambda page and click on **Create a function**. When you get to the next page, make sure that **Author from scratch** is selected. Now, name your Lambda function, using a name that you will remember later on, for example `sentiment_analysis_func`. Make sure that the **Python 3.6** runtime is selected and then choose the role that you created in the previous part. Then, click on **Create Function**.\n",
    "\n",
    "On the next page you will see some information about the Lambda function you've just created. If you scroll down you should see an editor in which you can write the code that will be executed when your Lambda function is triggered. In our example, we will use the code below. \n",
    "\n",
    "```python\n",
    "# We need to use the low-level library to interact with SageMaker since the SageMaker API\n",
    "# is not available natively through Lambda.\n",
    "import boto3\n",
    "\n",
    "def lambda_handler(event, context):\n",
    "\n",
    "    # The SageMaker runtime is what allows us to invoke the endpoint that we've created.\n",
    "    runtime = boto3.Session().client('sagemaker-runtime')\n",
    "\n",
    "    # Now we use the SageMaker runtime to invoke our endpoint, sending the review we were given\n",
    "    response = runtime.invoke_endpoint(EndpointName = '**ENDPOINT NAME HERE**',    # The name of the endpoint we created\n",
    "                                       ContentType = 'text/plain',                 # The data format that is expected\n",
    "                                       Body = event['body'])                       # The actual review\n",
    "\n",
    "    # The response is an HTTP response whose body contains the result of our inference\n",
    "    result = response['Body'].read().decode('utf-8')\n",
    "\n",
    "    return {\n",
    "        'statusCode' : 200,\n",
    "        'headers' : { 'Content-Type' : 'text/plain', 'Access-Control-Allow-Origin' : '*' },\n",
    "        'body' : result\n",
    "    }\n",
    "```\n",
    "\n",
    "Once you have copy and pasted the code above into the Lambda code editor, replace the `**ENDPOINT NAME HERE**` portion with the name of the endpoint that we deployed earlier. You can determine the name of the endpoint using the code cell below."
   ]
  },
  {
   "cell_type": "code",
   "execution_count": 44,
   "metadata": {},
   "outputs": [
    {
     "data": {
      "text/plain": [
       "'sagemaker-pytorch-2020-12-22-15-50-13-757'"
      ]
     },
     "execution_count": 44,
     "metadata": {},
     "output_type": "execute_result"
    }
   ],
   "source": [
    "predictor.endpoint"
   ]
  },
  {
   "cell_type": "markdown",
   "metadata": {},
   "source": [
    "Once you have added the endpoint name to the Lambda function, click on **Save**. Your Lambda function is now up and running. Next we need to create a way for our web app to execute the Lambda function.\n",
    "\n",
    "### Setting up API Gateway\n",
    "\n",
    "Now that our Lambda function is set up, it is time to create a new API using API Gateway that will trigger the Lambda function we have just created.\n",
    "\n",
    "Using AWS Console, navigate to **Amazon API Gateway** and then click on **Get started**.\n",
    "\n",
    "On the next page, make sure that **New API** is selected and give the new api a name, for example, `sentiment_analysis_api`. Then, click on **Create API**.\n",
    "\n",
    "Now we have created an API, however it doesn't currently do anything. What we want it to do is to trigger the Lambda function that we created earlier.\n",
    "\n",
    "Select the **Actions** dropdown menu and click **Create Method**. A new blank method will be created, select its dropdown menu and select **POST**, then click on the check mark beside it.\n",
    "\n",
    "For the integration point, make sure that **Lambda Function** is selected and click on the **Use Lambda Proxy integration**. This option makes sure that the data that is sent to the API is then sent directly to the Lambda function with no processing. It also means that the return value must be a proper response object as it will also not be processed by API Gateway.\n",
    "\n",
    "Type the name of the Lambda function you created earlier into the **Lambda Function** text entry box and then click on **Save**. Click on **OK** in the pop-up box that then appears, giving permission to API Gateway to invoke the Lambda function you created.\n",
    "\n",
    "The last step in creating the API Gateway is to select the **Actions** dropdown and click on **Deploy API**. You will need to create a new Deployment stage and name it anything you like, for example `prod`.\n",
    "\n",
    "You have now successfully set up a public API to access your SageMaker model. Make sure to copy or write down the URL provided to invoke your newly created public API as this will be needed in the next step. This URL can be found at the top of the page, highlighted in blue next to the text **Invoke URL**."
   ]
  },
  {
   "cell_type": "markdown",
   "metadata": {},
   "source": [
    "## Step 4: Deploying our web app\n",
    "\n",
    "Now that we have a publicly available API, we can start using it in a web app. For our purposes, we have provided a simple static html file which can make use of the public api you created earlier.\n",
    "\n",
    "In the `website` folder there should be a file called `index.html`. Download the file to your computer and open that file up in a text editor of your choice. There should be a line which contains **\\*\\*REPLACE WITH PUBLIC API URL\\*\\***. Replace this string with the url that you wrote down in the last step and then save the file.\n",
    "\n",
    "Now, if you open `index.html` on your local computer, your browser will behave as a local web server and you can use the provided site to interact with your SageMaker model.\n",
    "\n",
    "If you'd like to go further, you can host this html file anywhere you'd like, for example using github or hosting a static site on Amazon's S3. Once you have done this you can share the link with anyone you'd like and have them play with it too!\n",
    "\n",
    "> **Important Note** In order for the web app to communicate with the SageMaker endpoint, the endpoint has to actually be deployed and running. This means that you are paying for it. Make sure that the endpoint is running when you want to use the web app but that you shut it down when you don't need it, otherwise you will end up with a surprisingly large AWS bill.\n",
    "\n",
    "**TODO:** Make sure that you include the edited `index.html` file in your project submission."
   ]
  },
  {
   "cell_type": "markdown",
   "metadata": {},
   "source": [
    "Now that your web app is working, trying playing around with it and see how well it works.\n",
    "\n",
    "**Question**: Give an example of a review that you entered into your web app. What was the predicted sentiment of your example review?"
   ]
  },
  {
   "cell_type": "markdown",
   "metadata": {},
   "source": [
    "**Answer:** How could the producers even create something like this? This is a waste of time!!!"
   ]
  },
  {
   "cell_type": "markdown",
   "metadata": {},
   "source": [
    "### Delete the endpoint\n",
    "\n",
    "Remember to always shut down your endpoint if you are no longer using it. You are charged for the length of time that the endpoint is running so if you forget and leave it on you could end up with an unexpectedly large bill."
   ]
  },
  {
   "cell_type": "code",
   "execution_count": 45,
   "metadata": {},
   "outputs": [],
   "source": [
    "predictor.delete_endpoint()"
   ]
  },
  {
   "cell_type": "code",
   "execution_count": null,
   "metadata": {},
   "outputs": [],
   "source": []
  }
 ],
 "metadata": {
  "kernelspec": {
   "display_name": "conda_pytorch_p36",
   "language": "python",
   "name": "conda_pytorch_p36"
  },
  "language_info": {
   "codemirror_mode": {
    "name": "ipython",
    "version": 3
   },
   "file_extension": ".py",
   "mimetype": "text/x-python",
   "name": "python",
   "nbconvert_exporter": "python",
   "pygments_lexer": "ipython3",
   "version": "3.6.10"
  }
 },
 "nbformat": 4,
 "nbformat_minor": 2
}
